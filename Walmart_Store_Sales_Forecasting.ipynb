{
  "nbformat": 4,
  "nbformat_minor": 0,
  "metadata": {
    "kernelspec": {
      "display_name": "Python 3",
      "language": "python",
      "name": "python3"
    },
    "language_info": {
      "codemirror_mode": {
        "name": "ipython",
        "version": 3
      },
      "file_extension": ".py",
      "mimetype": "text/x-python",
      "name": "python",
      "nbconvert_exporter": "python",
      "pygments_lexer": "ipython3",
      "version": "3.7.4"
    },
    "colab": {
      "name": "Walmart Store Sales Forecasting.ipynb",
      "provenance": [],
      "collapsed_sections": [],
      "machine_shape": "hm"
    }
  },
  "cells": [
    {
      "cell_type": "code",
      "metadata": {
        "id": "1rZrXVel6WVa",
        "colab_type": "code",
        "colab": {}
      },
      "source": [
        "import numpy as np \n",
        "import pandas as pd"
      ],
      "execution_count": 0,
      "outputs": []
    },
    {
      "cell_type": "code",
      "metadata": {
        "id": "_lBpouU36WVq",
        "colab_type": "code",
        "colab": {}
      },
      "source": [
        "import matplotlib.pyplot as plt\n",
        "# %inline matplotlib.pyplot "
      ],
      "execution_count": 0,
      "outputs": []
    },
    {
      "cell_type": "markdown",
      "metadata": {
        "id": "Zqwx1Vhi6WV2",
        "colab_type": "text"
      },
      "source": [
        "---\n",
        "### Read the data from CSV files\n",
        "---"
      ]
    },
    {
      "cell_type": "code",
      "metadata": {
        "id": "M9Lexnod6WV3",
        "colab_type": "code",
        "colab": {
          "base_uri": "https://localhost:8080/",
          "height": 74
        },
        "outputId": "b3fcb104-f037-4b5a-f01d-c4a2ced8491a"
      },
      "source": [
        "features = pd.read_csv('features.csv')\n",
        "stores = pd.read_csv('stores.csv')\n",
        "test = pd.read_csv('test.csv')\n",
        "train = pd.read_csv('train.csv')\n"
      ],
      "execution_count": 3,
      "outputs": [
        {
          "output_type": "stream",
          "text": [
            "/usr/local/lib/python3.6/dist-packages/IPython/core/interactiveshell.py:2718: DtypeWarning: Columns (4) have mixed types.Specify dtype option on import or set low_memory=False.\n",
            "  interactivity=interactivity, compiler=compiler, result=result)\n"
          ],
          "name": "stderr"
        }
      ]
    },
    {
      "cell_type": "markdown",
      "metadata": {
        "id": "SteQZVfT6WWC",
        "colab_type": "text"
      },
      "source": [
        "Four files has been imported in the form of DataFrame."
      ]
    },
    {
      "cell_type": "markdown",
      "metadata": {
        "id": "v4s5fK5D6WWE",
        "colab_type": "text"
      },
      "source": [
        "### Explanatory Data Analysis\n"
      ]
    },
    {
      "cell_type": "code",
      "metadata": {
        "id": "jnfbJTND6WWF",
        "colab_type": "code",
        "outputId": "ed020015-6864-48c4-c974-8dfd03cd84c9",
        "colab": {
          "base_uri": "https://localhost:8080/",
          "height": 90
        }
      },
      "source": [
        "print('Features : ', features.shape)\n",
        "print('Stores   : ', stores.shape )\n",
        "print('Test     : ', test.shape)\n",
        "print('Train    : ', train.shape)"
      ],
      "execution_count": 4,
      "outputs": [
        {
          "output_type": "stream",
          "text": [
            "Features :  (8190, 12)\n",
            "Stores   :  (45, 3)\n",
            "Test     :  (115064, 4)\n",
            "Train    :  (309679, 5)\n"
          ],
          "name": "stdout"
        }
      ]
    },
    {
      "cell_type": "code",
      "metadata": {
        "id": "1MY2-oP66WWS",
        "colab_type": "code",
        "outputId": "74e8b226-da67-4335-857d-f81ac88d3eaf",
        "colab": {
          "base_uri": "https://localhost:8080/",
          "height": 366
        }
      },
      "source": [
        "features.info()"
      ],
      "execution_count": 5,
      "outputs": [
        {
          "output_type": "stream",
          "text": [
            "<class 'pandas.core.frame.DataFrame'>\n",
            "RangeIndex: 8190 entries, 0 to 8189\n",
            "Data columns (total 12 columns):\n",
            " #   Column        Non-Null Count  Dtype  \n",
            "---  ------        --------------  -----  \n",
            " 0   Store         8190 non-null   int64  \n",
            " 1   Date          8190 non-null   object \n",
            " 2   Temperature   8190 non-null   float64\n",
            " 3   Fuel_Price    8190 non-null   float64\n",
            " 4   MarkDown1     4032 non-null   float64\n",
            " 5   MarkDown2     2921 non-null   float64\n",
            " 6   MarkDown3     3613 non-null   float64\n",
            " 7   MarkDown4     3464 non-null   float64\n",
            " 8   MarkDown5     4050 non-null   float64\n",
            " 9   CPI           7605 non-null   float64\n",
            " 10  Unemployment  7605 non-null   float64\n",
            " 11  IsHoliday     8190 non-null   bool   \n",
            "dtypes: bool(1), float64(9), int64(1), object(1)\n",
            "memory usage: 712.0+ KB\n"
          ],
          "name": "stdout"
        }
      ]
    },
    {
      "cell_type": "code",
      "metadata": {
        "id": "hjcUasEM6WWc",
        "colab_type": "code",
        "colab": {
          "base_uri": "https://localhost:8080/",
          "height": 201
        },
        "outputId": "366b8fb3-eb97-4057-d3b9-3d367131260e"
      },
      "source": [
        "stores.info()"
      ],
      "execution_count": 6,
      "outputs": [
        {
          "output_type": "stream",
          "text": [
            "<class 'pandas.core.frame.DataFrame'>\n",
            "RangeIndex: 45 entries, 0 to 44\n",
            "Data columns (total 3 columns):\n",
            " #   Column  Non-Null Count  Dtype \n",
            "---  ------  --------------  ----- \n",
            " 0   Store   45 non-null     int64 \n",
            " 1   Type    45 non-null     object\n",
            " 2   Size    45 non-null     int64 \n",
            "dtypes: int64(2), object(1)\n",
            "memory usage: 1.2+ KB\n"
          ],
          "name": "stdout"
        }
      ]
    },
    {
      "cell_type": "code",
      "metadata": {
        "id": "Ol00qODD6WWk",
        "colab_type": "code",
        "outputId": "4ce8bb30-2a60-4dbe-9425-0bc23b9b30a0",
        "colab": {
          "base_uri": "https://localhost:8080/",
          "height": 237
        }
      },
      "source": [
        "train.info()"
      ],
      "execution_count": 7,
      "outputs": [
        {
          "output_type": "stream",
          "text": [
            "<class 'pandas.core.frame.DataFrame'>\n",
            "RangeIndex: 309679 entries, 0 to 309678\n",
            "Data columns (total 5 columns):\n",
            " #   Column        Non-Null Count   Dtype  \n",
            "---  ------        --------------   -----  \n",
            " 0   Store         309679 non-null  int64  \n",
            " 1   Dept          309679 non-null  int64  \n",
            " 2   Date          309679 non-null  object \n",
            " 3   Weekly_Sales  309679 non-null  float64\n",
            " 4   IsHoliday     309678 non-null  object \n",
            "dtypes: float64(1), int64(2), object(2)\n",
            "memory usage: 11.8+ MB\n"
          ],
          "name": "stdout"
        }
      ]
    },
    {
      "cell_type": "code",
      "metadata": {
        "id": "kjtBwDw46WWr",
        "colab_type": "code",
        "colab": {
          "base_uri": "https://localhost:8080/",
          "height": 219
        },
        "outputId": "2bf5546f-a47a-40be-bdd0-45ad4cecf750"
      },
      "source": [
        "test.info()"
      ],
      "execution_count": 8,
      "outputs": [
        {
          "output_type": "stream",
          "text": [
            "<class 'pandas.core.frame.DataFrame'>\n",
            "RangeIndex: 115064 entries, 0 to 115063\n",
            "Data columns (total 4 columns):\n",
            " #   Column     Non-Null Count   Dtype \n",
            "---  ------     --------------   ----- \n",
            " 0   Store      115064 non-null  int64 \n",
            " 1   Dept       115064 non-null  int64 \n",
            " 2   Date       115064 non-null  object\n",
            " 3   IsHoliday  115064 non-null  bool  \n",
            "dtypes: bool(1), int64(2), object(1)\n",
            "memory usage: 2.7+ MB\n"
          ],
          "name": "stdout"
        }
      ]
    },
    {
      "cell_type": "markdown",
      "metadata": {
        "id": "LCxBCeaJ6WWy",
        "colab_type": "text"
      },
      "source": [
        "### Data Manipulation"
      ]
    },
    {
      "cell_type": "markdown",
      "metadata": {
        "id": "4qHQXyg-6WW0",
        "colab_type": "text"
      },
      "source": [
        "---\n",
        "#### Missing Value Treatment \n",
        "---"
      ]
    },
    {
      "cell_type": "code",
      "metadata": {
        "id": "2099N9_A6WW1",
        "colab_type": "code",
        "outputId": "567a5eb1-07cf-4d84-ded3-cf2b4c94e4c8",
        "colab": {
          "base_uri": "https://localhost:8080/",
          "height": 256
        }
      },
      "source": [
        "features.isnull().sum()"
      ],
      "execution_count": 9,
      "outputs": [
        {
          "output_type": "execute_result",
          "data": {
            "text/plain": [
              "Store              0\n",
              "Date               0\n",
              "Temperature        0\n",
              "Fuel_Price         0\n",
              "MarkDown1       4158\n",
              "MarkDown2       5269\n",
              "MarkDown3       4577\n",
              "MarkDown4       4726\n",
              "MarkDown5       4140\n",
              "CPI              585\n",
              "Unemployment     585\n",
              "IsHoliday          0\n",
              "dtype: int64"
            ]
          },
          "metadata": {
            "tags": []
          },
          "execution_count": 9
        }
      ]
    },
    {
      "cell_type": "markdown",
      "metadata": {
        "id": "nXOjfBvI6WW9",
        "colab_type": "text"
      },
      "source": [
        "As we have few NaN for CPI and Unemployment, therefore we fill the missing values with their respective column mean. And as MarkDowns have more missing values we impute zeros in missing places respectively"
      ]
    },
    {
      "cell_type": "code",
      "metadata": {
        "id": "U2k30buv6WW_",
        "colab_type": "code",
        "colab": {}
      },
      "source": [
        "# Treat Missing Values with their respective mean\n",
        "features['CPI'] = features['CPI'].fillna(np.mean(features['CPI'] ))\n",
        "features['Unemployment'] = features['Unemployment'].fillna(np.mean(features['Unemployment'] ))\n",
        "\n",
        "# Treat Missing Values with zeroes\n",
        "features['MarkDown1'] = features['MarkDown1'].fillna(0)\n",
        "features['MarkDown2'] = features['MarkDown1'].fillna(0)\n",
        "features['MarkDown3'] = features['MarkDown1'].fillna(0)\n",
        "features['MarkDown4'] = features['MarkDown1'].fillna(0)\n",
        "features['MarkDown5'] = features['MarkDown1'].fillna(0)"
      ],
      "execution_count": 0,
      "outputs": []
    },
    {
      "cell_type": "code",
      "metadata": {
        "id": "2IbEd9HA6WXG",
        "colab_type": "code",
        "outputId": "2c9112da-b04d-426b-c780-90ee42094ecb",
        "colab": {
          "base_uri": "https://localhost:8080/",
          "height": 256
        }
      },
      "source": [
        "features.isnull().sum()"
      ],
      "execution_count": 11,
      "outputs": [
        {
          "output_type": "execute_result",
          "data": {
            "text/plain": [
              "Store           0\n",
              "Date            0\n",
              "Temperature     0\n",
              "Fuel_Price      0\n",
              "MarkDown1       0\n",
              "MarkDown2       0\n",
              "MarkDown3       0\n",
              "MarkDown4       0\n",
              "MarkDown5       0\n",
              "CPI             0\n",
              "Unemployment    0\n",
              "IsHoliday       0\n",
              "dtype: int64"
            ]
          },
          "metadata": {
            "tags": []
          },
          "execution_count": 11
        }
      ]
    },
    {
      "cell_type": "markdown",
      "metadata": {
        "id": "77kmmFUs6WXO",
        "colab_type": "text"
      },
      "source": [
        "<b> Missing values has been treated successfully. </b>"
      ]
    },
    {
      "cell_type": "markdown",
      "metadata": {
        "id": "hn6aVVdK6WXR",
        "colab_type": "text"
      },
      "source": [
        "### Merging with the Train ndata\n",
        "---"
      ]
    },
    {
      "cell_type": "code",
      "metadata": {
        "id": "gWkkFloA6WXS",
        "colab_type": "code",
        "outputId": "916fda60-f4bd-4810-c605-eb2f242ca69f",
        "colab": {
          "base_uri": "https://localhost:8080/",
          "height": 109
        }
      },
      "source": [
        "print(features.columns)\n",
        "print(features.shape)"
      ],
      "execution_count": 12,
      "outputs": [
        {
          "output_type": "stream",
          "text": [
            "Index(['Store', 'Date', 'Temperature', 'Fuel_Price', 'MarkDown1', 'MarkDown2',\n",
            "       'MarkDown3', 'MarkDown4', 'MarkDown5', 'CPI', 'Unemployment',\n",
            "       'IsHoliday'],\n",
            "      dtype='object')\n",
            "(8190, 12)\n"
          ],
          "name": "stdout"
        }
      ]
    },
    {
      "cell_type": "code",
      "metadata": {
        "id": "DxePYGG16WXY",
        "colab_type": "code",
        "outputId": "e1cb3c24-8f78-48d3-be3b-24319681e9bb",
        "colab": {
          "base_uri": "https://localhost:8080/",
          "height": 72
        }
      },
      "source": [
        "print(train.columns)\n",
        "print(train.shape)\n",
        "\n",
        "print(stores.columns)"
      ],
      "execution_count": 13,
      "outputs": [
        {
          "output_type": "stream",
          "text": [
            "Index(['Store', 'Dept', 'Date', 'Weekly_Sales', 'IsHoliday'], dtype='object')\n",
            "(309679, 5)\n",
            "Index(['Store', 'Type', 'Size'], dtype='object')\n"
          ],
          "name": "stdout"
        }
      ]
    },
    {
      "cell_type": "code",
      "metadata": {
        "id": "GMPW344u6WXh",
        "colab_type": "code",
        "colab": {}
      },
      "source": [
        "# Merge feature and training data\n",
        "new_df = pd.merge(features, train, on = ['Store', 'Date', 'IsHoliday'], how = 'inner')\n",
        "\n",
        "# merging(adding) all stores info with new training data\n",
        "df = pd.merge(new_df, stores, on = ['Store'], how = 'inner')"
      ],
      "execution_count": 0,
      "outputs": []
    },
    {
      "cell_type": "code",
      "metadata": {
        "id": "DQqOoxha6WXn",
        "colab_type": "code",
        "outputId": "60fc6bef-0544-4898-bc3f-7f5f47fb2afa",
        "colab": {
          "base_uri": "https://localhost:8080/",
          "height": 54
        }
      },
      "source": [
        "print(new_df.shape)\n",
        "print(df.shape)"
      ],
      "execution_count": 15,
      "outputs": [
        {
          "output_type": "stream",
          "text": [
            "(309678, 14)\n",
            "(309678, 16)\n"
          ],
          "name": "stdout"
        }
      ]
    },
    {
      "cell_type": "code",
      "metadata": {
        "id": "l99cVKtL6WXu",
        "colab_type": "code",
        "outputId": "eeb89c78-2dce-4830-f92b-9fac2b3e9fd7",
        "colab": {
          "base_uri": "https://localhost:8080/",
          "height": 226
        }
      },
      "source": [
        "df.head()"
      ],
      "execution_count": 16,
      "outputs": [
        {
          "output_type": "execute_result",
          "data": {
            "text/html": [
              "<div>\n",
              "<style scoped>\n",
              "    .dataframe tbody tr th:only-of-type {\n",
              "        vertical-align: middle;\n",
              "    }\n",
              "\n",
              "    .dataframe tbody tr th {\n",
              "        vertical-align: top;\n",
              "    }\n",
              "\n",
              "    .dataframe thead th {\n",
              "        text-align: right;\n",
              "    }\n",
              "</style>\n",
              "<table border=\"1\" class=\"dataframe\">\n",
              "  <thead>\n",
              "    <tr style=\"text-align: right;\">\n",
              "      <th></th>\n",
              "      <th>Store</th>\n",
              "      <th>Date</th>\n",
              "      <th>Temperature</th>\n",
              "      <th>Fuel_Price</th>\n",
              "      <th>MarkDown1</th>\n",
              "      <th>MarkDown2</th>\n",
              "      <th>MarkDown3</th>\n",
              "      <th>MarkDown4</th>\n",
              "      <th>MarkDown5</th>\n",
              "      <th>CPI</th>\n",
              "      <th>Unemployment</th>\n",
              "      <th>IsHoliday</th>\n",
              "      <th>Dept</th>\n",
              "      <th>Weekly_Sales</th>\n",
              "      <th>Type</th>\n",
              "      <th>Size</th>\n",
              "    </tr>\n",
              "  </thead>\n",
              "  <tbody>\n",
              "    <tr>\n",
              "      <th>0</th>\n",
              "      <td>1</td>\n",
              "      <td>2010-02-05</td>\n",
              "      <td>42.31</td>\n",
              "      <td>2.572</td>\n",
              "      <td>0.0</td>\n",
              "      <td>0.0</td>\n",
              "      <td>0.0</td>\n",
              "      <td>0.0</td>\n",
              "      <td>0.0</td>\n",
              "      <td>211.096358</td>\n",
              "      <td>8.106</td>\n",
              "      <td>False</td>\n",
              "      <td>1</td>\n",
              "      <td>24924.50</td>\n",
              "      <td>A</td>\n",
              "      <td>151315</td>\n",
              "    </tr>\n",
              "    <tr>\n",
              "      <th>1</th>\n",
              "      <td>1</td>\n",
              "      <td>2010-02-05</td>\n",
              "      <td>42.31</td>\n",
              "      <td>2.572</td>\n",
              "      <td>0.0</td>\n",
              "      <td>0.0</td>\n",
              "      <td>0.0</td>\n",
              "      <td>0.0</td>\n",
              "      <td>0.0</td>\n",
              "      <td>211.096358</td>\n",
              "      <td>8.106</td>\n",
              "      <td>False</td>\n",
              "      <td>2</td>\n",
              "      <td>50605.27</td>\n",
              "      <td>A</td>\n",
              "      <td>151315</td>\n",
              "    </tr>\n",
              "    <tr>\n",
              "      <th>2</th>\n",
              "      <td>1</td>\n",
              "      <td>2010-02-05</td>\n",
              "      <td>42.31</td>\n",
              "      <td>2.572</td>\n",
              "      <td>0.0</td>\n",
              "      <td>0.0</td>\n",
              "      <td>0.0</td>\n",
              "      <td>0.0</td>\n",
              "      <td>0.0</td>\n",
              "      <td>211.096358</td>\n",
              "      <td>8.106</td>\n",
              "      <td>False</td>\n",
              "      <td>3</td>\n",
              "      <td>13740.12</td>\n",
              "      <td>A</td>\n",
              "      <td>151315</td>\n",
              "    </tr>\n",
              "    <tr>\n",
              "      <th>3</th>\n",
              "      <td>1</td>\n",
              "      <td>2010-02-05</td>\n",
              "      <td>42.31</td>\n",
              "      <td>2.572</td>\n",
              "      <td>0.0</td>\n",
              "      <td>0.0</td>\n",
              "      <td>0.0</td>\n",
              "      <td>0.0</td>\n",
              "      <td>0.0</td>\n",
              "      <td>211.096358</td>\n",
              "      <td>8.106</td>\n",
              "      <td>False</td>\n",
              "      <td>4</td>\n",
              "      <td>39954.04</td>\n",
              "      <td>A</td>\n",
              "      <td>151315</td>\n",
              "    </tr>\n",
              "    <tr>\n",
              "      <th>4</th>\n",
              "      <td>1</td>\n",
              "      <td>2010-02-05</td>\n",
              "      <td>42.31</td>\n",
              "      <td>2.572</td>\n",
              "      <td>0.0</td>\n",
              "      <td>0.0</td>\n",
              "      <td>0.0</td>\n",
              "      <td>0.0</td>\n",
              "      <td>0.0</td>\n",
              "      <td>211.096358</td>\n",
              "      <td>8.106</td>\n",
              "      <td>False</td>\n",
              "      <td>5</td>\n",
              "      <td>32229.38</td>\n",
              "      <td>A</td>\n",
              "      <td>151315</td>\n",
              "    </tr>\n",
              "  </tbody>\n",
              "</table>\n",
              "</div>"
            ],
            "text/plain": [
              "   Store        Date  Temperature  Fuel_Price  ...  Dept  Weekly_Sales  Type    Size\n",
              "0      1  2010-02-05        42.31       2.572  ...     1      24924.50     A  151315\n",
              "1      1  2010-02-05        42.31       2.572  ...     2      50605.27     A  151315\n",
              "2      1  2010-02-05        42.31       2.572  ...     3      13740.12     A  151315\n",
              "3      1  2010-02-05        42.31       2.572  ...     4      39954.04     A  151315\n",
              "4      1  2010-02-05        42.31       2.572  ...     5      32229.38     A  151315\n",
              "\n",
              "[5 rows x 16 columns]"
            ]
          },
          "metadata": {
            "tags": []
          },
          "execution_count": 16
        }
      ]
    },
    {
      "cell_type": "markdown",
      "metadata": {
        "id": "GRD7ME8T6WX0",
        "colab_type": "text"
      },
      "source": [
        "### Merge test data"
      ]
    },
    {
      "cell_type": "code",
      "metadata": {
        "id": "qU0rOice6WX1",
        "colab_type": "code",
        "colab": {}
      },
      "source": [
        "# Merge feature and training data\n",
        "new_df_test = pd.merge(features, test, on = ['Store', 'Date', 'IsHoliday'], how = 'inner')\n",
        "\n",
        "# merging(adding) all stores info with new training data\n",
        "df_test = pd.merge(new_df_test, stores, on = ['Store'], how = 'inner')"
      ],
      "execution_count": 0,
      "outputs": []
    },
    {
      "cell_type": "code",
      "metadata": {
        "id": "__WVKrC-6WX7",
        "colab_type": "code",
        "outputId": "fccfd999-b500-41a1-841b-491043777fba",
        "colab": {
          "base_uri": "https://localhost:8080/",
          "height": 35
        }
      },
      "source": [
        "df_test.shape"
      ],
      "execution_count": 18,
      "outputs": [
        {
          "output_type": "execute_result",
          "data": {
            "text/plain": [
              "(115064, 15)"
            ]
          },
          "metadata": {
            "tags": []
          },
          "execution_count": 18
        }
      ]
    },
    {
      "cell_type": "code",
      "metadata": {
        "id": "MpgFLoEs6WYA",
        "colab_type": "code",
        "outputId": "bfe55dad-a6da-4c50-9ee3-7cddabba7361",
        "colab": {
          "base_uri": "https://localhost:8080/",
          "height": 206
        }
      },
      "source": [
        "df_test.head()"
      ],
      "execution_count": 19,
      "outputs": [
        {
          "output_type": "execute_result",
          "data": {
            "text/html": [
              "<div>\n",
              "<style scoped>\n",
              "    .dataframe tbody tr th:only-of-type {\n",
              "        vertical-align: middle;\n",
              "    }\n",
              "\n",
              "    .dataframe tbody tr th {\n",
              "        vertical-align: top;\n",
              "    }\n",
              "\n",
              "    .dataframe thead th {\n",
              "        text-align: right;\n",
              "    }\n",
              "</style>\n",
              "<table border=\"1\" class=\"dataframe\">\n",
              "  <thead>\n",
              "    <tr style=\"text-align: right;\">\n",
              "      <th></th>\n",
              "      <th>Store</th>\n",
              "      <th>Date</th>\n",
              "      <th>Temperature</th>\n",
              "      <th>Fuel_Price</th>\n",
              "      <th>MarkDown1</th>\n",
              "      <th>MarkDown2</th>\n",
              "      <th>MarkDown3</th>\n",
              "      <th>MarkDown4</th>\n",
              "      <th>MarkDown5</th>\n",
              "      <th>CPI</th>\n",
              "      <th>Unemployment</th>\n",
              "      <th>IsHoliday</th>\n",
              "      <th>Dept</th>\n",
              "      <th>Type</th>\n",
              "      <th>Size</th>\n",
              "    </tr>\n",
              "  </thead>\n",
              "  <tbody>\n",
              "    <tr>\n",
              "      <th>0</th>\n",
              "      <td>1</td>\n",
              "      <td>2012-11-02</td>\n",
              "      <td>55.32</td>\n",
              "      <td>3.386</td>\n",
              "      <td>6766.44</td>\n",
              "      <td>6766.44</td>\n",
              "      <td>6766.44</td>\n",
              "      <td>6766.44</td>\n",
              "      <td>6766.44</td>\n",
              "      <td>223.462779</td>\n",
              "      <td>6.573</td>\n",
              "      <td>False</td>\n",
              "      <td>1</td>\n",
              "      <td>A</td>\n",
              "      <td>151315</td>\n",
              "    </tr>\n",
              "    <tr>\n",
              "      <th>1</th>\n",
              "      <td>1</td>\n",
              "      <td>2012-11-02</td>\n",
              "      <td>55.32</td>\n",
              "      <td>3.386</td>\n",
              "      <td>6766.44</td>\n",
              "      <td>6766.44</td>\n",
              "      <td>6766.44</td>\n",
              "      <td>6766.44</td>\n",
              "      <td>6766.44</td>\n",
              "      <td>223.462779</td>\n",
              "      <td>6.573</td>\n",
              "      <td>False</td>\n",
              "      <td>2</td>\n",
              "      <td>A</td>\n",
              "      <td>151315</td>\n",
              "    </tr>\n",
              "    <tr>\n",
              "      <th>2</th>\n",
              "      <td>1</td>\n",
              "      <td>2012-11-02</td>\n",
              "      <td>55.32</td>\n",
              "      <td>3.386</td>\n",
              "      <td>6766.44</td>\n",
              "      <td>6766.44</td>\n",
              "      <td>6766.44</td>\n",
              "      <td>6766.44</td>\n",
              "      <td>6766.44</td>\n",
              "      <td>223.462779</td>\n",
              "      <td>6.573</td>\n",
              "      <td>False</td>\n",
              "      <td>3</td>\n",
              "      <td>A</td>\n",
              "      <td>151315</td>\n",
              "    </tr>\n",
              "    <tr>\n",
              "      <th>3</th>\n",
              "      <td>1</td>\n",
              "      <td>2012-11-02</td>\n",
              "      <td>55.32</td>\n",
              "      <td>3.386</td>\n",
              "      <td>6766.44</td>\n",
              "      <td>6766.44</td>\n",
              "      <td>6766.44</td>\n",
              "      <td>6766.44</td>\n",
              "      <td>6766.44</td>\n",
              "      <td>223.462779</td>\n",
              "      <td>6.573</td>\n",
              "      <td>False</td>\n",
              "      <td>4</td>\n",
              "      <td>A</td>\n",
              "      <td>151315</td>\n",
              "    </tr>\n",
              "    <tr>\n",
              "      <th>4</th>\n",
              "      <td>1</td>\n",
              "      <td>2012-11-02</td>\n",
              "      <td>55.32</td>\n",
              "      <td>3.386</td>\n",
              "      <td>6766.44</td>\n",
              "      <td>6766.44</td>\n",
              "      <td>6766.44</td>\n",
              "      <td>6766.44</td>\n",
              "      <td>6766.44</td>\n",
              "      <td>223.462779</td>\n",
              "      <td>6.573</td>\n",
              "      <td>False</td>\n",
              "      <td>5</td>\n",
              "      <td>A</td>\n",
              "      <td>151315</td>\n",
              "    </tr>\n",
              "  </tbody>\n",
              "</table>\n",
              "</div>"
            ],
            "text/plain": [
              "   Store        Date  Temperature  Fuel_Price  ...  IsHoliday  Dept  Type    Size\n",
              "0      1  2012-11-02        55.32       3.386  ...      False     1     A  151315\n",
              "1      1  2012-11-02        55.32       3.386  ...      False     2     A  151315\n",
              "2      1  2012-11-02        55.32       3.386  ...      False     3     A  151315\n",
              "3      1  2012-11-02        55.32       3.386  ...      False     4     A  151315\n",
              "4      1  2012-11-02        55.32       3.386  ...      False     5     A  151315\n",
              "\n",
              "[5 rows x 15 columns]"
            ]
          },
          "metadata": {
            "tags": []
          },
          "execution_count": 19
        }
      ]
    },
    {
      "cell_type": "markdown",
      "metadata": {
        "id": "TFSvZTzM6WYI",
        "colab_type": "text"
      },
      "source": [
        "<b> All data has been merge successfully. </b>"
      ]
    },
    {
      "cell_type": "code",
      "metadata": {
        "id": "Mgs5NVqh6WYK",
        "colab_type": "code",
        "outputId": "d5f7d6b8-6c0a-4737-9cb1-b8648ebc122b",
        "colab": {
          "base_uri": "https://localhost:8080/",
          "height": 697
        }
      },
      "source": [
        "# Sort the data w.r.t 'Date' as we have time series problem\n",
        "df = df.sort_values(by = 'Date')\n",
        "df.head(20)"
      ],
      "execution_count": 20,
      "outputs": [
        {
          "output_type": "execute_result",
          "data": {
            "text/html": [
              "<div>\n",
              "<style scoped>\n",
              "    .dataframe tbody tr th:only-of-type {\n",
              "        vertical-align: middle;\n",
              "    }\n",
              "\n",
              "    .dataframe tbody tr th {\n",
              "        vertical-align: top;\n",
              "    }\n",
              "\n",
              "    .dataframe thead th {\n",
              "        text-align: right;\n",
              "    }\n",
              "</style>\n",
              "<table border=\"1\" class=\"dataframe\">\n",
              "  <thead>\n",
              "    <tr style=\"text-align: right;\">\n",
              "      <th></th>\n",
              "      <th>Store</th>\n",
              "      <th>Date</th>\n",
              "      <th>Temperature</th>\n",
              "      <th>Fuel_Price</th>\n",
              "      <th>MarkDown1</th>\n",
              "      <th>MarkDown2</th>\n",
              "      <th>MarkDown3</th>\n",
              "      <th>MarkDown4</th>\n",
              "      <th>MarkDown5</th>\n",
              "      <th>CPI</th>\n",
              "      <th>Unemployment</th>\n",
              "      <th>IsHoliday</th>\n",
              "      <th>Dept</th>\n",
              "      <th>Weekly_Sales</th>\n",
              "      <th>Type</th>\n",
              "      <th>Size</th>\n",
              "    </tr>\n",
              "  </thead>\n",
              "  <tbody>\n",
              "    <tr>\n",
              "      <th>0</th>\n",
              "      <td>1</td>\n",
              "      <td>2010-02-05</td>\n",
              "      <td>42.31</td>\n",
              "      <td>2.572</td>\n",
              "      <td>0.0</td>\n",
              "      <td>0.0</td>\n",
              "      <td>0.0</td>\n",
              "      <td>0.0</td>\n",
              "      <td>0.0</td>\n",
              "      <td>211.096358</td>\n",
              "      <td>8.106</td>\n",
              "      <td>False</td>\n",
              "      <td>1</td>\n",
              "      <td>24924.50</td>\n",
              "      <td>A</td>\n",
              "      <td>151315</td>\n",
              "    </tr>\n",
              "    <tr>\n",
              "      <th>78700</th>\n",
              "      <td>9</td>\n",
              "      <td>2010-02-05</td>\n",
              "      <td>38.01</td>\n",
              "      <td>2.572</td>\n",
              "      <td>0.0</td>\n",
              "      <td>0.0</td>\n",
              "      <td>0.0</td>\n",
              "      <td>0.0</td>\n",
              "      <td>0.0</td>\n",
              "      <td>214.655459</td>\n",
              "      <td>6.415</td>\n",
              "      <td>False</td>\n",
              "      <td>54</td>\n",
              "      <td>178.00</td>\n",
              "      <td>B</td>\n",
              "      <td>125833</td>\n",
              "    </tr>\n",
              "    <tr>\n",
              "      <th>78701</th>\n",
              "      <td>9</td>\n",
              "      <td>2010-02-05</td>\n",
              "      <td>38.01</td>\n",
              "      <td>2.572</td>\n",
              "      <td>0.0</td>\n",
              "      <td>0.0</td>\n",
              "      <td>0.0</td>\n",
              "      <td>0.0</td>\n",
              "      <td>0.0</td>\n",
              "      <td>214.655459</td>\n",
              "      <td>6.415</td>\n",
              "      <td>False</td>\n",
              "      <td>55</td>\n",
              "      <td>11123.56</td>\n",
              "      <td>B</td>\n",
              "      <td>125833</td>\n",
              "    </tr>\n",
              "    <tr>\n",
              "      <th>78702</th>\n",
              "      <td>9</td>\n",
              "      <td>2010-02-05</td>\n",
              "      <td>38.01</td>\n",
              "      <td>2.572</td>\n",
              "      <td>0.0</td>\n",
              "      <td>0.0</td>\n",
              "      <td>0.0</td>\n",
              "      <td>0.0</td>\n",
              "      <td>0.0</td>\n",
              "      <td>214.655459</td>\n",
              "      <td>6.415</td>\n",
              "      <td>False</td>\n",
              "      <td>56</td>\n",
              "      <td>769.32</td>\n",
              "      <td>B</td>\n",
              "      <td>125833</td>\n",
              "    </tr>\n",
              "    <tr>\n",
              "      <th>78703</th>\n",
              "      <td>9</td>\n",
              "      <td>2010-02-05</td>\n",
              "      <td>38.01</td>\n",
              "      <td>2.572</td>\n",
              "      <td>0.0</td>\n",
              "      <td>0.0</td>\n",
              "      <td>0.0</td>\n",
              "      <td>0.0</td>\n",
              "      <td>0.0</td>\n",
              "      <td>214.655459</td>\n",
              "      <td>6.415</td>\n",
              "      <td>False</td>\n",
              "      <td>59</td>\n",
              "      <td>241.86</td>\n",
              "      <td>B</td>\n",
              "      <td>125833</td>\n",
              "    </tr>\n",
              "    <tr>\n",
              "      <th>78704</th>\n",
              "      <td>9</td>\n",
              "      <td>2010-02-05</td>\n",
              "      <td>38.01</td>\n",
              "      <td>2.572</td>\n",
              "      <td>0.0</td>\n",
              "      <td>0.0</td>\n",
              "      <td>0.0</td>\n",
              "      <td>0.0</td>\n",
              "      <td>0.0</td>\n",
              "      <td>214.655459</td>\n",
              "      <td>6.415</td>\n",
              "      <td>False</td>\n",
              "      <td>67</td>\n",
              "      <td>3596.09</td>\n",
              "      <td>B</td>\n",
              "      <td>125833</td>\n",
              "    </tr>\n",
              "    <tr>\n",
              "      <th>78705</th>\n",
              "      <td>9</td>\n",
              "      <td>2010-02-05</td>\n",
              "      <td>38.01</td>\n",
              "      <td>2.572</td>\n",
              "      <td>0.0</td>\n",
              "      <td>0.0</td>\n",
              "      <td>0.0</td>\n",
              "      <td>0.0</td>\n",
              "      <td>0.0</td>\n",
              "      <td>214.655459</td>\n",
              "      <td>6.415</td>\n",
              "      <td>False</td>\n",
              "      <td>71</td>\n",
              "      <td>2479.26</td>\n",
              "      <td>B</td>\n",
              "      <td>125833</td>\n",
              "    </tr>\n",
              "    <tr>\n",
              "      <th>78706</th>\n",
              "      <td>9</td>\n",
              "      <td>2010-02-05</td>\n",
              "      <td>38.01</td>\n",
              "      <td>2.572</td>\n",
              "      <td>0.0</td>\n",
              "      <td>0.0</td>\n",
              "      <td>0.0</td>\n",
              "      <td>0.0</td>\n",
              "      <td>0.0</td>\n",
              "      <td>214.655459</td>\n",
              "      <td>6.415</td>\n",
              "      <td>False</td>\n",
              "      <td>72</td>\n",
              "      <td>51530.74</td>\n",
              "      <td>B</td>\n",
              "      <td>125833</td>\n",
              "    </tr>\n",
              "    <tr>\n",
              "      <th>78707</th>\n",
              "      <td>9</td>\n",
              "      <td>2010-02-05</td>\n",
              "      <td>38.01</td>\n",
              "      <td>2.572</td>\n",
              "      <td>0.0</td>\n",
              "      <td>0.0</td>\n",
              "      <td>0.0</td>\n",
              "      <td>0.0</td>\n",
              "      <td>0.0</td>\n",
              "      <td>214.655459</td>\n",
              "      <td>6.415</td>\n",
              "      <td>False</td>\n",
              "      <td>74</td>\n",
              "      <td>8076.88</td>\n",
              "      <td>B</td>\n",
              "      <td>125833</td>\n",
              "    </tr>\n",
              "    <tr>\n",
              "      <th>78708</th>\n",
              "      <td>9</td>\n",
              "      <td>2010-02-05</td>\n",
              "      <td>38.01</td>\n",
              "      <td>2.572</td>\n",
              "      <td>0.0</td>\n",
              "      <td>0.0</td>\n",
              "      <td>0.0</td>\n",
              "      <td>0.0</td>\n",
              "      <td>0.0</td>\n",
              "      <td>214.655459</td>\n",
              "      <td>6.415</td>\n",
              "      <td>False</td>\n",
              "      <td>79</td>\n",
              "      <td>14562.38</td>\n",
              "      <td>B</td>\n",
              "      <td>125833</td>\n",
              "    </tr>\n",
              "    <tr>\n",
              "      <th>78709</th>\n",
              "      <td>9</td>\n",
              "      <td>2010-02-05</td>\n",
              "      <td>38.01</td>\n",
              "      <td>2.572</td>\n",
              "      <td>0.0</td>\n",
              "      <td>0.0</td>\n",
              "      <td>0.0</td>\n",
              "      <td>0.0</td>\n",
              "      <td>0.0</td>\n",
              "      <td>214.655459</td>\n",
              "      <td>6.415</td>\n",
              "      <td>False</td>\n",
              "      <td>81</td>\n",
              "      <td>2056.57</td>\n",
              "      <td>B</td>\n",
              "      <td>125833</td>\n",
              "    </tr>\n",
              "    <tr>\n",
              "      <th>78710</th>\n",
              "      <td>9</td>\n",
              "      <td>2010-02-05</td>\n",
              "      <td>38.01</td>\n",
              "      <td>2.572</td>\n",
              "      <td>0.0</td>\n",
              "      <td>0.0</td>\n",
              "      <td>0.0</td>\n",
              "      <td>0.0</td>\n",
              "      <td>0.0</td>\n",
              "      <td>214.655459</td>\n",
              "      <td>6.415</td>\n",
              "      <td>False</td>\n",
              "      <td>82</td>\n",
              "      <td>8658.41</td>\n",
              "      <td>B</td>\n",
              "      <td>125833</td>\n",
              "    </tr>\n",
              "    <tr>\n",
              "      <th>78711</th>\n",
              "      <td>9</td>\n",
              "      <td>2010-02-05</td>\n",
              "      <td>38.01</td>\n",
              "      <td>2.572</td>\n",
              "      <td>0.0</td>\n",
              "      <td>0.0</td>\n",
              "      <td>0.0</td>\n",
              "      <td>0.0</td>\n",
              "      <td>0.0</td>\n",
              "      <td>214.655459</td>\n",
              "      <td>6.415</td>\n",
              "      <td>False</td>\n",
              "      <td>85</td>\n",
              "      <td>693.87</td>\n",
              "      <td>B</td>\n",
              "      <td>125833</td>\n",
              "    </tr>\n",
              "    <tr>\n",
              "      <th>78712</th>\n",
              "      <td>9</td>\n",
              "      <td>2010-02-05</td>\n",
              "      <td>38.01</td>\n",
              "      <td>2.572</td>\n",
              "      <td>0.0</td>\n",
              "      <td>0.0</td>\n",
              "      <td>0.0</td>\n",
              "      <td>0.0</td>\n",
              "      <td>0.0</td>\n",
              "      <td>214.655459</td>\n",
              "      <td>6.415</td>\n",
              "      <td>False</td>\n",
              "      <td>87</td>\n",
              "      <td>11680.93</td>\n",
              "      <td>B</td>\n",
              "      <td>125833</td>\n",
              "    </tr>\n",
              "    <tr>\n",
              "      <th>78713</th>\n",
              "      <td>9</td>\n",
              "      <td>2010-02-05</td>\n",
              "      <td>38.01</td>\n",
              "      <td>2.572</td>\n",
              "      <td>0.0</td>\n",
              "      <td>0.0</td>\n",
              "      <td>0.0</td>\n",
              "      <td>0.0</td>\n",
              "      <td>0.0</td>\n",
              "      <td>214.655459</td>\n",
              "      <td>6.415</td>\n",
              "      <td>False</td>\n",
              "      <td>90</td>\n",
              "      <td>2335.92</td>\n",
              "      <td>B</td>\n",
              "      <td>125833</td>\n",
              "    </tr>\n",
              "    <tr>\n",
              "      <th>78714</th>\n",
              "      <td>9</td>\n",
              "      <td>2010-02-05</td>\n",
              "      <td>38.01</td>\n",
              "      <td>2.572</td>\n",
              "      <td>0.0</td>\n",
              "      <td>0.0</td>\n",
              "      <td>0.0</td>\n",
              "      <td>0.0</td>\n",
              "      <td>0.0</td>\n",
              "      <td>214.655459</td>\n",
              "      <td>6.415</td>\n",
              "      <td>False</td>\n",
              "      <td>91</td>\n",
              "      <td>292.64</td>\n",
              "      <td>B</td>\n",
              "      <td>125833</td>\n",
              "    </tr>\n",
              "    <tr>\n",
              "      <th>78715</th>\n",
              "      <td>9</td>\n",
              "      <td>2010-02-05</td>\n",
              "      <td>38.01</td>\n",
              "      <td>2.572</td>\n",
              "      <td>0.0</td>\n",
              "      <td>0.0</td>\n",
              "      <td>0.0</td>\n",
              "      <td>0.0</td>\n",
              "      <td>0.0</td>\n",
              "      <td>214.655459</td>\n",
              "      <td>6.415</td>\n",
              "      <td>False</td>\n",
              "      <td>92</td>\n",
              "      <td>11620.09</td>\n",
              "      <td>B</td>\n",
              "      <td>125833</td>\n",
              "    </tr>\n",
              "    <tr>\n",
              "      <th>78716</th>\n",
              "      <td>9</td>\n",
              "      <td>2010-02-05</td>\n",
              "      <td>38.01</td>\n",
              "      <td>2.572</td>\n",
              "      <td>0.0</td>\n",
              "      <td>0.0</td>\n",
              "      <td>0.0</td>\n",
              "      <td>0.0</td>\n",
              "      <td>0.0</td>\n",
              "      <td>214.655459</td>\n",
              "      <td>6.415</td>\n",
              "      <td>False</td>\n",
              "      <td>95</td>\n",
              "      <td>23292.10</td>\n",
              "      <td>B</td>\n",
              "      <td>125833</td>\n",
              "    </tr>\n",
              "    <tr>\n",
              "      <th>78717</th>\n",
              "      <td>9</td>\n",
              "      <td>2010-02-05</td>\n",
              "      <td>38.01</td>\n",
              "      <td>2.572</td>\n",
              "      <td>0.0</td>\n",
              "      <td>0.0</td>\n",
              "      <td>0.0</td>\n",
              "      <td>0.0</td>\n",
              "      <td>0.0</td>\n",
              "      <td>214.655459</td>\n",
              "      <td>6.415</td>\n",
              "      <td>False</td>\n",
              "      <td>96</td>\n",
              "      <td>2438.08</td>\n",
              "      <td>B</td>\n",
              "      <td>125833</td>\n",
              "    </tr>\n",
              "    <tr>\n",
              "      <th>78718</th>\n",
              "      <td>9</td>\n",
              "      <td>2010-02-05</td>\n",
              "      <td>38.01</td>\n",
              "      <td>2.572</td>\n",
              "      <td>0.0</td>\n",
              "      <td>0.0</td>\n",
              "      <td>0.0</td>\n",
              "      <td>0.0</td>\n",
              "      <td>0.0</td>\n",
              "      <td>214.655459</td>\n",
              "      <td>6.415</td>\n",
              "      <td>False</td>\n",
              "      <td>97</td>\n",
              "      <td>668.48</td>\n",
              "      <td>B</td>\n",
              "      <td>125833</td>\n",
              "    </tr>\n",
              "  </tbody>\n",
              "</table>\n",
              "</div>"
            ],
            "text/plain": [
              "       Store        Date  Temperature  ...  Weekly_Sales  Type    Size\n",
              "0          1  2010-02-05        42.31  ...      24924.50     A  151315\n",
              "78700      9  2010-02-05        38.01  ...        178.00     B  125833\n",
              "78701      9  2010-02-05        38.01  ...      11123.56     B  125833\n",
              "78702      9  2010-02-05        38.01  ...        769.32     B  125833\n",
              "78703      9  2010-02-05        38.01  ...        241.86     B  125833\n",
              "78704      9  2010-02-05        38.01  ...       3596.09     B  125833\n",
              "78705      9  2010-02-05        38.01  ...       2479.26     B  125833\n",
              "78706      9  2010-02-05        38.01  ...      51530.74     B  125833\n",
              "78707      9  2010-02-05        38.01  ...       8076.88     B  125833\n",
              "78708      9  2010-02-05        38.01  ...      14562.38     B  125833\n",
              "78709      9  2010-02-05        38.01  ...       2056.57     B  125833\n",
              "78710      9  2010-02-05        38.01  ...       8658.41     B  125833\n",
              "78711      9  2010-02-05        38.01  ...        693.87     B  125833\n",
              "78712      9  2010-02-05        38.01  ...      11680.93     B  125833\n",
              "78713      9  2010-02-05        38.01  ...       2335.92     B  125833\n",
              "78714      9  2010-02-05        38.01  ...        292.64     B  125833\n",
              "78715      9  2010-02-05        38.01  ...      11620.09     B  125833\n",
              "78716      9  2010-02-05        38.01  ...      23292.10     B  125833\n",
              "78717      9  2010-02-05        38.01  ...       2438.08     B  125833\n",
              "78718      9  2010-02-05        38.01  ...        668.48     B  125833\n",
              "\n",
              "[20 rows x 16 columns]"
            ]
          },
          "metadata": {
            "tags": []
          },
          "execution_count": 20
        }
      ]
    },
    {
      "cell_type": "markdown",
      "metadata": {
        "id": "lFoMWPE06WYP",
        "colab_type": "text"
      },
      "source": [
        "---\n",
        "## Explanatory data Anlysis\n",
        "---"
      ]
    },
    {
      "cell_type": "code",
      "metadata": {
        "id": "H0v8TNqH6WYQ",
        "colab_type": "code",
        "outputId": "1f87cac0-f89a-4341-df2f-ba4a6eb04b53",
        "colab": {
          "base_uri": "https://localhost:8080/",
          "height": 109
        }
      },
      "source": [
        "sizes = df.groupby('Type')['Size'].count()\n",
        "print(sizes)"
      ],
      "execution_count": 21,
      "outputs": [
        {
          "output_type": "stream",
          "text": [
            "Type\n",
            "A    158192\n",
            "B    144330\n",
            "C      7156\n",
            "Name: Size, dtype: int64\n"
          ],
          "name": "stdout"
        }
      ]
    },
    {
      "cell_type": "code",
      "metadata": {
        "id": "u1x9EHf16WYX",
        "colab_type": "code",
        "outputId": "085f97bf-1f7f-4b1e-b036-fd691ba2fdcf",
        "colab": {
          "base_uri": "https://localhost:8080/",
          "height": 109
        }
      },
      "source": [
        "# Number of distinct Store in the dataframe\n",
        "df.groupby('Type')['Size'].nunique()"
      ],
      "execution_count": 22,
      "outputs": [
        {
          "output_type": "execute_result",
          "data": {
            "text/plain": [
              "Type\n",
              "A    15\n",
              "B    15\n",
              "C     1\n",
              "Name: Size, dtype: int64"
            ]
          },
          "metadata": {
            "tags": []
          },
          "execution_count": 22
        }
      ]
    },
    {
      "cell_type": "code",
      "metadata": {
        "id": "zR995Nmc6WYe",
        "colab_type": "code",
        "outputId": "09c531e9-dafa-43e7-df8e-3884c0f24153",
        "colab": {
          "base_uri": "https://localhost:8080/",
          "height": 267
        }
      },
      "source": [
        "labels = 'A store','B store','C store'\n",
        "sizes = [(21/(42))*100,(17/(42))*100,(4/(42))*100]\n",
        "fig1, ax1 = plt.subplots()\n",
        "\n",
        "ax1.pie(sizes, labels = labels, autopct='%1.1f%%',shadow=True, startangle=90)\n",
        "ax1.axis('equal')  # Equal aspect ratio ensures that pie is drawn as a circle.plt.show()"
      ],
      "execution_count": 23,
      "outputs": [
        {
          "output_type": "execute_result",
          "data": {
            "text/plain": [
              "(-1.1009281144465075, 1.1194904033766584, -1.1, 1.1)"
            ]
          },
          "metadata": {
            "tags": []
          },
          "execution_count": 23
        },
        {
          "output_type": "display_data",
          "data": {
            "image/png": "[encoded data removed]",
            "text/plain": [
              "<Figure size 432x288 with 1 Axes>"
            ]
          },
          "metadata": {
            "tags": []
          }
        }
      ]
    },
    {
      "cell_type": "code",
      "metadata": {
        "id": "ZpdDGG2r6WYj",
        "colab_type": "code",
        "outputId": "4dea71ac-7844-4933-ea8d-c68b6b362278",
        "colab": {
          "base_uri": "https://localhost:8080/",
          "height": 74
        }
      },
      "source": [
        "import seaborn as sns"
      ],
      "execution_count": 24,
      "outputs": [
        {
          "output_type": "stream",
          "text": [
            "/usr/local/lib/python3.6/dist-packages/statsmodels/tools/_testing.py:19: FutureWarning: pandas.util.testing is deprecated. Use the functions in the public API at pandas.testing instead.\n",
            "  import pandas.util.testing as tm\n"
          ],
          "name": "stderr"
        }
      ]
    },
    {
      "cell_type": "code",
      "metadata": {
        "id": "bAVKP_hr6WYp",
        "colab_type": "code",
        "outputId": "f941554c-51f4-4020-d409-2ef0d242f322",
        "colab": {
          "base_uri": "https://localhost:8080/",
          "height": 388
        }
      },
      "source": [
        "# Box plot for the size of the store\n",
        "\n",
        "store_type_size = pd.concat([stores['Type'], stores['Size']], axis = 1)\n",
        "f, ax = plt.subplots(figsize = (8, 6))\n",
        "fig = sns.boxplot(x = 'Type', y = 'Size', data= store_type_size)"
      ],
      "execution_count": 25,
      "outputs": [
        {
          "output_type": "display_data",
          "data": {
            "image/png": "[encoded data removed]",
            "text/plain": [
              "<Figure size 576x432 with 1 Axes>"
            ]
          },
          "metadata": {
            "tags": [],
            "needs_background": "light"
          }
        }
      ]
    },
    {
      "cell_type": "markdown",
      "metadata": {
        "id": "PzSpi8lS6WYv",
        "colab_type": "text"
      },
      "source": [
        "By boxplot and piechart, we can say that type A store is the largest store and C is the smallest"
      ]
    },
    {
      "cell_type": "code",
      "metadata": {
        "id": "YoaBDhfg6WY_",
        "colab_type": "code",
        "outputId": "85ea5b67-09df-4ec8-cde8-8f217d709475",
        "colab": {
          "base_uri": "https://localhost:8080/",
          "height": 388
        }
      },
      "source": [
        "# boxplot for weekly sales for different types of stores \n",
        "store_sales = pd.concat([stores['Type'], train['Weekly_Sales']], axis = 1)\n",
        "f1, ax1 = plt.subplots(figsize = (8, 6))\n",
        "fig1 = sns.boxplot(x = 'Type', y = 'Weekly_Sales', data = store_sales, showfliers = False)"
      ],
      "execution_count": 26,
      "outputs": [
        {
          "output_type": "display_data",
          "data": {
            "image/png": "[encoded data removed]",
            "text/plain": [
              "<Figure size 576x432 with 1 Axes>"
            ]
          },
          "metadata": {
            "tags": [],
            "needs_background": "light"
          }
        }
      ]
    },
    {
      "cell_type": "markdown",
      "metadata": {
        "id": "jVLrOIsz6WZH",
        "colab_type": "text"
      },
      "source": [
        "<b>\n",
        "The median of A is the highest and C is the lowest i.e stores with more sizes have higher sales.\n",
        "Sale is more on holidays as compare to other days\n",
        "</b>"
      ]
    },
    {
      "cell_type": "code",
      "metadata": {
        "id": "puwxhy5O6WZL",
        "colab_type": "code",
        "outputId": "eebdc84d-8434-4557-f055-fe1b84a93fb0",
        "colab": {
          "base_uri": "https://localhost:8080/",
          "height": 54
        }
      },
      "source": [
        "# Total count of sales on holidays and non-holidays\n",
        "is_holiday = train[train.IsHoliday == True]\n",
        "print('Sales on Holidays     : ', is_holiday['Weekly_Sales'].count())\n",
        "\n",
        "non_holiday = train[train.IsHoliday == False]\n",
        "print('Sales on Non-Holidays : ', is_holiday['Weekly_Sales'].count())"
      ],
      "execution_count": 27,
      "outputs": [
        {
          "output_type": "stream",
          "text": [
            "Sales on Holidays     :  21817\n",
            "Sales on Non-Holidays :  21817\n"
          ],
          "name": "stdout"
        }
      ]
    },
    {
      "cell_type": "markdown",
      "metadata": {
        "id": "E_L-4Ehs6WZQ",
        "colab_type": "text"
      },
      "source": [
        "---\n",
        "## Correlation\n",
        "    Correlation is a bivariate analysis that measures the strength of association b/w two variable .\n",
        "---"
      ]
    },
    {
      "cell_type": "code",
      "metadata": {
        "id": "-C239OMB6WZS",
        "colab_type": "code",
        "outputId": "6c470aec-4630-442f-803b-c2d61ac4ebbf",
        "colab": {
          "base_uri": "https://localhost:8080/",
          "height": 680
        }
      },
      "source": [
        "corr = df.corr()\n",
        "plt.figure(figsize = (15, 10))\n",
        "sns.heatmap(corr, annot = True)\n",
        "plt.plot()"
      ],
      "execution_count": 28,
      "outputs": [
        {
          "output_type": "execute_result",
          "data": {
            "text/plain": [
              "[]"
            ]
          },
          "metadata": {
            "tags": []
          },
          "execution_count": 28
        },
        {
          "output_type": "display_data",
          "data": {
            "image/png": "[encoded data removed]",
            "text/plain": [
              "<Figure size 1080x720 with 2 Axes>"
            ]
          },
          "metadata": {
            "tags": [],
            "needs_background": "light"
          }
        }
      ]
    },
    {
      "cell_type": "code",
      "metadata": {
        "id": "fayU3yGHWQpf",
        "colab_type": "code",
        "colab": {}
      },
      "source": [
        "# from google.colab import drive\n",
        "# drive.mount('/content/drive')"
      ],
      "execution_count": 0,
      "outputs": []
    },
    {
      "cell_type": "markdown",
      "metadata": {
        "id": "yAM3x5Bp6WZa",
        "colab_type": "text"
      },
      "source": [
        "<big>\n",
        "As we have seen in th heatmap, all markdowns are corelated with each other bacause we have filled it with zeroes\n",
        "</big>"
      ]
    },
    {
      "cell_type": "markdown",
      "metadata": {
        "id": "cKqV44NI6WZb",
        "colab_type": "text"
      },
      "source": [
        "\n",
        "From the BiVariate analysis, we can say that we have imp cols from df as follows : \n",
        "    - Store\n",
        "    - Tempreature\n",
        "    - Fuel Price\n",
        "    - CPI\n",
        "    - Unemployement\n",
        "    - IsHoliday\n",
        "    - Dept\n",
        "    - Weekly_Sales\n",
        "    - Size\n",
        "    \n"
      ]
    },
    {
      "cell_type": "code",
      "metadata": {
        "id": "AXASh9T_6WZc",
        "colab_type": "code",
        "colab": {}
      },
      "source": [
        "# exporting the correlation data into csv file\n",
        "corr.to_csv('corelation.csv')"
      ],
      "execution_count": 0,
      "outputs": []
    },
    {
      "cell_type": "markdown",
      "metadata": {
        "id": "lcVbSsIC6WZf",
        "colab_type": "text"
      },
      "source": [
        "---\n",
        "## Extracting new Dates, Years and holidays columns for train and test data\n",
        "---"
      ]
    },
    {
      "cell_type": "code",
      "metadata": {
        "id": "1_K8ckXl6WZg",
        "colab_type": "code",
        "colab": {}
      },
      "source": [
        "# Add column for Year Training dataset\n",
        "df['year'] = pd.to_datetime(df['Date'], format = '%Y-%m-%d').dt.year\n",
        "# test dataset\n",
        "df_test['year'] = pd.to_datetime(df['Date'], format = '%Y-%m-%d').dt.year\n",
        "\n",
        "# Add Column for the day\n",
        "df['day'] = pd.to_datetime(df['Date'], format = '%Y-%m-%d').dt.day\n",
        "df_test['day'] = pd.to_datetime(df['Date'], format = '%Y-%m-%d').dt.day\n",
        "\n",
        "# Add column for days to next christmas for Training\n",
        "df[\"Days to Next Christmas\"] = (pd.to_datetime(df['year'].astype(str)+ \"-12-31\", format=\"%Y-%m-%d\") -\n",
        "                                   pd.to_datetime(df[\"Date\"], format=\"%Y-%m-%d\")).dt.days.astype(int)\n",
        "\n",
        "# testing\n",
        "df_test[\"Days to Next Christmas\"] = (pd.to_datetime(df_test['year'].astype(str) + \"-12-31\", format=\"%Y-%m-%d\") -\n",
        "                                   pd.to_datetime(df_test[\"Date\"], format=\"%Y-%m-%d\")).dt.days.astype(int)"
      ],
      "execution_count": 0,
      "outputs": []
    },
    {
      "cell_type": "code",
      "metadata": {
        "id": "4--fmxty6WZj",
        "colab_type": "code",
        "outputId": "1a11cf46-1b7e-40b6-a8d3-da03e70ebcf8",
        "colab": {
          "base_uri": "https://localhost:8080/",
          "height": 261
        }
      },
      "source": [
        "df.head()\n",
        "# print(df_test)"
      ],
      "execution_count": 32,
      "outputs": [
        {
          "output_type": "execute_result",
          "data": {
            "text/html": [
              "<div>\n",
              "<style scoped>\n",
              "    .dataframe tbody tr th:only-of-type {\n",
              "        vertical-align: middle;\n",
              "    }\n",
              "\n",
              "    .dataframe tbody tr th {\n",
              "        vertical-align: top;\n",
              "    }\n",
              "\n",
              "    .dataframe thead th {\n",
              "        text-align: right;\n",
              "    }\n",
              "</style>\n",
              "<table border=\"1\" class=\"dataframe\">\n",
              "  <thead>\n",
              "    <tr style=\"text-align: right;\">\n",
              "      <th></th>\n",
              "      <th>Store</th>\n",
              "      <th>Date</th>\n",
              "      <th>Temperature</th>\n",
              "      <th>Fuel_Price</th>\n",
              "      <th>MarkDown1</th>\n",
              "      <th>MarkDown2</th>\n",
              "      <th>MarkDown3</th>\n",
              "      <th>MarkDown4</th>\n",
              "      <th>MarkDown5</th>\n",
              "      <th>CPI</th>\n",
              "      <th>Unemployment</th>\n",
              "      <th>IsHoliday</th>\n",
              "      <th>Dept</th>\n",
              "      <th>Weekly_Sales</th>\n",
              "      <th>Type</th>\n",
              "      <th>Size</th>\n",
              "      <th>year</th>\n",
              "      <th>day</th>\n",
              "      <th>Days to Next Christmas</th>\n",
              "    </tr>\n",
              "  </thead>\n",
              "  <tbody>\n",
              "    <tr>\n",
              "      <th>0</th>\n",
              "      <td>1</td>\n",
              "      <td>2010-02-05</td>\n",
              "      <td>42.31</td>\n",
              "      <td>2.572</td>\n",
              "      <td>0.0</td>\n",
              "      <td>0.0</td>\n",
              "      <td>0.0</td>\n",
              "      <td>0.0</td>\n",
              "      <td>0.0</td>\n",
              "      <td>211.096358</td>\n",
              "      <td>8.106</td>\n",
              "      <td>False</td>\n",
              "      <td>1</td>\n",
              "      <td>24924.50</td>\n",
              "      <td>A</td>\n",
              "      <td>151315</td>\n",
              "      <td>2010</td>\n",
              "      <td>5</td>\n",
              "      <td>329</td>\n",
              "    </tr>\n",
              "    <tr>\n",
              "      <th>78700</th>\n",
              "      <td>9</td>\n",
              "      <td>2010-02-05</td>\n",
              "      <td>38.01</td>\n",
              "      <td>2.572</td>\n",
              "      <td>0.0</td>\n",
              "      <td>0.0</td>\n",
              "      <td>0.0</td>\n",
              "      <td>0.0</td>\n",
              "      <td>0.0</td>\n",
              "      <td>214.655459</td>\n",
              "      <td>6.415</td>\n",
              "      <td>False</td>\n",
              "      <td>54</td>\n",
              "      <td>178.00</td>\n",
              "      <td>B</td>\n",
              "      <td>125833</td>\n",
              "      <td>2010</td>\n",
              "      <td>5</td>\n",
              "      <td>329</td>\n",
              "    </tr>\n",
              "    <tr>\n",
              "      <th>78701</th>\n",
              "      <td>9</td>\n",
              "      <td>2010-02-05</td>\n",
              "      <td>38.01</td>\n",
              "      <td>2.572</td>\n",
              "      <td>0.0</td>\n",
              "      <td>0.0</td>\n",
              "      <td>0.0</td>\n",
              "      <td>0.0</td>\n",
              "      <td>0.0</td>\n",
              "      <td>214.655459</td>\n",
              "      <td>6.415</td>\n",
              "      <td>False</td>\n",
              "      <td>55</td>\n",
              "      <td>11123.56</td>\n",
              "      <td>B</td>\n",
              "      <td>125833</td>\n",
              "      <td>2010</td>\n",
              "      <td>5</td>\n",
              "      <td>329</td>\n",
              "    </tr>\n",
              "    <tr>\n",
              "      <th>78702</th>\n",
              "      <td>9</td>\n",
              "      <td>2010-02-05</td>\n",
              "      <td>38.01</td>\n",
              "      <td>2.572</td>\n",
              "      <td>0.0</td>\n",
              "      <td>0.0</td>\n",
              "      <td>0.0</td>\n",
              "      <td>0.0</td>\n",
              "      <td>0.0</td>\n",
              "      <td>214.655459</td>\n",
              "      <td>6.415</td>\n",
              "      <td>False</td>\n",
              "      <td>56</td>\n",
              "      <td>769.32</td>\n",
              "      <td>B</td>\n",
              "      <td>125833</td>\n",
              "      <td>2010</td>\n",
              "      <td>5</td>\n",
              "      <td>329</td>\n",
              "    </tr>\n",
              "    <tr>\n",
              "      <th>78703</th>\n",
              "      <td>9</td>\n",
              "      <td>2010-02-05</td>\n",
              "      <td>38.01</td>\n",
              "      <td>2.572</td>\n",
              "      <td>0.0</td>\n",
              "      <td>0.0</td>\n",
              "      <td>0.0</td>\n",
              "      <td>0.0</td>\n",
              "      <td>0.0</td>\n",
              "      <td>214.655459</td>\n",
              "      <td>6.415</td>\n",
              "      <td>False</td>\n",
              "      <td>59</td>\n",
              "      <td>241.86</td>\n",
              "      <td>B</td>\n",
              "      <td>125833</td>\n",
              "      <td>2010</td>\n",
              "      <td>5</td>\n",
              "      <td>329</td>\n",
              "    </tr>\n",
              "  </tbody>\n",
              "</table>\n",
              "</div>"
            ],
            "text/plain": [
              "       Store        Date  Temperature  ...  year  day  Days to Next Christmas\n",
              "0          1  2010-02-05        42.31  ...  2010    5                     329\n",
              "78700      9  2010-02-05        38.01  ...  2010    5                     329\n",
              "78701      9  2010-02-05        38.01  ...  2010    5                     329\n",
              "78702      9  2010-02-05        38.01  ...  2010    5                     329\n",
              "78703      9  2010-02-05        38.01  ...  2010    5                     329\n",
              "\n",
              "[5 rows x 19 columns]"
            ]
          },
          "metadata": {
            "tags": []
          },
          "execution_count": 32
        }
      ]
    },
    {
      "cell_type": "code",
      "metadata": {
        "id": "ywVd4-tC6WZp",
        "colab_type": "code",
        "colab": {}
      },
      "source": [
        ""
      ],
      "execution_count": 0,
      "outputs": []
    },
    {
      "cell_type": "markdown",
      "metadata": {
        "id": "h_RppTVD6WZw",
        "colab_type": "text"
      },
      "source": [
        "## Data Description\n",
        "---"
      ]
    },
    {
      "cell_type": "code",
      "metadata": {
        "id": "k0Ky8qMs6WZy",
        "colab_type": "code",
        "colab": {}
      },
      "source": [
        "# dict(df.dtypes)"
      ],
      "execution_count": 0,
      "outputs": []
    },
    {
      "cell_type": "code",
      "metadata": {
        "id": "nb-LISth6WZ3",
        "colab_type": "code",
        "outputId": "4179941c-9ed5-44f9-8ad4-9f9fbd8d9032",
        "colab": {
          "base_uri": "https://localhost:8080/",
          "height": 74
        }
      },
      "source": [
        "numeric_vars = [key for key in dict(df.dtypes) if dict(df.dtypes)[key]  in ['float64', 'float32', 'int32', 'int64']]\n",
        "cat_vars = [key for key in dict(df.dtypes) if dict(df.dtypes)[key] in ['object']]\n",
        "\n",
        "print(numeric_vars)\n",
        "print(cat_vars)"
      ],
      "execution_count": 34,
      "outputs": [
        {
          "output_type": "stream",
          "text": [
            "['Store', 'Temperature', 'Fuel_Price', 'MarkDown1', 'MarkDown2', 'MarkDown3', 'MarkDown4', 'MarkDown5', 'CPI', 'Unemployment', 'Dept', 'Weekly_Sales', 'Size', 'year', 'day', 'Days to Next Christmas']\n",
            "['Date', 'IsHoliday', 'Type']\n"
          ],
          "name": "stdout"
        }
      ]
    },
    {
      "cell_type": "code",
      "metadata": {
        "id": "D1IoGGXS6WZ8",
        "colab_type": "code",
        "colab": {}
      },
      "source": [
        "# Create Data audit Report for continuous variables\n",
        "def continuous_var_summary(x):\n",
        "    return pd.Series([x.count(), x.isnull().sum(), x.sum(), x.mean(), x.median(),  \n",
        "                      x.std(), x.var(), x.min(), x.quantile(0.01), x.quantile(0.05),\n",
        "                          x.quantile(0.10),x.quantile(0.25),x.quantile(0.50),x.quantile(0.75), \n",
        "                              x.quantile(0.90),x.quantile(0.95), x.quantile(0.99),x.max()], \n",
        "                  index = ['N', 'NMISS', 'SUM', 'MEAN','MEDIAN', 'STD', 'VAR', 'MIN', 'P1', \n",
        "                               'P5' ,'P10' ,'P25' ,'P50' ,'P75' ,'P90' ,'P95' ,'P99' ,'MAX'])"
      ],
      "execution_count": 0,
      "outputs": []
    },
    {
      "cell_type": "code",
      "metadata": {
        "id": "Tle-YZWR6WaB",
        "colab_type": "code",
        "outputId": "6f2488e9-1eed-4afc-a31e-481ecae27a46",
        "colab": {
          "base_uri": "https://localhost:8080/",
          "height": 589
        }
      },
      "source": [
        "df_nums = df[numeric_vars]\n",
        "continuous_summary = df_nums.apply(continuous_var_summary).round(2).T\n",
        "continuous_summary"
      ],
      "execution_count": 36,
      "outputs": [
        {
          "output_type": "execute_result",
          "data": {
            "text/html": [
              "<div>\n",
              "<style scoped>\n",
              "    .dataframe tbody tr th:only-of-type {\n",
              "        vertical-align: middle;\n",
              "    }\n",
              "\n",
              "    .dataframe tbody tr th {\n",
              "        vertical-align: top;\n",
              "    }\n",
              "\n",
              "    .dataframe thead th {\n",
              "        text-align: right;\n",
              "    }\n",
              "</style>\n",
              "<table border=\"1\" class=\"dataframe\">\n",
              "  <thead>\n",
              "    <tr style=\"text-align: right;\">\n",
              "      <th></th>\n",
              "      <th>N</th>\n",
              "      <th>NMISS</th>\n",
              "      <th>SUM</th>\n",
              "      <th>MEAN</th>\n",
              "      <th>MEDIAN</th>\n",
              "      <th>STD</th>\n",
              "      <th>VAR</th>\n",
              "      <th>MIN</th>\n",
              "      <th>P1</th>\n",
              "      <th>P5</th>\n",
              "      <th>P10</th>\n",
              "      <th>P25</th>\n",
              "      <th>P50</th>\n",
              "      <th>P75</th>\n",
              "      <th>P90</th>\n",
              "      <th>P95</th>\n",
              "      <th>P99</th>\n",
              "      <th>MAX</th>\n",
              "    </tr>\n",
              "  </thead>\n",
              "  <tbody>\n",
              "    <tr>\n",
              "      <th>Store</th>\n",
              "      <td>309678.0</td>\n",
              "      <td>0.0</td>\n",
              "      <td>5.022757e+06</td>\n",
              "      <td>16.22</td>\n",
              "      <td>16.00</td>\n",
              "      <td>9.07</td>\n",
              "      <td>8.228000e+01</td>\n",
              "      <td>1.00</td>\n",
              "      <td>1.00</td>\n",
              "      <td>2.00</td>\n",
              "      <td>4.00</td>\n",
              "      <td>8.00</td>\n",
              "      <td>16.00</td>\n",
              "      <td>24.00</td>\n",
              "      <td>29.00</td>\n",
              "      <td>31.00</td>\n",
              "      <td>32.00</td>\n",
              "      <td>32.00</td>\n",
              "    </tr>\n",
              "    <tr>\n",
              "      <th>Temperature</th>\n",
              "      <td>309678.0</td>\n",
              "      <td>0.0</td>\n",
              "      <td>1.841315e+07</td>\n",
              "      <td>59.46</td>\n",
              "      <td>61.35</td>\n",
              "      <td>18.52</td>\n",
              "      <td>3.431200e+02</td>\n",
              "      <td>-2.06</td>\n",
              "      <td>17.94</td>\n",
              "      <td>26.58</td>\n",
              "      <td>33.18</td>\n",
              "      <td>46.14</td>\n",
              "      <td>61.35</td>\n",
              "      <td>73.52</td>\n",
              "      <td>83.36</td>\n",
              "      <td>87.16</td>\n",
              "      <td>91.65</td>\n",
              "      <td>99.22</td>\n",
              "    </tr>\n",
              "    <tr>\n",
              "      <th>Fuel_Price</th>\n",
              "      <td>309678.0</td>\n",
              "      <td>0.0</td>\n",
              "      <td>1.041841e+06</td>\n",
              "      <td>3.36</td>\n",
              "      <td>3.45</td>\n",
              "      <td>0.46</td>\n",
              "      <td>2.100000e-01</td>\n",
              "      <td>2.51</td>\n",
              "      <td>2.56</td>\n",
              "      <td>2.65</td>\n",
              "      <td>2.72</td>\n",
              "      <td>2.94</td>\n",
              "      <td>3.45</td>\n",
              "      <td>3.74</td>\n",
              "      <td>3.92</td>\n",
              "      <td>4.03</td>\n",
              "      <td>4.20</td>\n",
              "      <td>4.47</td>\n",
              "    </tr>\n",
              "    <tr>\n",
              "      <th>MarkDown1</th>\n",
              "      <td>309678.0</td>\n",
              "      <td>0.0</td>\n",
              "      <td>9.023102e+08</td>\n",
              "      <td>2913.70</td>\n",
              "      <td>0.00</td>\n",
              "      <td>6435.26</td>\n",
              "      <td>4.141260e+07</td>\n",
              "      <td>0.00</td>\n",
              "      <td>0.00</td>\n",
              "      <td>0.00</td>\n",
              "      <td>0.00</td>\n",
              "      <td>0.00</td>\n",
              "      <td>0.00</td>\n",
              "      <td>3690.95</td>\n",
              "      <td>9284.23</td>\n",
              "      <td>13396.45</td>\n",
              "      <td>31400.97</td>\n",
              "      <td>88646.76</td>\n",
              "    </tr>\n",
              "    <tr>\n",
              "      <th>MarkDown2</th>\n",
              "      <td>309678.0</td>\n",
              "      <td>0.0</td>\n",
              "      <td>9.023102e+08</td>\n",
              "      <td>2913.70</td>\n",
              "      <td>0.00</td>\n",
              "      <td>6435.26</td>\n",
              "      <td>4.141260e+07</td>\n",
              "      <td>0.00</td>\n",
              "      <td>0.00</td>\n",
              "      <td>0.00</td>\n",
              "      <td>0.00</td>\n",
              "      <td>0.00</td>\n",
              "      <td>0.00</td>\n",
              "      <td>3690.95</td>\n",
              "      <td>9284.23</td>\n",
              "      <td>13396.45</td>\n",
              "      <td>31400.97</td>\n",
              "      <td>88646.76</td>\n",
              "    </tr>\n",
              "    <tr>\n",
              "      <th>MarkDown3</th>\n",
              "      <td>309678.0</td>\n",
              "      <td>0.0</td>\n",
              "      <td>9.023102e+08</td>\n",
              "      <td>2913.70</td>\n",
              "      <td>0.00</td>\n",
              "      <td>6435.26</td>\n",
              "      <td>4.141260e+07</td>\n",
              "      <td>0.00</td>\n",
              "      <td>0.00</td>\n",
              "      <td>0.00</td>\n",
              "      <td>0.00</td>\n",
              "      <td>0.00</td>\n",
              "      <td>0.00</td>\n",
              "      <td>3690.95</td>\n",
              "      <td>9284.23</td>\n",
              "      <td>13396.45</td>\n",
              "      <td>31400.97</td>\n",
              "      <td>88646.76</td>\n",
              "    </tr>\n",
              "    <tr>\n",
              "      <th>MarkDown4</th>\n",
              "      <td>309678.0</td>\n",
              "      <td>0.0</td>\n",
              "      <td>9.023102e+08</td>\n",
              "      <td>2913.70</td>\n",
              "      <td>0.00</td>\n",
              "      <td>6435.26</td>\n",
              "      <td>4.141260e+07</td>\n",
              "      <td>0.00</td>\n",
              "      <td>0.00</td>\n",
              "      <td>0.00</td>\n",
              "      <td>0.00</td>\n",
              "      <td>0.00</td>\n",
              "      <td>0.00</td>\n",
              "      <td>3690.95</td>\n",
              "      <td>9284.23</td>\n",
              "      <td>13396.45</td>\n",
              "      <td>31400.97</td>\n",
              "      <td>88646.76</td>\n",
              "    </tr>\n",
              "    <tr>\n",
              "      <th>MarkDown5</th>\n",
              "      <td>309678.0</td>\n",
              "      <td>0.0</td>\n",
              "      <td>9.023102e+08</td>\n",
              "      <td>2913.70</td>\n",
              "      <td>0.00</td>\n",
              "      <td>6435.26</td>\n",
              "      <td>4.141260e+07</td>\n",
              "      <td>0.00</td>\n",
              "      <td>0.00</td>\n",
              "      <td>0.00</td>\n",
              "      <td>0.00</td>\n",
              "      <td>0.00</td>\n",
              "      <td>0.00</td>\n",
              "      <td>3690.95</td>\n",
              "      <td>9284.23</td>\n",
              "      <td>13396.45</td>\n",
              "      <td>31400.97</td>\n",
              "      <td>88646.76</td>\n",
              "    </tr>\n",
              "    <tr>\n",
              "      <th>CPI</th>\n",
              "      <td>309678.0</td>\n",
              "      <td>0.0</td>\n",
              "      <td>5.357548e+07</td>\n",
              "      <td>173.00</td>\n",
              "      <td>185.75</td>\n",
              "      <td>39.77</td>\n",
              "      <td>1.581430e+03</td>\n",
              "      <td>126.06</td>\n",
              "      <td>126.11</td>\n",
              "      <td>126.60</td>\n",
              "      <td>129.09</td>\n",
              "      <td>132.75</td>\n",
              "      <td>185.75</td>\n",
              "      <td>214.49</td>\n",
              "      <td>220.85</td>\n",
              "      <td>222.98</td>\n",
              "      <td>225.63</td>\n",
              "      <td>227.23</td>\n",
              "    </tr>\n",
              "    <tr>\n",
              "      <th>Unemployment</th>\n",
              "      <td>309678.0</td>\n",
              "      <td>0.0</td>\n",
              "      <td>2.423476e+06</td>\n",
              "      <td>7.83</td>\n",
              "      <td>7.77</td>\n",
              "      <td>1.81</td>\n",
              "      <td>3.270000e+00</td>\n",
              "      <td>3.88</td>\n",
              "      <td>4.16</td>\n",
              "      <td>5.44</td>\n",
              "      <td>6.05</td>\n",
              "      <td>6.83</td>\n",
              "      <td>7.77</td>\n",
              "      <td>8.32</td>\n",
              "      <td>9.27</td>\n",
              "      <td>12.19</td>\n",
              "      <td>14.18</td>\n",
              "      <td>14.31</td>\n",
              "    </tr>\n",
              "    <tr>\n",
              "      <th>Dept</th>\n",
              "      <td>309678.0</td>\n",
              "      <td>0.0</td>\n",
              "      <td>1.344466e+07</td>\n",
              "      <td>43.41</td>\n",
              "      <td>36.00</td>\n",
              "      <td>29.84</td>\n",
              "      <td>8.904000e+02</td>\n",
              "      <td>1.00</td>\n",
              "      <td>1.00</td>\n",
              "      <td>4.00</td>\n",
              "      <td>7.00</td>\n",
              "      <td>19.00</td>\n",
              "      <td>36.00</td>\n",
              "      <td>71.00</td>\n",
              "      <td>91.00</td>\n",
              "      <td>95.00</td>\n",
              "      <td>98.00</td>\n",
              "      <td>99.00</td>\n",
              "    </tr>\n",
              "    <tr>\n",
              "      <th>Weekly_Sales</th>\n",
              "      <td>309678.0</td>\n",
              "      <td>0.0</td>\n",
              "      <td>5.308084e+09</td>\n",
              "      <td>17140.66</td>\n",
              "      <td>8337.49</td>\n",
              "      <td>23941.85</td>\n",
              "      <td>5.732122e+08</td>\n",
              "      <td>-4988.94</td>\n",
              "      <td>6.35</td>\n",
              "      <td>132.00</td>\n",
              "      <td>580.00</td>\n",
              "      <td>2661.74</td>\n",
              "      <td>8337.49</td>\n",
              "      <td>21601.72</td>\n",
              "      <td>45301.54</td>\n",
              "      <td>65255.35</td>\n",
              "      <td>113423.30</td>\n",
              "      <td>693099.36</td>\n",
              "    </tr>\n",
              "    <tr>\n",
              "      <th>Size</th>\n",
              "      <td>309678.0</td>\n",
              "      <td>0.0</td>\n",
              "      <td>4.573207e+10</td>\n",
              "      <td>147676.21</td>\n",
              "      <td>151315.00</td>\n",
              "      <td>56279.06</td>\n",
              "      <td>3.167333e+09</td>\n",
              "      <td>34875.00</td>\n",
              "      <td>34875.00</td>\n",
              "      <td>37392.00</td>\n",
              "      <td>57197.00</td>\n",
              "      <td>114533.00</td>\n",
              "      <td>151315.00</td>\n",
              "      <td>203750.00</td>\n",
              "      <td>205863.00</td>\n",
              "      <td>207499.00</td>\n",
              "      <td>219622.00</td>\n",
              "      <td>219622.00</td>\n",
              "    </tr>\n",
              "    <tr>\n",
              "      <th>year</th>\n",
              "      <td>309678.0</td>\n",
              "      <td>0.0</td>\n",
              "      <td>6.227522e+08</td>\n",
              "      <td>2010.97</td>\n",
              "      <td>2011.00</td>\n",
              "      <td>0.80</td>\n",
              "      <td>6.300000e-01</td>\n",
              "      <td>2010.00</td>\n",
              "      <td>2010.00</td>\n",
              "      <td>2010.00</td>\n",
              "      <td>2010.00</td>\n",
              "      <td>2010.00</td>\n",
              "      <td>2011.00</td>\n",
              "      <td>2012.00</td>\n",
              "      <td>2012.00</td>\n",
              "      <td>2012.00</td>\n",
              "      <td>2012.00</td>\n",
              "      <td>2012.00</td>\n",
              "    </tr>\n",
              "    <tr>\n",
              "      <th>day</th>\n",
              "      <td>309678.0</td>\n",
              "      <td>0.0</td>\n",
              "      <td>4.853456e+06</td>\n",
              "      <td>15.67</td>\n",
              "      <td>16.00</td>\n",
              "      <td>8.75</td>\n",
              "      <td>7.662000e+01</td>\n",
              "      <td>1.00</td>\n",
              "      <td>1.00</td>\n",
              "      <td>2.00</td>\n",
              "      <td>4.00</td>\n",
              "      <td>8.00</td>\n",
              "      <td>16.00</td>\n",
              "      <td>23.00</td>\n",
              "      <td>28.00</td>\n",
              "      <td>29.00</td>\n",
              "      <td>31.00</td>\n",
              "      <td>31.00</td>\n",
              "    </tr>\n",
              "    <tr>\n",
              "      <th>Days to Next Christmas</th>\n",
              "      <td>309678.0</td>\n",
              "      <td>0.0</td>\n",
              "      <td>5.715372e+07</td>\n",
              "      <td>184.56</td>\n",
              "      <td>185.00</td>\n",
              "      <td>99.34</td>\n",
              "      <td>9.868850e+03</td>\n",
              "      <td>0.00</td>\n",
              "      <td>1.00</td>\n",
              "      <td>22.00</td>\n",
              "      <td>49.00</td>\n",
              "      <td>101.00</td>\n",
              "      <td>185.00</td>\n",
              "      <td>269.00</td>\n",
              "      <td>318.00</td>\n",
              "      <td>337.00</td>\n",
              "      <td>358.00</td>\n",
              "      <td>360.00</td>\n",
              "    </tr>\n",
              "  </tbody>\n",
              "</table>\n",
              "</div>"
            ],
            "text/plain": [
              "                               N  NMISS  ...        P99        MAX\n",
              "Store                   309678.0    0.0  ...      32.00      32.00\n",
              "Temperature             309678.0    0.0  ...      91.65      99.22\n",
              "Fuel_Price              309678.0    0.0  ...       4.20       4.47\n",
              "MarkDown1               309678.0    0.0  ...   31400.97   88646.76\n",
              "MarkDown2               309678.0    0.0  ...   31400.97   88646.76\n",
              "MarkDown3               309678.0    0.0  ...   31400.97   88646.76\n",
              "MarkDown4               309678.0    0.0  ...   31400.97   88646.76\n",
              "MarkDown5               309678.0    0.0  ...   31400.97   88646.76\n",
              "CPI                     309678.0    0.0  ...     225.63     227.23\n",
              "Unemployment            309678.0    0.0  ...      14.18      14.31\n",
              "Dept                    309678.0    0.0  ...      98.00      99.00\n",
              "Weekly_Sales            309678.0    0.0  ...  113423.30  693099.36\n",
              "Size                    309678.0    0.0  ...  219622.00  219622.00\n",
              "year                    309678.0    0.0  ...    2012.00    2012.00\n",
              "day                     309678.0    0.0  ...      31.00      31.00\n",
              "Days to Next Christmas  309678.0    0.0  ...     358.00     360.00\n",
              "\n",
              "[16 rows x 18 columns]"
            ]
          },
          "metadata": {
            "tags": []
          },
          "execution_count": 36
        }
      ]
    },
    {
      "cell_type": "code",
      "metadata": {
        "id": "GtdZkENS6WaG",
        "colab_type": "code",
        "colab": {}
      },
      "source": [
        ""
      ],
      "execution_count": 0,
      "outputs": []
    },
    {
      "cell_type": "code",
      "metadata": {
        "id": "J7gzrMwA6WaI",
        "colab_type": "code",
        "outputId": "05859861-e3af-428b-edce-e541f679fe4f",
        "colab": {
          "base_uri": "https://localhost:8080/",
          "height": 143
        }
      },
      "source": [
        "# create a statistics report for categorical variable\n",
        "def categorical_vars_summary(x):\n",
        "    return pd.Series([x.count(), x.isnull().sum(), x.value_counts()], \n",
        "                  index=['N', 'NMISS', 'ColumnsNames'])\n",
        "\n",
        "df_cat = df[cat_vars]\n",
        "cat_summary = df_cat.apply(lambda x: categorical_vars_summary(x))\n",
        "cat_summary.T"
      ],
      "execution_count": 37,
      "outputs": [
        {
          "output_type": "execute_result",
          "data": {
            "text/html": [
              "<div>\n",
              "<style scoped>\n",
              "    .dataframe tbody tr th:only-of-type {\n",
              "        vertical-align: middle;\n",
              "    }\n",
              "\n",
              "    .dataframe tbody tr th {\n",
              "        vertical-align: top;\n",
              "    }\n",
              "\n",
              "    .dataframe thead th {\n",
              "        text-align: right;\n",
              "    }\n",
              "</style>\n",
              "<table border=\"1\" class=\"dataframe\">\n",
              "  <thead>\n",
              "    <tr style=\"text-align: right;\">\n",
              "      <th></th>\n",
              "      <th>N</th>\n",
              "      <th>NMISS</th>\n",
              "      <th>ColumnsNames</th>\n",
              "    </tr>\n",
              "  </thead>\n",
              "  <tbody>\n",
              "    <tr>\n",
              "      <th>Date</th>\n",
              "      <td>309678</td>\n",
              "      <td>0</td>\n",
              "      <td>2011-11-25    2226\n",
              "2011-12-23    2226\n",
              "2011-12-...</td>\n",
              "    </tr>\n",
              "    <tr>\n",
              "      <th>IsHoliday</th>\n",
              "      <td>309678</td>\n",
              "      <td>0</td>\n",
              "      <td>False    287861\n",
              "True      21817\n",
              "Name: IsHolida...</td>\n",
              "    </tr>\n",
              "    <tr>\n",
              "      <th>Type</th>\n",
              "      <td>309678</td>\n",
              "      <td>0</td>\n",
              "      <td>A    158192\n",
              "B    144330\n",
              "C      7156\n",
              "Name: Type...</td>\n",
              "    </tr>\n",
              "  </tbody>\n",
              "</table>\n",
              "</div>"
            ],
            "text/plain": [
              "                N NMISS                                       ColumnsNames\n",
              "Date       309678     0  2011-11-25    2226\n",
              "2011-12-23    2226\n",
              "2011-12-...\n",
              "IsHoliday  309678     0  False    287861\n",
              "True      21817\n",
              "Name: IsHolida...\n",
              "Type       309678     0  A    158192\n",
              "B    144330\n",
              "C      7156\n",
              "Name: Type..."
            ]
          },
          "metadata": {
            "tags": []
          },
          "execution_count": 37
        }
      ]
    },
    {
      "cell_type": "markdown",
      "metadata": {
        "id": "2TMSkocL6WaN",
        "colab_type": "text"
      },
      "source": [
        "### For testing data"
      ]
    },
    {
      "cell_type": "code",
      "metadata": {
        "id": "JLz8J-cX6WaN",
        "colab_type": "code",
        "outputId": "9e99b04f-b7cb-442b-a2d6-a5cb7133e79e",
        "colab": {
          "base_uri": "https://localhost:8080/",
          "height": 74
        }
      },
      "source": [
        "numeric_vars_test = [key for key in dict(df_test.dtypes) if dict(df_test.dtypes)[key]  in ['float64', 'float32', 'int32', 'int64']]\n",
        "cat_vars_test = [key for key in dict(df_test.dtypes) if dict(df_test.dtypes)[key] in ['object']]\n",
        "\n",
        "print(numeric_vars_test)\n",
        "print(cat_vars_test)"
      ],
      "execution_count": 38,
      "outputs": [
        {
          "output_type": "stream",
          "text": [
            "['Store', 'Temperature', 'Fuel_Price', 'MarkDown1', 'MarkDown2', 'MarkDown3', 'MarkDown4', 'MarkDown5', 'CPI', 'Unemployment', 'Dept', 'Size', 'year', 'day', 'Days to Next Christmas']\n",
            "['Date', 'Type']\n"
          ],
          "name": "stdout"
        }
      ]
    },
    {
      "cell_type": "code",
      "metadata": {
        "id": "kl82ESDM6WaU",
        "colab_type": "code",
        "outputId": "eb5a7f0f-b23c-4124-c7d0-e5394ee96d12",
        "colab": {
          "base_uri": "https://localhost:8080/",
          "height": 557
        }
      },
      "source": [
        "# Continuous Variable Summary\n",
        "df_test_nums = df_test[numeric_vars_test]\n",
        "continuous_summary_test = df_test_nums.apply(continuous_var_summary).T.round(2)\n",
        "continuous_summary_test"
      ],
      "execution_count": 39,
      "outputs": [
        {
          "output_type": "execute_result",
          "data": {
            "text/html": [
              "<div>\n",
              "<style scoped>\n",
              "    .dataframe tbody tr th:only-of-type {\n",
              "        vertical-align: middle;\n",
              "    }\n",
              "\n",
              "    .dataframe tbody tr th {\n",
              "        vertical-align: top;\n",
              "    }\n",
              "\n",
              "    .dataframe thead th {\n",
              "        text-align: right;\n",
              "    }\n",
              "</style>\n",
              "<table border=\"1\" class=\"dataframe\">\n",
              "  <thead>\n",
              "    <tr style=\"text-align: right;\">\n",
              "      <th></th>\n",
              "      <th>N</th>\n",
              "      <th>NMISS</th>\n",
              "      <th>SUM</th>\n",
              "      <th>MEAN</th>\n",
              "      <th>MEDIAN</th>\n",
              "      <th>STD</th>\n",
              "      <th>VAR</th>\n",
              "      <th>MIN</th>\n",
              "      <th>P1</th>\n",
              "      <th>P5</th>\n",
              "      <th>P10</th>\n",
              "      <th>P25</th>\n",
              "      <th>P50</th>\n",
              "      <th>P75</th>\n",
              "      <th>P90</th>\n",
              "      <th>P95</th>\n",
              "      <th>P99</th>\n",
              "      <th>MAX</th>\n",
              "    </tr>\n",
              "  </thead>\n",
              "  <tbody>\n",
              "    <tr>\n",
              "      <th>Store</th>\n",
              "      <td>115064.0</td>\n",
              "      <td>0.0</td>\n",
              "      <td>2.558817e+06</td>\n",
              "      <td>22.24</td>\n",
              "      <td>22.00</td>\n",
              "      <td>12.81</td>\n",
              "      <td>1.640900e+02</td>\n",
              "      <td>1.00</td>\n",
              "      <td>1.00</td>\n",
              "      <td>3.00</td>\n",
              "      <td>5.00</td>\n",
              "      <td>11.00</td>\n",
              "      <td>22.00</td>\n",
              "      <td>33.00</td>\n",
              "      <td>40.00</td>\n",
              "      <td>43.00</td>\n",
              "      <td>45.00</td>\n",
              "      <td>45.00</td>\n",
              "    </tr>\n",
              "    <tr>\n",
              "      <th>Temperature</th>\n",
              "      <td>115064.0</td>\n",
              "      <td>0.0</td>\n",
              "      <td>6.206760e+06</td>\n",
              "      <td>53.94</td>\n",
              "      <td>54.47</td>\n",
              "      <td>18.72</td>\n",
              "      <td>3.505900e+02</td>\n",
              "      <td>-7.29</td>\n",
              "      <td>11.44</td>\n",
              "      <td>23.98</td>\n",
              "      <td>29.97</td>\n",
              "      <td>39.82</td>\n",
              "      <td>54.47</td>\n",
              "      <td>67.35</td>\n",
              "      <td>79.48</td>\n",
              "      <td>83.82</td>\n",
              "      <td>92.14</td>\n",
              "      <td>101.95</td>\n",
              "    </tr>\n",
              "    <tr>\n",
              "      <th>Fuel_Price</th>\n",
              "      <td>115064.0</td>\n",
              "      <td>0.0</td>\n",
              "      <td>4.121070e+05</td>\n",
              "      <td>3.58</td>\n",
              "      <td>3.61</td>\n",
              "      <td>0.24</td>\n",
              "      <td>6.000000e-02</td>\n",
              "      <td>2.87</td>\n",
              "      <td>2.96</td>\n",
              "      <td>3.16</td>\n",
              "      <td>3.23</td>\n",
              "      <td>3.43</td>\n",
              "      <td>3.61</td>\n",
              "      <td>3.77</td>\n",
              "      <td>3.87</td>\n",
              "      <td>3.95</td>\n",
              "      <td>4.08</td>\n",
              "      <td>4.12</td>\n",
              "    </tr>\n",
              "    <tr>\n",
              "      <th>MarkDown1</th>\n",
              "      <td>115064.0</td>\n",
              "      <td>0.0</td>\n",
              "      <td>8.836063e+08</td>\n",
              "      <td>7679.26</td>\n",
              "      <td>4828.72</td>\n",
              "      <td>10695.41</td>\n",
              "      <td>1.143917e+08</td>\n",
              "      <td>-2781.45</td>\n",
              "      <td>17.01</td>\n",
              "      <td>178.43</td>\n",
              "      <td>448.82</td>\n",
              "      <td>1963.55</td>\n",
              "      <td>4828.72</td>\n",
              "      <td>9427.41</td>\n",
              "      <td>15325.04</td>\n",
              "      <td>23140.88</td>\n",
              "      <td>65757.57</td>\n",
              "      <td>103184.98</td>\n",
              "    </tr>\n",
              "    <tr>\n",
              "      <th>MarkDown2</th>\n",
              "      <td>115064.0</td>\n",
              "      <td>0.0</td>\n",
              "      <td>8.836063e+08</td>\n",
              "      <td>7679.26</td>\n",
              "      <td>4828.72</td>\n",
              "      <td>10695.41</td>\n",
              "      <td>1.143917e+08</td>\n",
              "      <td>-2781.45</td>\n",
              "      <td>17.01</td>\n",
              "      <td>178.43</td>\n",
              "      <td>448.82</td>\n",
              "      <td>1963.55</td>\n",
              "      <td>4828.72</td>\n",
              "      <td>9427.41</td>\n",
              "      <td>15325.04</td>\n",
              "      <td>23140.88</td>\n",
              "      <td>65757.57</td>\n",
              "      <td>103184.98</td>\n",
              "    </tr>\n",
              "    <tr>\n",
              "      <th>MarkDown3</th>\n",
              "      <td>115064.0</td>\n",
              "      <td>0.0</td>\n",
              "      <td>8.836063e+08</td>\n",
              "      <td>7679.26</td>\n",
              "      <td>4828.72</td>\n",
              "      <td>10695.41</td>\n",
              "      <td>1.143917e+08</td>\n",
              "      <td>-2781.45</td>\n",
              "      <td>17.01</td>\n",
              "      <td>178.43</td>\n",
              "      <td>448.82</td>\n",
              "      <td>1963.55</td>\n",
              "      <td>4828.72</td>\n",
              "      <td>9427.41</td>\n",
              "      <td>15325.04</td>\n",
              "      <td>23140.88</td>\n",
              "      <td>65757.57</td>\n",
              "      <td>103184.98</td>\n",
              "    </tr>\n",
              "    <tr>\n",
              "      <th>MarkDown4</th>\n",
              "      <td>115064.0</td>\n",
              "      <td>0.0</td>\n",
              "      <td>8.836063e+08</td>\n",
              "      <td>7679.26</td>\n",
              "      <td>4828.72</td>\n",
              "      <td>10695.41</td>\n",
              "      <td>1.143917e+08</td>\n",
              "      <td>-2781.45</td>\n",
              "      <td>17.01</td>\n",
              "      <td>178.43</td>\n",
              "      <td>448.82</td>\n",
              "      <td>1963.55</td>\n",
              "      <td>4828.72</td>\n",
              "      <td>9427.41</td>\n",
              "      <td>15325.04</td>\n",
              "      <td>23140.88</td>\n",
              "      <td>65757.57</td>\n",
              "      <td>103184.98</td>\n",
              "    </tr>\n",
              "    <tr>\n",
              "      <th>MarkDown5</th>\n",
              "      <td>115064.0</td>\n",
              "      <td>0.0</td>\n",
              "      <td>8.836063e+08</td>\n",
              "      <td>7679.26</td>\n",
              "      <td>4828.72</td>\n",
              "      <td>10695.41</td>\n",
              "      <td>1.143917e+08</td>\n",
              "      <td>-2781.45</td>\n",
              "      <td>17.01</td>\n",
              "      <td>178.43</td>\n",
              "      <td>448.82</td>\n",
              "      <td>1963.55</td>\n",
              "      <td>4828.72</td>\n",
              "      <td>9427.41</td>\n",
              "      <td>15325.04</td>\n",
              "      <td>23140.88</td>\n",
              "      <td>65757.57</td>\n",
              "      <td>103184.98</td>\n",
              "    </tr>\n",
              "    <tr>\n",
              "      <th>CPI</th>\n",
              "      <td>115064.0</td>\n",
              "      <td>0.0</td>\n",
              "      <td>2.019013e+07</td>\n",
              "      <td>175.47</td>\n",
              "      <td>172.46</td>\n",
              "      <td>33.78</td>\n",
              "      <td>1.141160e+03</td>\n",
              "      <td>131.24</td>\n",
              "      <td>131.28</td>\n",
              "      <td>131.75</td>\n",
              "      <td>132.32</td>\n",
              "      <td>138.90</td>\n",
              "      <td>172.46</td>\n",
              "      <td>201.21</td>\n",
              "      <td>224.64</td>\n",
              "      <td>227.25</td>\n",
              "      <td>228.64</td>\n",
              "      <td>228.98</td>\n",
              "    </tr>\n",
              "    <tr>\n",
              "      <th>Unemployment</th>\n",
              "      <td>115064.0</td>\n",
              "      <td>0.0</td>\n",
              "      <td>8.269065e+05</td>\n",
              "      <td>7.19</td>\n",
              "      <td>7.83</td>\n",
              "      <td>1.37</td>\n",
              "      <td>1.880000e+00</td>\n",
              "      <td>3.68</td>\n",
              "      <td>3.88</td>\n",
              "      <td>4.89</td>\n",
              "      <td>5.28</td>\n",
              "      <td>6.23</td>\n",
              "      <td>7.83</td>\n",
              "      <td>7.83</td>\n",
              "      <td>8.67</td>\n",
              "      <td>8.95</td>\n",
              "      <td>10.20</td>\n",
              "      <td>10.20</td>\n",
              "    </tr>\n",
              "    <tr>\n",
              "      <th>Dept</th>\n",
              "      <td>115064.0</td>\n",
              "      <td>0.0</td>\n",
              "      <td>5.101883e+06</td>\n",
              "      <td>44.34</td>\n",
              "      <td>37.00</td>\n",
              "      <td>30.66</td>\n",
              "      <td>9.398200e+02</td>\n",
              "      <td>1.00</td>\n",
              "      <td>1.00</td>\n",
              "      <td>4.00</td>\n",
              "      <td>7.00</td>\n",
              "      <td>18.00</td>\n",
              "      <td>37.00</td>\n",
              "      <td>74.00</td>\n",
              "      <td>92.00</td>\n",
              "      <td>95.00</td>\n",
              "      <td>98.00</td>\n",
              "      <td>99.00</td>\n",
              "    </tr>\n",
              "    <tr>\n",
              "      <th>Size</th>\n",
              "      <td>115064.0</td>\n",
              "      <td>0.0</td>\n",
              "      <td>1.570597e+10</td>\n",
              "      <td>136497.69</td>\n",
              "      <td>140167.00</td>\n",
              "      <td>61106.93</td>\n",
              "      <td>3.734056e+09</td>\n",
              "      <td>34875.00</td>\n",
              "      <td>34875.00</td>\n",
              "      <td>39690.00</td>\n",
              "      <td>39910.00</td>\n",
              "      <td>93638.00</td>\n",
              "      <td>140167.00</td>\n",
              "      <td>202505.00</td>\n",
              "      <td>204184.00</td>\n",
              "      <td>206302.00</td>\n",
              "      <td>219622.00</td>\n",
              "      <td>219622.00</td>\n",
              "    </tr>\n",
              "    <tr>\n",
              "      <th>year</th>\n",
              "      <td>115064.0</td>\n",
              "      <td>0.0</td>\n",
              "      <td>2.313872e+08</td>\n",
              "      <td>2010.94</td>\n",
              "      <td>2011.00</td>\n",
              "      <td>0.79</td>\n",
              "      <td>6.200000e-01</td>\n",
              "      <td>2010.00</td>\n",
              "      <td>2010.00</td>\n",
              "      <td>2010.00</td>\n",
              "      <td>2010.00</td>\n",
              "      <td>2010.00</td>\n",
              "      <td>2011.00</td>\n",
              "      <td>2012.00</td>\n",
              "      <td>2012.00</td>\n",
              "      <td>2012.00</td>\n",
              "      <td>2012.00</td>\n",
              "      <td>2012.00</td>\n",
              "    </tr>\n",
              "    <tr>\n",
              "      <th>day</th>\n",
              "      <td>115064.0</td>\n",
              "      <td>0.0</td>\n",
              "      <td>1.802043e+06</td>\n",
              "      <td>15.66</td>\n",
              "      <td>16.00</td>\n",
              "      <td>8.76</td>\n",
              "      <td>7.667000e+01</td>\n",
              "      <td>1.00</td>\n",
              "      <td>1.00</td>\n",
              "      <td>2.00</td>\n",
              "      <td>4.00</td>\n",
              "      <td>8.00</td>\n",
              "      <td>16.00</td>\n",
              "      <td>23.00</td>\n",
              "      <td>28.00</td>\n",
              "      <td>29.00</td>\n",
              "      <td>31.00</td>\n",
              "      <td>31.00</td>\n",
              "    </tr>\n",
              "    <tr>\n",
              "      <th>Days to Next Christmas</th>\n",
              "      <td>115064.0</td>\n",
              "      <td>0.0</td>\n",
              "      <td>-5.292630e+07</td>\n",
              "      <td>-459.97</td>\n",
              "      <td>-461.00</td>\n",
              "      <td>295.98</td>\n",
              "      <td>8.760437e+04</td>\n",
              "      <td>-938.00</td>\n",
              "      <td>-931.00</td>\n",
              "      <td>-903.00</td>\n",
              "      <td>-861.00</td>\n",
              "      <td>-735.00</td>\n",
              "      <td>-461.00</td>\n",
              "      <td>-179.00</td>\n",
              "      <td>-39.00</td>\n",
              "      <td>10.00</td>\n",
              "      <td>52.00</td>\n",
              "      <td>59.00</td>\n",
              "    </tr>\n",
              "  </tbody>\n",
              "</table>\n",
              "</div>"
            ],
            "text/plain": [
              "                               N  NMISS  ...        P99        MAX\n",
              "Store                   115064.0    0.0  ...      45.00      45.00\n",
              "Temperature             115064.0    0.0  ...      92.14     101.95\n",
              "Fuel_Price              115064.0    0.0  ...       4.08       4.12\n",
              "MarkDown1               115064.0    0.0  ...   65757.57  103184.98\n",
              "MarkDown2               115064.0    0.0  ...   65757.57  103184.98\n",
              "MarkDown3               115064.0    0.0  ...   65757.57  103184.98\n",
              "MarkDown4               115064.0    0.0  ...   65757.57  103184.98\n",
              "MarkDown5               115064.0    0.0  ...   65757.57  103184.98\n",
              "CPI                     115064.0    0.0  ...     228.64     228.98\n",
              "Unemployment            115064.0    0.0  ...      10.20      10.20\n",
              "Dept                    115064.0    0.0  ...      98.00      99.00\n",
              "Size                    115064.0    0.0  ...  219622.00  219622.00\n",
              "year                    115064.0    0.0  ...    2012.00    2012.00\n",
              "day                     115064.0    0.0  ...      31.00      31.00\n",
              "Days to Next Christmas  115064.0    0.0  ...      52.00      59.00\n",
              "\n",
              "[15 rows x 18 columns]"
            ]
          },
          "metadata": {
            "tags": []
          },
          "execution_count": 39
        }
      ]
    },
    {
      "cell_type": "code",
      "metadata": {
        "id": "TWgCYQx46WaZ",
        "colab_type": "code",
        "outputId": "902d3364-d1d6-4833-8ac9-a6ed3604bc41",
        "colab": {
          "base_uri": "https://localhost:8080/",
          "height": 143
        }
      },
      "source": [
        "# Categorical Variable summary\n",
        "df_cat_test = df_test[cat_vars_test]\n",
        "cat_summary_test = df_cat_test.apply(categorical_vars_summary)\n",
        "cat_summary_test"
      ],
      "execution_count": 40,
      "outputs": [
        {
          "output_type": "execute_result",
          "data": {
            "text/html": [
              "<div>\n",
              "<style scoped>\n",
              "    .dataframe tbody tr th:only-of-type {\n",
              "        vertical-align: middle;\n",
              "    }\n",
              "\n",
              "    .dataframe tbody tr th {\n",
              "        vertical-align: top;\n",
              "    }\n",
              "\n",
              "    .dataframe thead th {\n",
              "        text-align: right;\n",
              "    }\n",
              "</style>\n",
              "<table border=\"1\" class=\"dataframe\">\n",
              "  <thead>\n",
              "    <tr style=\"text-align: right;\">\n",
              "      <th></th>\n",
              "      <th>Date</th>\n",
              "      <th>Type</th>\n",
              "    </tr>\n",
              "  </thead>\n",
              "  <tbody>\n",
              "    <tr>\n",
              "      <th>N</th>\n",
              "      <td>115064</td>\n",
              "      <td>115064</td>\n",
              "    </tr>\n",
              "    <tr>\n",
              "      <th>NMISS</th>\n",
              "      <td>0</td>\n",
              "      <td>0</td>\n",
              "    </tr>\n",
              "    <tr>\n",
              "      <th>ColumnsNames</th>\n",
              "      <td>2012-12-21    3002\n",
              "2012-12-07    2989\n",
              "2012-12-...</td>\n",
              "      <td>A    58713\n",
              "B    44500\n",
              "C    11851\n",
              "Name: Type, d...</td>\n",
              "    </tr>\n",
              "  </tbody>\n",
              "</table>\n",
              "</div>"
            ],
            "text/plain": [
              "                                                           Date                                               Type\n",
              "N                                                        115064                                             115064\n",
              "NMISS                                                         0                                                  0\n",
              "ColumnsNames  2012-12-21    3002\n",
              "2012-12-07    2989\n",
              "2012-12-...  A    58713\n",
              "B    44500\n",
              "C    11851\n",
              "Name: Type, d..."
            ]
          },
          "metadata": {
            "tags": []
          },
          "execution_count": 40
        }
      ]
    },
    {
      "cell_type": "markdown",
      "metadata": {
        "id": "7AKKbKML6Wad",
        "colab_type": "text"
      },
      "source": [
        "As we have observed through statistics that needs to outlier treatment. (Either training or testing)"
      ]
    },
    {
      "cell_type": "markdown",
      "metadata": {
        "id": "CUGudi086Wae",
        "colab_type": "text"
      },
      "source": [
        "---\n",
        "### Handling Outliers\n",
        "---\n",
        "#### There are some extreame high or extream low value which need to rectify so that it will not have impact on our model"
      ]
    },
    {
      "cell_type": "code",
      "metadata": {
        "id": "aigRQNRM6Waf",
        "colab_type": "code",
        "colab": {}
      },
      "source": [
        "def outlier_capping(x):\n",
        "    # x = x.clip_upper(x.quantile(0.99))\n",
        "    # x = x.clip_lower(x.quantile(0.01))\n",
        "    x = x.clip(lower = x.quantile(0.01), upper = x.quantile(0.99))\n",
        "    return x\n",
        "\n",
        "df_nums = df_nums.apply(outlier_capping)"
      ],
      "execution_count": 0,
      "outputs": []
    },
    {
      "cell_type": "code",
      "metadata": {
        "id": "hy6g6lBC6Wak",
        "colab_type": "code",
        "outputId": "8cb76976-1352-4b42-87a5-d15a1b175953",
        "colab": {
          "base_uri": "https://localhost:8080/",
          "height": 589
        }
      },
      "source": [
        "after_handle_outlier_summary = df_nums.apply(continuous_var_summary).round(2).T\n",
        "after_handle_outlier_summary"
      ],
      "execution_count": 42,
      "outputs": [
        {
          "output_type": "execute_result",
          "data": {
            "text/html": [
              "<div>\n",
              "<style scoped>\n",
              "    .dataframe tbody tr th:only-of-type {\n",
              "        vertical-align: middle;\n",
              "    }\n",
              "\n",
              "    .dataframe tbody tr th {\n",
              "        vertical-align: top;\n",
              "    }\n",
              "\n",
              "    .dataframe thead th {\n",
              "        text-align: right;\n",
              "    }\n",
              "</style>\n",
              "<table border=\"1\" class=\"dataframe\">\n",
              "  <thead>\n",
              "    <tr style=\"text-align: right;\">\n",
              "      <th></th>\n",
              "      <th>N</th>\n",
              "      <th>NMISS</th>\n",
              "      <th>SUM</th>\n",
              "      <th>MEAN</th>\n",
              "      <th>MEDIAN</th>\n",
              "      <th>STD</th>\n",
              "      <th>VAR</th>\n",
              "      <th>MIN</th>\n",
              "      <th>P1</th>\n",
              "      <th>P5</th>\n",
              "      <th>P10</th>\n",
              "      <th>P25</th>\n",
              "      <th>P50</th>\n",
              "      <th>P75</th>\n",
              "      <th>P90</th>\n",
              "      <th>P95</th>\n",
              "      <th>P99</th>\n",
              "      <th>MAX</th>\n",
              "    </tr>\n",
              "  </thead>\n",
              "  <tbody>\n",
              "    <tr>\n",
              "      <th>Store</th>\n",
              "      <td>309678.0</td>\n",
              "      <td>0.0</td>\n",
              "      <td>5.022757e+06</td>\n",
              "      <td>16.22</td>\n",
              "      <td>16.00</td>\n",
              "      <td>9.07</td>\n",
              "      <td>8.228000e+01</td>\n",
              "      <td>1.00</td>\n",
              "      <td>1.00</td>\n",
              "      <td>2.00</td>\n",
              "      <td>4.00</td>\n",
              "      <td>8.00</td>\n",
              "      <td>16.00</td>\n",
              "      <td>24.00</td>\n",
              "      <td>29.00</td>\n",
              "      <td>31.00</td>\n",
              "      <td>32.00</td>\n",
              "      <td>32.00</td>\n",
              "    </tr>\n",
              "    <tr>\n",
              "      <th>Temperature</th>\n",
              "      <td>309678.0</td>\n",
              "      <td>0.0</td>\n",
              "      <td>1.842020e+07</td>\n",
              "      <td>59.48</td>\n",
              "      <td>61.35</td>\n",
              "      <td>18.37</td>\n",
              "      <td>3.374700e+02</td>\n",
              "      <td>17.94</td>\n",
              "      <td>17.94</td>\n",
              "      <td>26.58</td>\n",
              "      <td>33.18</td>\n",
              "      <td>46.14</td>\n",
              "      <td>61.35</td>\n",
              "      <td>73.52</td>\n",
              "      <td>83.36</td>\n",
              "      <td>87.16</td>\n",
              "      <td>91.65</td>\n",
              "      <td>91.65</td>\n",
              "    </tr>\n",
              "    <tr>\n",
              "      <th>Fuel_Price</th>\n",
              "      <td>309678.0</td>\n",
              "      <td>0.0</td>\n",
              "      <td>1.041664e+06</td>\n",
              "      <td>3.36</td>\n",
              "      <td>3.45</td>\n",
              "      <td>0.46</td>\n",
              "      <td>2.100000e-01</td>\n",
              "      <td>2.56</td>\n",
              "      <td>2.56</td>\n",
              "      <td>2.65</td>\n",
              "      <td>2.72</td>\n",
              "      <td>2.94</td>\n",
              "      <td>3.45</td>\n",
              "      <td>3.74</td>\n",
              "      <td>3.92</td>\n",
              "      <td>4.03</td>\n",
              "      <td>4.20</td>\n",
              "      <td>4.20</td>\n",
              "    </tr>\n",
              "    <tr>\n",
              "      <th>MarkDown1</th>\n",
              "      <td>309678.0</td>\n",
              "      <td>0.0</td>\n",
              "      <td>8.619391e+08</td>\n",
              "      <td>2783.34</td>\n",
              "      <td>0.00</td>\n",
              "      <td>5512.78</td>\n",
              "      <td>3.039071e+07</td>\n",
              "      <td>0.00</td>\n",
              "      <td>0.00</td>\n",
              "      <td>0.00</td>\n",
              "      <td>0.00</td>\n",
              "      <td>0.00</td>\n",
              "      <td>0.00</td>\n",
              "      <td>3690.95</td>\n",
              "      <td>9284.23</td>\n",
              "      <td>13396.45</td>\n",
              "      <td>31400.97</td>\n",
              "      <td>31400.97</td>\n",
              "    </tr>\n",
              "    <tr>\n",
              "      <th>MarkDown2</th>\n",
              "      <td>309678.0</td>\n",
              "      <td>0.0</td>\n",
              "      <td>8.619391e+08</td>\n",
              "      <td>2783.34</td>\n",
              "      <td>0.00</td>\n",
              "      <td>5512.78</td>\n",
              "      <td>3.039071e+07</td>\n",
              "      <td>0.00</td>\n",
              "      <td>0.00</td>\n",
              "      <td>0.00</td>\n",
              "      <td>0.00</td>\n",
              "      <td>0.00</td>\n",
              "      <td>0.00</td>\n",
              "      <td>3690.95</td>\n",
              "      <td>9284.23</td>\n",
              "      <td>13396.45</td>\n",
              "      <td>31400.97</td>\n",
              "      <td>31400.97</td>\n",
              "    </tr>\n",
              "    <tr>\n",
              "      <th>MarkDown3</th>\n",
              "      <td>309678.0</td>\n",
              "      <td>0.0</td>\n",
              "      <td>8.619391e+08</td>\n",
              "      <td>2783.34</td>\n",
              "      <td>0.00</td>\n",
              "      <td>5512.78</td>\n",
              "      <td>3.039071e+07</td>\n",
              "      <td>0.00</td>\n",
              "      <td>0.00</td>\n",
              "      <td>0.00</td>\n",
              "      <td>0.00</td>\n",
              "      <td>0.00</td>\n",
              "      <td>0.00</td>\n",
              "      <td>3690.95</td>\n",
              "      <td>9284.23</td>\n",
              "      <td>13396.45</td>\n",
              "      <td>31400.97</td>\n",
              "      <td>31400.97</td>\n",
              "    </tr>\n",
              "    <tr>\n",
              "      <th>MarkDown4</th>\n",
              "      <td>309678.0</td>\n",
              "      <td>0.0</td>\n",
              "      <td>8.619391e+08</td>\n",
              "      <td>2783.34</td>\n",
              "      <td>0.00</td>\n",
              "      <td>5512.78</td>\n",
              "      <td>3.039071e+07</td>\n",
              "      <td>0.00</td>\n",
              "      <td>0.00</td>\n",
              "      <td>0.00</td>\n",
              "      <td>0.00</td>\n",
              "      <td>0.00</td>\n",
              "      <td>0.00</td>\n",
              "      <td>3690.95</td>\n",
              "      <td>9284.23</td>\n",
              "      <td>13396.45</td>\n",
              "      <td>31400.97</td>\n",
              "      <td>31400.97</td>\n",
              "    </tr>\n",
              "    <tr>\n",
              "      <th>MarkDown5</th>\n",
              "      <td>309678.0</td>\n",
              "      <td>0.0</td>\n",
              "      <td>8.619391e+08</td>\n",
              "      <td>2783.34</td>\n",
              "      <td>0.00</td>\n",
              "      <td>5512.78</td>\n",
              "      <td>3.039071e+07</td>\n",
              "      <td>0.00</td>\n",
              "      <td>0.00</td>\n",
              "      <td>0.00</td>\n",
              "      <td>0.00</td>\n",
              "      <td>0.00</td>\n",
              "      <td>0.00</td>\n",
              "      <td>3690.95</td>\n",
              "      <td>9284.23</td>\n",
              "      <td>13396.45</td>\n",
              "      <td>31400.97</td>\n",
              "      <td>31400.97</td>\n",
              "    </tr>\n",
              "    <tr>\n",
              "      <th>CPI</th>\n",
              "      <td>309678.0</td>\n",
              "      <td>0.0</td>\n",
              "      <td>5.357328e+07</td>\n",
              "      <td>173.00</td>\n",
              "      <td>185.75</td>\n",
              "      <td>39.76</td>\n",
              "      <td>1.580630e+03</td>\n",
              "      <td>126.11</td>\n",
              "      <td>126.11</td>\n",
              "      <td>126.60</td>\n",
              "      <td>129.09</td>\n",
              "      <td>132.75</td>\n",
              "      <td>185.75</td>\n",
              "      <td>214.49</td>\n",
              "      <td>220.85</td>\n",
              "      <td>222.98</td>\n",
              "      <td>225.63</td>\n",
              "      <td>225.63</td>\n",
              "    </tr>\n",
              "    <tr>\n",
              "      <th>Unemployment</th>\n",
              "      <td>309678.0</td>\n",
              "      <td>0.0</td>\n",
              "      <td>2.423404e+06</td>\n",
              "      <td>7.83</td>\n",
              "      <td>7.77</td>\n",
              "      <td>1.80</td>\n",
              "      <td>3.250000e+00</td>\n",
              "      <td>4.16</td>\n",
              "      <td>4.16</td>\n",
              "      <td>5.44</td>\n",
              "      <td>6.05</td>\n",
              "      <td>6.83</td>\n",
              "      <td>7.77</td>\n",
              "      <td>8.32</td>\n",
              "      <td>9.27</td>\n",
              "      <td>12.19</td>\n",
              "      <td>14.18</td>\n",
              "      <td>14.18</td>\n",
              "    </tr>\n",
              "    <tr>\n",
              "      <th>Dept</th>\n",
              "      <td>309678.0</td>\n",
              "      <td>0.0</td>\n",
              "      <td>1.344402e+07</td>\n",
              "      <td>43.41</td>\n",
              "      <td>36.00</td>\n",
              "      <td>29.84</td>\n",
              "      <td>8.901700e+02</td>\n",
              "      <td>1.00</td>\n",
              "      <td>1.00</td>\n",
              "      <td>4.00</td>\n",
              "      <td>7.00</td>\n",
              "      <td>19.00</td>\n",
              "      <td>36.00</td>\n",
              "      <td>71.00</td>\n",
              "      <td>91.00</td>\n",
              "      <td>95.00</td>\n",
              "      <td>98.00</td>\n",
              "      <td>98.00</td>\n",
              "    </tr>\n",
              "    <tr>\n",
              "      <th>Weekly_Sales</th>\n",
              "      <td>309678.0</td>\n",
              "      <td>0.0</td>\n",
              "      <td>5.202244e+09</td>\n",
              "      <td>16798.88</td>\n",
              "      <td>8337.49</td>\n",
              "      <td>21958.67</td>\n",
              "      <td>4.821831e+08</td>\n",
              "      <td>6.35</td>\n",
              "      <td>6.35</td>\n",
              "      <td>132.00</td>\n",
              "      <td>580.00</td>\n",
              "      <td>2661.74</td>\n",
              "      <td>8337.49</td>\n",
              "      <td>21601.72</td>\n",
              "      <td>45301.54</td>\n",
              "      <td>65255.35</td>\n",
              "      <td>113421.36</td>\n",
              "      <td>113423.30</td>\n",
              "    </tr>\n",
              "    <tr>\n",
              "      <th>Size</th>\n",
              "      <td>309678.0</td>\n",
              "      <td>0.0</td>\n",
              "      <td>4.573207e+10</td>\n",
              "      <td>147676.21</td>\n",
              "      <td>151315.00</td>\n",
              "      <td>56279.06</td>\n",
              "      <td>3.167333e+09</td>\n",
              "      <td>34875.00</td>\n",
              "      <td>34875.00</td>\n",
              "      <td>37392.00</td>\n",
              "      <td>57197.00</td>\n",
              "      <td>114533.00</td>\n",
              "      <td>151315.00</td>\n",
              "      <td>203750.00</td>\n",
              "      <td>205863.00</td>\n",
              "      <td>207499.00</td>\n",
              "      <td>219622.00</td>\n",
              "      <td>219622.00</td>\n",
              "    </tr>\n",
              "    <tr>\n",
              "      <th>year</th>\n",
              "      <td>309678.0</td>\n",
              "      <td>0.0</td>\n",
              "      <td>6.227522e+08</td>\n",
              "      <td>2010.97</td>\n",
              "      <td>2011.00</td>\n",
              "      <td>0.80</td>\n",
              "      <td>6.300000e-01</td>\n",
              "      <td>2010.00</td>\n",
              "      <td>2010.00</td>\n",
              "      <td>2010.00</td>\n",
              "      <td>2010.00</td>\n",
              "      <td>2010.00</td>\n",
              "      <td>2011.00</td>\n",
              "      <td>2012.00</td>\n",
              "      <td>2012.00</td>\n",
              "      <td>2012.00</td>\n",
              "      <td>2012.00</td>\n",
              "      <td>2012.00</td>\n",
              "    </tr>\n",
              "    <tr>\n",
              "      <th>day</th>\n",
              "      <td>309678.0</td>\n",
              "      <td>0.0</td>\n",
              "      <td>4.853456e+06</td>\n",
              "      <td>15.67</td>\n",
              "      <td>16.00</td>\n",
              "      <td>8.75</td>\n",
              "      <td>7.662000e+01</td>\n",
              "      <td>1.00</td>\n",
              "      <td>1.00</td>\n",
              "      <td>2.00</td>\n",
              "      <td>4.00</td>\n",
              "      <td>8.00</td>\n",
              "      <td>16.00</td>\n",
              "      <td>23.00</td>\n",
              "      <td>28.00</td>\n",
              "      <td>29.00</td>\n",
              "      <td>31.00</td>\n",
              "      <td>31.00</td>\n",
              "    </tr>\n",
              "    <tr>\n",
              "      <th>Days to Next Christmas</th>\n",
              "      <td>309678.0</td>\n",
              "      <td>0.0</td>\n",
              "      <td>5.715151e+07</td>\n",
              "      <td>184.55</td>\n",
              "      <td>185.00</td>\n",
              "      <td>99.30</td>\n",
              "      <td>9.861360e+03</td>\n",
              "      <td>1.00</td>\n",
              "      <td>1.00</td>\n",
              "      <td>22.00</td>\n",
              "      <td>49.00</td>\n",
              "      <td>101.00</td>\n",
              "      <td>185.00</td>\n",
              "      <td>269.00</td>\n",
              "      <td>318.00</td>\n",
              "      <td>337.00</td>\n",
              "      <td>358.00</td>\n",
              "      <td>358.00</td>\n",
              "    </tr>\n",
              "  </tbody>\n",
              "</table>\n",
              "</div>"
            ],
            "text/plain": [
              "                               N  NMISS  ...        P99        MAX\n",
              "Store                   309678.0    0.0  ...      32.00      32.00\n",
              "Temperature             309678.0    0.0  ...      91.65      91.65\n",
              "Fuel_Price              309678.0    0.0  ...       4.20       4.20\n",
              "MarkDown1               309678.0    0.0  ...   31400.97   31400.97\n",
              "MarkDown2               309678.0    0.0  ...   31400.97   31400.97\n",
              "MarkDown3               309678.0    0.0  ...   31400.97   31400.97\n",
              "MarkDown4               309678.0    0.0  ...   31400.97   31400.97\n",
              "MarkDown5               309678.0    0.0  ...   31400.97   31400.97\n",
              "CPI                     309678.0    0.0  ...     225.63     225.63\n",
              "Unemployment            309678.0    0.0  ...      14.18      14.18\n",
              "Dept                    309678.0    0.0  ...      98.00      98.00\n",
              "Weekly_Sales            309678.0    0.0  ...  113421.36  113423.30\n",
              "Size                    309678.0    0.0  ...  219622.00  219622.00\n",
              "year                    309678.0    0.0  ...    2012.00    2012.00\n",
              "day                     309678.0    0.0  ...      31.00      31.00\n",
              "Days to Next Christmas  309678.0    0.0  ...     358.00     358.00\n",
              "\n",
              "[16 rows x 18 columns]"
            ]
          },
          "metadata": {
            "tags": []
          },
          "execution_count": 42
        }
      ]
    },
    {
      "cell_type": "code",
      "metadata": {
        "id": "UtwZHNQs5UTI",
        "colab_type": "code",
        "colab": {}
      },
      "source": [
        "# get the data into the csv files\n",
        "continuous_summary.to_csv('after_handle_outlier_summary.csv')"
      ],
      "execution_count": 0,
      "outputs": []
    },
    {
      "cell_type": "code",
      "metadata": {
        "id": "6tVE-W306Waq",
        "colab_type": "code",
        "outputId": "777878c5-f735-454a-f082-38ea7c8afd92",
        "colab": {
          "base_uri": "https://localhost:8080/",
          "height": 384
        }
      },
      "source": [
        "df.dtypes"
      ],
      "execution_count": 44,
      "outputs": [
        {
          "output_type": "execute_result",
          "data": {
            "text/plain": [
              "Store                       int64\n",
              "Date                       object\n",
              "Temperature               float64\n",
              "Fuel_Price                float64\n",
              "MarkDown1                 float64\n",
              "MarkDown2                 float64\n",
              "MarkDown3                 float64\n",
              "MarkDown4                 float64\n",
              "MarkDown5                 float64\n",
              "CPI                       float64\n",
              "Unemployment              float64\n",
              "IsHoliday                  object\n",
              "Dept                        int64\n",
              "Weekly_Sales              float64\n",
              "Type                       object\n",
              "Size                        int64\n",
              "year                        int64\n",
              "day                         int64\n",
              "Days to Next Christmas      int64\n",
              "dtype: object"
            ]
          },
          "metadata": {
            "tags": []
          },
          "execution_count": 44
        }
      ]
    },
    {
      "cell_type": "markdown",
      "metadata": {
        "id": "QKqltDM56Wav",
        "colab_type": "text"
      },
      "source": [
        "## Creating dummies for categorical \n",
        "---"
      ]
    },
    {
      "cell_type": "code",
      "metadata": {
        "id": "JkGEWqMH6Waw",
        "colab_type": "code",
        "colab": {}
      },
      "source": [
        "# df[['Date', 'IsHoliday']]"
      ],
      "execution_count": 0,
      "outputs": []
    },
    {
      "cell_type": "code",
      "metadata": {
        "id": "NvW-Fd0P6Wa2",
        "colab_type": "code",
        "outputId": "e0e38610-0ceb-48ad-8a72-dee7ec4849fc",
        "colab": {
          "base_uri": "https://localhost:8080/",
          "height": 206
        }
      },
      "source": [
        "dummy = pd.get_dummies(df['Type'])\n",
        "dummy.head()"
      ],
      "execution_count": 46,
      "outputs": [
        {
          "output_type": "execute_result",
          "data": {
            "text/html": [
              "<div>\n",
              "<style scoped>\n",
              "    .dataframe tbody tr th:only-of-type {\n",
              "        vertical-align: middle;\n",
              "    }\n",
              "\n",
              "    .dataframe tbody tr th {\n",
              "        vertical-align: top;\n",
              "    }\n",
              "\n",
              "    .dataframe thead th {\n",
              "        text-align: right;\n",
              "    }\n",
              "</style>\n",
              "<table border=\"1\" class=\"dataframe\">\n",
              "  <thead>\n",
              "    <tr style=\"text-align: right;\">\n",
              "      <th></th>\n",
              "      <th>A</th>\n",
              "      <th>B</th>\n",
              "      <th>C</th>\n",
              "    </tr>\n",
              "  </thead>\n",
              "  <tbody>\n",
              "    <tr>\n",
              "      <th>0</th>\n",
              "      <td>1</td>\n",
              "      <td>0</td>\n",
              "      <td>0</td>\n",
              "    </tr>\n",
              "    <tr>\n",
              "      <th>78700</th>\n",
              "      <td>0</td>\n",
              "      <td>1</td>\n",
              "      <td>0</td>\n",
              "    </tr>\n",
              "    <tr>\n",
              "      <th>78701</th>\n",
              "      <td>0</td>\n",
              "      <td>1</td>\n",
              "      <td>0</td>\n",
              "    </tr>\n",
              "    <tr>\n",
              "      <th>78702</th>\n",
              "      <td>0</td>\n",
              "      <td>1</td>\n",
              "      <td>0</td>\n",
              "    </tr>\n",
              "    <tr>\n",
              "      <th>78703</th>\n",
              "      <td>0</td>\n",
              "      <td>1</td>\n",
              "      <td>0</td>\n",
              "    </tr>\n",
              "  </tbody>\n",
              "</table>\n",
              "</div>"
            ],
            "text/plain": [
              "       A  B  C\n",
              "0      1  0  0\n",
              "78700  0  1  0\n",
              "78701  0  1  0\n",
              "78702  0  1  0\n",
              "78703  0  1  0"
            ]
          },
          "metadata": {
            "tags": []
          },
          "execution_count": 46
        }
      ]
    },
    {
      "cell_type": "code",
      "metadata": {
        "id": "Oy_HEhdw6Wa_",
        "colab_type": "code",
        "outputId": "536cd3af-1008-4b3f-ab83-b8db27bac3f0",
        "colab": {
          "base_uri": "https://localhost:8080/",
          "height": 261
        }
      },
      "source": [
        "# Concatinating and drop type variable from the dataframe\n",
        "df = pd.concat([df, dummy], axis = 1)\n",
        "df.head()"
      ],
      "execution_count": 47,
      "outputs": [
        {
          "output_type": "execute_result",
          "data": {
            "text/html": [
              "<div>\n",
              "<style scoped>\n",
              "    .dataframe tbody tr th:only-of-type {\n",
              "        vertical-align: middle;\n",
              "    }\n",
              "\n",
              "    .dataframe tbody tr th {\n",
              "        vertical-align: top;\n",
              "    }\n",
              "\n",
              "    .dataframe thead th {\n",
              "        text-align: right;\n",
              "    }\n",
              "</style>\n",
              "<table border=\"1\" class=\"dataframe\">\n",
              "  <thead>\n",
              "    <tr style=\"text-align: right;\">\n",
              "      <th></th>\n",
              "      <th>Store</th>\n",
              "      <th>Date</th>\n",
              "      <th>Temperature</th>\n",
              "      <th>Fuel_Price</th>\n",
              "      <th>MarkDown1</th>\n",
              "      <th>MarkDown2</th>\n",
              "      <th>MarkDown3</th>\n",
              "      <th>MarkDown4</th>\n",
              "      <th>MarkDown5</th>\n",
              "      <th>CPI</th>\n",
              "      <th>Unemployment</th>\n",
              "      <th>IsHoliday</th>\n",
              "      <th>Dept</th>\n",
              "      <th>Weekly_Sales</th>\n",
              "      <th>Type</th>\n",
              "      <th>Size</th>\n",
              "      <th>year</th>\n",
              "      <th>day</th>\n",
              "      <th>Days to Next Christmas</th>\n",
              "      <th>A</th>\n",
              "      <th>B</th>\n",
              "      <th>C</th>\n",
              "    </tr>\n",
              "  </thead>\n",
              "  <tbody>\n",
              "    <tr>\n",
              "      <th>0</th>\n",
              "      <td>1</td>\n",
              "      <td>2010-02-05</td>\n",
              "      <td>42.31</td>\n",
              "      <td>2.572</td>\n",
              "      <td>0.0</td>\n",
              "      <td>0.0</td>\n",
              "      <td>0.0</td>\n",
              "      <td>0.0</td>\n",
              "      <td>0.0</td>\n",
              "      <td>211.096358</td>\n",
              "      <td>8.106</td>\n",
              "      <td>False</td>\n",
              "      <td>1</td>\n",
              "      <td>24924.50</td>\n",
              "      <td>A</td>\n",
              "      <td>151315</td>\n",
              "      <td>2010</td>\n",
              "      <td>5</td>\n",
              "      <td>329</td>\n",
              "      <td>1</td>\n",
              "      <td>0</td>\n",
              "      <td>0</td>\n",
              "    </tr>\n",
              "    <tr>\n",
              "      <th>78700</th>\n",
              "      <td>9</td>\n",
              "      <td>2010-02-05</td>\n",
              "      <td>38.01</td>\n",
              "      <td>2.572</td>\n",
              "      <td>0.0</td>\n",
              "      <td>0.0</td>\n",
              "      <td>0.0</td>\n",
              "      <td>0.0</td>\n",
              "      <td>0.0</td>\n",
              "      <td>214.655459</td>\n",
              "      <td>6.415</td>\n",
              "      <td>False</td>\n",
              "      <td>54</td>\n",
              "      <td>178.00</td>\n",
              "      <td>B</td>\n",
              "      <td>125833</td>\n",
              "      <td>2010</td>\n",
              "      <td>5</td>\n",
              "      <td>329</td>\n",
              "      <td>0</td>\n",
              "      <td>1</td>\n",
              "      <td>0</td>\n",
              "    </tr>\n",
              "    <tr>\n",
              "      <th>78701</th>\n",
              "      <td>9</td>\n",
              "      <td>2010-02-05</td>\n",
              "      <td>38.01</td>\n",
              "      <td>2.572</td>\n",
              "      <td>0.0</td>\n",
              "      <td>0.0</td>\n",
              "      <td>0.0</td>\n",
              "      <td>0.0</td>\n",
              "      <td>0.0</td>\n",
              "      <td>214.655459</td>\n",
              "      <td>6.415</td>\n",
              "      <td>False</td>\n",
              "      <td>55</td>\n",
              "      <td>11123.56</td>\n",
              "      <td>B</td>\n",
              "      <td>125833</td>\n",
              "      <td>2010</td>\n",
              "      <td>5</td>\n",
              "      <td>329</td>\n",
              "      <td>0</td>\n",
              "      <td>1</td>\n",
              "      <td>0</td>\n",
              "    </tr>\n",
              "    <tr>\n",
              "      <th>78702</th>\n",
              "      <td>9</td>\n",
              "      <td>2010-02-05</td>\n",
              "      <td>38.01</td>\n",
              "      <td>2.572</td>\n",
              "      <td>0.0</td>\n",
              "      <td>0.0</td>\n",
              "      <td>0.0</td>\n",
              "      <td>0.0</td>\n",
              "      <td>0.0</td>\n",
              "      <td>214.655459</td>\n",
              "      <td>6.415</td>\n",
              "      <td>False</td>\n",
              "      <td>56</td>\n",
              "      <td>769.32</td>\n",
              "      <td>B</td>\n",
              "      <td>125833</td>\n",
              "      <td>2010</td>\n",
              "      <td>5</td>\n",
              "      <td>329</td>\n",
              "      <td>0</td>\n",
              "      <td>1</td>\n",
              "      <td>0</td>\n",
              "    </tr>\n",
              "    <tr>\n",
              "      <th>78703</th>\n",
              "      <td>9</td>\n",
              "      <td>2010-02-05</td>\n",
              "      <td>38.01</td>\n",
              "      <td>2.572</td>\n",
              "      <td>0.0</td>\n",
              "      <td>0.0</td>\n",
              "      <td>0.0</td>\n",
              "      <td>0.0</td>\n",
              "      <td>0.0</td>\n",
              "      <td>214.655459</td>\n",
              "      <td>6.415</td>\n",
              "      <td>False</td>\n",
              "      <td>59</td>\n",
              "      <td>241.86</td>\n",
              "      <td>B</td>\n",
              "      <td>125833</td>\n",
              "      <td>2010</td>\n",
              "      <td>5</td>\n",
              "      <td>329</td>\n",
              "      <td>0</td>\n",
              "      <td>1</td>\n",
              "      <td>0</td>\n",
              "    </tr>\n",
              "  </tbody>\n",
              "</table>\n",
              "</div>"
            ],
            "text/plain": [
              "       Store        Date  Temperature  ...  A  B  C\n",
              "0          1  2010-02-05        42.31  ...  1  0  0\n",
              "78700      9  2010-02-05        38.01  ...  0  1  0\n",
              "78701      9  2010-02-05        38.01  ...  0  1  0\n",
              "78702      9  2010-02-05        38.01  ...  0  1  0\n",
              "78703      9  2010-02-05        38.01  ...  0  1  0\n",
              "\n",
              "[5 rows x 22 columns]"
            ]
          },
          "metadata": {
            "tags": []
          },
          "execution_count": 47
        }
      ]
    },
    {
      "cell_type": "code",
      "metadata": {
        "id": "VdPmtWkQ6WbF",
        "colab_type": "code",
        "outputId": "581593e8-9a67-43e7-ebb8-de020a8c7faa",
        "colab": {
          "base_uri": "https://localhost:8080/",
          "height": 35
        }
      },
      "source": [
        "# Drop the type variable as we have created dummies\n",
        "df = df.drop(['Type'], axis = 1)\n",
        "df.shape"
      ],
      "execution_count": 48,
      "outputs": [
        {
          "output_type": "execute_result",
          "data": {
            "text/plain": [
              "(309678, 21)"
            ]
          },
          "metadata": {
            "tags": []
          },
          "execution_count": 48
        }
      ]
    },
    {
      "cell_type": "code",
      "metadata": {
        "id": "ZmBSUdUn6WbJ",
        "colab_type": "code",
        "outputId": "1d9468d5-5a3c-4c96-87e2-a1cdf75008e4",
        "colab": {
          "base_uri": "https://localhost:8080/",
          "height": 206
        }
      },
      "source": [
        "# As we have one more column IsHoliday\n",
        "dummy1 = pd.get_dummies(df['IsHoliday'])\n",
        "dummy1.head()"
      ],
      "execution_count": 49,
      "outputs": [
        {
          "output_type": "execute_result",
          "data": {
            "text/html": [
              "<div>\n",
              "<style scoped>\n",
              "    .dataframe tbody tr th:only-of-type {\n",
              "        vertical-align: middle;\n",
              "    }\n",
              "\n",
              "    .dataframe tbody tr th {\n",
              "        vertical-align: top;\n",
              "    }\n",
              "\n",
              "    .dataframe thead th {\n",
              "        text-align: right;\n",
              "    }\n",
              "</style>\n",
              "<table border=\"1\" class=\"dataframe\">\n",
              "  <thead>\n",
              "    <tr style=\"text-align: right;\">\n",
              "      <th></th>\n",
              "      <th>False</th>\n",
              "      <th>True</th>\n",
              "    </tr>\n",
              "  </thead>\n",
              "  <tbody>\n",
              "    <tr>\n",
              "      <th>0</th>\n",
              "      <td>1</td>\n",
              "      <td>0</td>\n",
              "    </tr>\n",
              "    <tr>\n",
              "      <th>78700</th>\n",
              "      <td>1</td>\n",
              "      <td>0</td>\n",
              "    </tr>\n",
              "    <tr>\n",
              "      <th>78701</th>\n",
              "      <td>1</td>\n",
              "      <td>0</td>\n",
              "    </tr>\n",
              "    <tr>\n",
              "      <th>78702</th>\n",
              "      <td>1</td>\n",
              "      <td>0</td>\n",
              "    </tr>\n",
              "    <tr>\n",
              "      <th>78703</th>\n",
              "      <td>1</td>\n",
              "      <td>0</td>\n",
              "    </tr>\n",
              "  </tbody>\n",
              "</table>\n",
              "</div>"
            ],
            "text/plain": [
              "       False  True \n",
              "0          1      0\n",
              "78700      1      0\n",
              "78701      1      0\n",
              "78702      1      0\n",
              "78703      1      0"
            ]
          },
          "metadata": {
            "tags": []
          },
          "execution_count": 49
        }
      ]
    },
    {
      "cell_type": "markdown",
      "metadata": {
        "id": "G4Yiob636WbM",
        "colab_type": "text"
      },
      "source": [
        "    Creating Extra Holiday Variable.\n",
        "    If that week comes under extra holiday then 1(=Yes) else 2(=No)"
      ]
    },
    {
      "cell_type": "markdown",
      "metadata": {
        "id": "75K714bg6WbN",
        "colab_type": "text"
      },
      "source": [
        "### Creating testing dummies"
      ]
    },
    {
      "cell_type": "code",
      "metadata": {
        "id": "9VqqyeTo6WbP",
        "colab_type": "code",
        "colab": {}
      },
      "source": [
        "# df_test.Type"
      ],
      "execution_count": 0,
      "outputs": []
    },
    {
      "cell_type": "code",
      "metadata": {
        "id": "YpIATFRP6WbW",
        "colab_type": "code",
        "colab": {}
      },
      "source": [
        "# Create and concat into dataframe\n",
        "dummy_test = pd.get_dummies(df_test['Type'])\n",
        "df_test = pd.concat([df_test, dummy_test], axis = 1)"
      ],
      "execution_count": 0,
      "outputs": []
    },
    {
      "cell_type": "code",
      "metadata": {
        "id": "SGgAITwZ6Wba",
        "colab_type": "code",
        "outputId": "3e876e66-ac66-400f-844f-bb3a0a39c10a",
        "colab": {
          "base_uri": "https://localhost:8080/",
          "height": 261
        }
      },
      "source": [
        "df_test.head()"
      ],
      "execution_count": 52,
      "outputs": [
        {
          "output_type": "execute_result",
          "data": {
            "text/html": [
              "<div>\n",
              "<style scoped>\n",
              "    .dataframe tbody tr th:only-of-type {\n",
              "        vertical-align: middle;\n",
              "    }\n",
              "\n",
              "    .dataframe tbody tr th {\n",
              "        vertical-align: top;\n",
              "    }\n",
              "\n",
              "    .dataframe thead th {\n",
              "        text-align: right;\n",
              "    }\n",
              "</style>\n",
              "<table border=\"1\" class=\"dataframe\">\n",
              "  <thead>\n",
              "    <tr style=\"text-align: right;\">\n",
              "      <th></th>\n",
              "      <th>Store</th>\n",
              "      <th>Date</th>\n",
              "      <th>Temperature</th>\n",
              "      <th>Fuel_Price</th>\n",
              "      <th>MarkDown1</th>\n",
              "      <th>MarkDown2</th>\n",
              "      <th>MarkDown3</th>\n",
              "      <th>MarkDown4</th>\n",
              "      <th>MarkDown5</th>\n",
              "      <th>CPI</th>\n",
              "      <th>Unemployment</th>\n",
              "      <th>IsHoliday</th>\n",
              "      <th>Dept</th>\n",
              "      <th>Type</th>\n",
              "      <th>Size</th>\n",
              "      <th>year</th>\n",
              "      <th>day</th>\n",
              "      <th>Days to Next Christmas</th>\n",
              "      <th>A</th>\n",
              "      <th>B</th>\n",
              "      <th>C</th>\n",
              "    </tr>\n",
              "  </thead>\n",
              "  <tbody>\n",
              "    <tr>\n",
              "      <th>0</th>\n",
              "      <td>1</td>\n",
              "      <td>2012-11-02</td>\n",
              "      <td>55.32</td>\n",
              "      <td>3.386</td>\n",
              "      <td>6766.44</td>\n",
              "      <td>6766.44</td>\n",
              "      <td>6766.44</td>\n",
              "      <td>6766.44</td>\n",
              "      <td>6766.44</td>\n",
              "      <td>223.462779</td>\n",
              "      <td>6.573</td>\n",
              "      <td>False</td>\n",
              "      <td>1</td>\n",
              "      <td>A</td>\n",
              "      <td>151315</td>\n",
              "      <td>2010</td>\n",
              "      <td>5</td>\n",
              "      <td>-672</td>\n",
              "      <td>1</td>\n",
              "      <td>0</td>\n",
              "      <td>0</td>\n",
              "    </tr>\n",
              "    <tr>\n",
              "      <th>1</th>\n",
              "      <td>1</td>\n",
              "      <td>2012-11-02</td>\n",
              "      <td>55.32</td>\n",
              "      <td>3.386</td>\n",
              "      <td>6766.44</td>\n",
              "      <td>6766.44</td>\n",
              "      <td>6766.44</td>\n",
              "      <td>6766.44</td>\n",
              "      <td>6766.44</td>\n",
              "      <td>223.462779</td>\n",
              "      <td>6.573</td>\n",
              "      <td>False</td>\n",
              "      <td>2</td>\n",
              "      <td>A</td>\n",
              "      <td>151315</td>\n",
              "      <td>2010</td>\n",
              "      <td>5</td>\n",
              "      <td>-672</td>\n",
              "      <td>1</td>\n",
              "      <td>0</td>\n",
              "      <td>0</td>\n",
              "    </tr>\n",
              "    <tr>\n",
              "      <th>2</th>\n",
              "      <td>1</td>\n",
              "      <td>2012-11-02</td>\n",
              "      <td>55.32</td>\n",
              "      <td>3.386</td>\n",
              "      <td>6766.44</td>\n",
              "      <td>6766.44</td>\n",
              "      <td>6766.44</td>\n",
              "      <td>6766.44</td>\n",
              "      <td>6766.44</td>\n",
              "      <td>223.462779</td>\n",
              "      <td>6.573</td>\n",
              "      <td>False</td>\n",
              "      <td>3</td>\n",
              "      <td>A</td>\n",
              "      <td>151315</td>\n",
              "      <td>2010</td>\n",
              "      <td>5</td>\n",
              "      <td>-672</td>\n",
              "      <td>1</td>\n",
              "      <td>0</td>\n",
              "      <td>0</td>\n",
              "    </tr>\n",
              "    <tr>\n",
              "      <th>3</th>\n",
              "      <td>1</td>\n",
              "      <td>2012-11-02</td>\n",
              "      <td>55.32</td>\n",
              "      <td>3.386</td>\n",
              "      <td>6766.44</td>\n",
              "      <td>6766.44</td>\n",
              "      <td>6766.44</td>\n",
              "      <td>6766.44</td>\n",
              "      <td>6766.44</td>\n",
              "      <td>223.462779</td>\n",
              "      <td>6.573</td>\n",
              "      <td>False</td>\n",
              "      <td>4</td>\n",
              "      <td>A</td>\n",
              "      <td>151315</td>\n",
              "      <td>2010</td>\n",
              "      <td>5</td>\n",
              "      <td>-672</td>\n",
              "      <td>1</td>\n",
              "      <td>0</td>\n",
              "      <td>0</td>\n",
              "    </tr>\n",
              "    <tr>\n",
              "      <th>4</th>\n",
              "      <td>1</td>\n",
              "      <td>2012-11-02</td>\n",
              "      <td>55.32</td>\n",
              "      <td>3.386</td>\n",
              "      <td>6766.44</td>\n",
              "      <td>6766.44</td>\n",
              "      <td>6766.44</td>\n",
              "      <td>6766.44</td>\n",
              "      <td>6766.44</td>\n",
              "      <td>223.462779</td>\n",
              "      <td>6.573</td>\n",
              "      <td>False</td>\n",
              "      <td>5</td>\n",
              "      <td>A</td>\n",
              "      <td>151315</td>\n",
              "      <td>2010</td>\n",
              "      <td>5</td>\n",
              "      <td>-672</td>\n",
              "      <td>1</td>\n",
              "      <td>0</td>\n",
              "      <td>0</td>\n",
              "    </tr>\n",
              "  </tbody>\n",
              "</table>\n",
              "</div>"
            ],
            "text/plain": [
              "   Store        Date  Temperature  Fuel_Price  ...  Days to Next Christmas  A  B  C\n",
              "0      1  2012-11-02        55.32       3.386  ...                    -672  1  0  0\n",
              "1      1  2012-11-02        55.32       3.386  ...                    -672  1  0  0\n",
              "2      1  2012-11-02        55.32       3.386  ...                    -672  1  0  0\n",
              "3      1  2012-11-02        55.32       3.386  ...                    -672  1  0  0\n",
              "4      1  2012-11-02        55.32       3.386  ...                    -672  1  0  0\n",
              "\n",
              "[5 rows x 21 columns]"
            ]
          },
          "metadata": {
            "tags": []
          },
          "execution_count": 52
        }
      ]
    },
    {
      "cell_type": "markdown",
      "metadata": {
        "id": "L_LSgHXg6Wbe",
        "colab_type": "text"
      },
      "source": [
        "    WE have created dummies for testing df so we can drop extra variable 'Type'"
      ]
    },
    {
      "cell_type": "code",
      "metadata": {
        "id": "EOno4L9a6Wbe",
        "colab_type": "code",
        "colab": {}
      },
      "source": [
        "df_test = df_test.drop(['Type'], axis = 1)"
      ],
      "execution_count": 0,
      "outputs": []
    },
    {
      "cell_type": "code",
      "metadata": {
        "id": "IwesaPrg6Wbh",
        "colab_type": "code",
        "outputId": "36d9d56d-454d-4f72-e646-c29e8243e1a8",
        "colab": {
          "base_uri": "https://localhost:8080/",
          "height": 35
        }
      },
      "source": [
        "df_test.shape"
      ],
      "execution_count": 54,
      "outputs": [
        {
          "output_type": "execute_result",
          "data": {
            "text/plain": [
              "(115064, 20)"
            ]
          },
          "metadata": {
            "tags": []
          },
          "execution_count": 54
        }
      ]
    },
    {
      "cell_type": "markdown",
      "metadata": {
        "id": "FDnhgfoy6Wbo",
        "colab_type": "text"
      },
      "source": [
        "---\n",
        "### Creating new variables fro special holidays\n",
        "---"
      ]
    },
    {
      "cell_type": "code",
      "metadata": {
        "id": "iJ4i5DVf6Wbp",
        "colab_type": "code",
        "colab": {}
      },
      "source": [
        "from datetime import datetime"
      ],
      "execution_count": 0,
      "outputs": []
    },
    {
      "cell_type": "code",
      "metadata": {
        "id": "4NBkZOUM6Wbr",
        "colab_type": "code",
        "colab": {}
      },
      "source": [
        "# For training data\n",
        "df['super_bowl'] = np.where((df['Date'] == datetime(2010,2,12)) | (df['Date'] == datetime(2011,2,11)) | (df['Date'] == datetime(2012,2,10)) | (df['Date'] == datetime(2013,2,8)),1,0)\n",
        "df['labour_day'] = np.where((df['Date'] == datetime(2010,9,10)) | (df['Date'] == datetime(2011,9,9)) | (df['Date'] == datetime(2012,9,7)) | (df['Date'] == datetime(2013,9,6)),1,0)\n",
        "df['thanks_giving'] = np.where((df['Date'] == datetime(2010,11,26)) | (df['Date'] == datetime(2011,11,25)) | (df['Date'] == datetime(2012,11,23)) | (df['Date'] == datetime(2013,11,29)),1,0)\n",
        "df['christmas'] = np.where((df['Date'] == datetime(2010,12,31)) | (df['Date'] == datetime(2011,12,30)) | (df['Date'] == datetime(2012,12,28)) | (df['Date'] == datetime(2013,12,27)),1,0)\n",
        "\n",
        "\n",
        "# For testing data\n",
        "df_test['super_bowl'] = np.where((df_test['Date'] == datetime(2010,2,12)) | (df_test['Date'] == datetime(2011,2,11)) | (df_test['Date'] == datetime(2012,2,10)) | (df_test['Date'] == datetime(2013,2,8)),1,0)\n",
        "df_test['labour_day'] = np.where((df_test['Date'] == datetime(2010,9,10)) | (df_test['Date'] == datetime(2011,9,9)) | (df_test['Date'] == datetime(2012,9,7)) | (df_test['Date'] == datetime(2013,9,6)),1,0)\n",
        "df_test['thanks_giving'] = np.where((df_test['Date'] == datetime(2010,11,26)) | (df_test['Date'] == datetime(2011,11,25)) | (df_test['Date'] == datetime(2012,11,23)) | (df_test['Date'] == datetime(2013,11,29)),1,0)\n",
        "df_test['christmas'] = np.where((df_test['Date'] == datetime(2010,12,31)) | (df_test['Date'] == datetime(2011,12,30)) | (df_test['Date'] == datetime(2012,12,28)) | (df_test['Date'] == datetime(2013,12,27)),1,0)"
      ],
      "execution_count": 0,
      "outputs": []
    },
    {
      "cell_type": "code",
      "metadata": {
        "id": "YSBlBvA26Wbw",
        "colab_type": "code",
        "colab": {}
      },
      "source": [
        "# Altering these holidays with 'IsHolidays'\n",
        "df['IsHoliday'] = df['IsHoliday'] | df['super_bowl'] | df['labour_day'] | df['thanks_giving'] | df['christmas']\n",
        "df_test['IsHoliday'] = df_test['IsHoliday'] | df_test['super_bowl'] | df_test['labour_day'] | df_test['thanks_giving'] | df_test['christmas']"
      ],
      "execution_count": 0,
      "outputs": []
    },
    {
      "cell_type": "code",
      "metadata": {
        "id": "QGGggHRO6Wbz",
        "colab_type": "code",
        "outputId": "043bdcbe-112a-41ad-bdb8-55f56658fdf3",
        "colab": {
          "base_uri": "https://localhost:8080/",
          "height": 72
        }
      },
      "source": [
        "print(df['IsHoliday'].value_counts())"
      ],
      "execution_count": 58,
      "outputs": [
        {
          "output_type": "stream",
          "text": [
            "False    287861\n",
            "True      21817\n",
            "Name: IsHoliday, dtype: int64\n"
          ],
          "name": "stdout"
        }
      ]
    },
    {
      "cell_type": "markdown",
      "metadata": {
        "id": "hIKlDH6L6Wb3",
        "colab_type": "text"
      },
      "source": [
        "    All the extra holidays is merged with 'IsHolidays'.\n",
        "    So, We can drop extra variable."
      ]
    },
    {
      "cell_type": "code",
      "metadata": {
        "id": "FR9zxB-P6Wb4",
        "colab_type": "code",
        "outputId": "179f5406-1da1-4b50-a252-373ef0f882b2",
        "colab": {
          "base_uri": "https://localhost:8080/",
          "height": 164
        }
      },
      "source": [
        "print(df.shape)\n",
        "print(df_test.shape)\n",
        "df.columns"
      ],
      "execution_count": 59,
      "outputs": [
        {
          "output_type": "stream",
          "text": [
            "(309678, 25)\n",
            "(115064, 24)\n"
          ],
          "name": "stdout"
        },
        {
          "output_type": "execute_result",
          "data": {
            "text/plain": [
              "Index(['Store', 'Date', 'Temperature', 'Fuel_Price', 'MarkDown1', 'MarkDown2',\n",
              "       'MarkDown3', 'MarkDown4', 'MarkDown5', 'CPI', 'Unemployment',\n",
              "       'IsHoliday', 'Dept', 'Weekly_Sales', 'Size', 'year', 'day',\n",
              "       'Days to Next Christmas', 'A', 'B', 'C', 'super_bowl', 'labour_day',\n",
              "       'thanks_giving', 'christmas'],\n",
              "      dtype='object')"
            ]
          },
          "metadata": {
            "tags": []
          },
          "execution_count": 59
        }
      ]
    },
    {
      "cell_type": "code",
      "metadata": {
        "id": "DKWYooiJ6Wb9",
        "colab_type": "code",
        "outputId": "7d72856e-44f4-4757-e55e-c7dec3230b3a",
        "colab": {
          "base_uri": "https://localhost:8080/",
          "height": 127
        }
      },
      "source": [
        "df_test.columns"
      ],
      "execution_count": 60,
      "outputs": [
        {
          "output_type": "execute_result",
          "data": {
            "text/plain": [
              "Index(['Store', 'Date', 'Temperature', 'Fuel_Price', 'MarkDown1', 'MarkDown2',\n",
              "       'MarkDown3', 'MarkDown4', 'MarkDown5', 'CPI', 'Unemployment',\n",
              "       'IsHoliday', 'Dept', 'Size', 'year', 'day', 'Days to Next Christmas',\n",
              "       'A', 'B', 'C', 'super_bowl', 'labour_day', 'thanks_giving',\n",
              "       'christmas'],\n",
              "      dtype='object')"
            ]
          },
          "metadata": {
            "tags": []
          },
          "execution_count": 60
        }
      ]
    },
    {
      "cell_type": "code",
      "metadata": {
        "id": "2A4NbzE-6WcA",
        "colab_type": "code",
        "outputId": "e2cfa305-c899-4226-8109-94baa4601afe",
        "colab": {
          "base_uri": "https://localhost:8080/",
          "height": 54
        }
      },
      "source": [
        "drop_extra = ['super_bowl', 'labour_day', 'thanks_giving', 'christmas']\n",
        "# Training\n",
        "df.drop(drop_extra, axis = 1, inplace = True)\n",
        "print(df.shape)\n",
        "\n",
        "# Testing\n",
        "df_test.drop(drop_extra, axis = 1, inplace = True)\n",
        "print(df_test.shape)"
      ],
      "execution_count": 61,
      "outputs": [
        {
          "output_type": "stream",
          "text": [
            "(309678, 21)\n",
            "(115064, 20)\n"
          ],
          "name": "stdout"
        }
      ]
    },
    {
      "cell_type": "markdown",
      "metadata": {
        "id": "XANV3zk36WcC",
        "colab_type": "text"
      },
      "source": [
        "    Extra variable dropped successfully."
      ]
    },
    {
      "cell_type": "code",
      "metadata": {
        "scrolled": true,
        "id": "lU1_AaVn6WcD",
        "colab_type": "code",
        "outputId": "d32abbd8-5c9b-49e0-a465-2f15f8e3ab4f",
        "colab": {
          "base_uri": "https://localhost:8080/",
          "height": 309
        }
      },
      "source": [
        "sns.distplot(df.Weekly_Sales)"
      ],
      "execution_count": 62,
      "outputs": [
        {
          "output_type": "execute_result",
          "data": {
            "text/plain": [
              "<matplotlib.axes._subplots.AxesSubplot at 0x7f372bd26d68>"
            ]
          },
          "metadata": {
            "tags": []
          },
          "execution_count": 62
        },
        {
          "output_type": "display_data",
          "data": {
            "image/png": "[encoded data removed]",
            "text/plain": [
              "<Figure size 432x288 with 1 Axes>"
            ]
          },
          "metadata": {
            "tags": [],
            "needs_background": "light"
          }
        }
      ]
    },
    {
      "cell_type": "code",
      "metadata": {
        "id": "ZwThFGfL6WcH",
        "colab_type": "code",
        "outputId": "0ebaabd1-074b-4881-f72a-ae7c136fb2b5",
        "colab": {
          "base_uri": "https://localhost:8080/",
          "height": 35
        }
      },
      "source": [
        "# df['Weekly_Sales'][df.Weekly_Sales < 0]\n",
        "df.Weekly_Sales.skew()"
      ],
      "execution_count": 63,
      "outputs": [
        {
          "output_type": "execute_result",
          "data": {
            "text/plain": [
              "3.186261554775628"
            ]
          },
          "metadata": {
            "tags": []
          },
          "execution_count": 63
        }
      ]
    },
    {
      "cell_type": "code",
      "metadata": {
        "id": "waCJ9UdC6WcM",
        "colab_type": "code",
        "outputId": "09b5c580-3ad4-4478-c888-745e142308d6",
        "colab": {
          "base_uri": "https://localhost:8080/",
          "height": 237
        }
      },
      "source": [
        "df.loc[df.Weekly_Sales < 0, 'Weekly_Sales']"
      ],
      "execution_count": 64,
      "outputs": [
        {
          "output_type": "execute_result",
          "data": {
            "text/plain": [
              "78698     -15.00\n",
              "286569    -12.99\n",
              "48832     -59.00\n",
              "293759    -12.00\n",
              "138174     -0.04\n",
              "           ...  \n",
              "167302    -11.00\n",
              "286534   -178.15\n",
              "177184    -11.51\n",
              "187305    -18.00\n",
              "197495     -3.97\n",
              "Name: Weekly_Sales, Length: 878, dtype: float64"
            ]
          },
          "metadata": {
            "tags": []
          },
          "execution_count": 64
        }
      ]
    },
    {
      "cell_type": "markdown",
      "metadata": {
        "id": "VXl6_9EP6WcR",
        "colab_type": "text"
      },
      "source": [
        "    We have found that our 'Y' variable is having a negative values."
      ]
    },
    {
      "cell_type": "code",
      "metadata": {
        "id": "9xo1Wjk16WcR",
        "colab_type": "code",
        "colab": {}
      },
      "source": [
        "df.loc[df.Weekly_Sales < 0, 'Weekly_Sales'] = 0"
      ],
      "execution_count": 0,
      "outputs": []
    },
    {
      "cell_type": "markdown",
      "metadata": {
        "id": "75v2AFxM6Wca",
        "colab_type": "text"
      },
      "source": [
        "    We have filled negative values to 'Zero' as per the instruction.\n",
        "    We can't take log of negative values."
      ]
    },
    {
      "cell_type": "code",
      "metadata": {
        "id": "M5eIKWlP6Wcb",
        "colab_type": "code",
        "outputId": "3cf03360-0c03-4e6b-87a1-3bb91f6b5a0b",
        "colab": {
          "base_uri": "https://localhost:8080/",
          "height": 54
        }
      },
      "source": [
        "# Taking log of 'Y' values = Weekly_Sales\n",
        "a = np.log(df.Weekly_Sales)"
      ],
      "execution_count": 66,
      "outputs": [
        {
          "output_type": "stream",
          "text": [
            "/usr/local/lib/python3.6/dist-packages/pandas/core/series.py:679: RuntimeWarning: divide by zero encountered in log\n",
            "  result = getattr(ufunc, method)(*inputs, **kwargs)\n"
          ],
          "name": "stderr"
        }
      ]
    },
    {
      "cell_type": "code",
      "metadata": {
        "id": "ktb_qULH6Wcf",
        "colab_type": "code",
        "colab": {}
      },
      "source": [
        "# a.skew()\n",
        "# sns.distplot(a)"
      ],
      "execution_count": 0,
      "outputs": []
    },
    {
      "cell_type": "markdown",
      "metadata": {
        "id": "It6l1V0H6Wcj",
        "colab_type": "text"
      },
      "source": [
        "---\n",
        "## Feature Selection\n",
        "---"
      ]
    },
    {
      "cell_type": "code",
      "metadata": {
        "id": "KPSeZCe36Wck",
        "colab_type": "code",
        "outputId": "e534d041-f854-4a37-e191-671493188638",
        "colab": {
          "base_uri": "https://localhost:8080/",
          "height": 109
        }
      },
      "source": [
        "df.columns"
      ],
      "execution_count": 68,
      "outputs": [
        {
          "output_type": "execute_result",
          "data": {
            "text/plain": [
              "Index(['Store', 'Date', 'Temperature', 'Fuel_Price', 'MarkDown1', 'MarkDown2',\n",
              "       'MarkDown3', 'MarkDown4', 'MarkDown5', 'CPI', 'Unemployment',\n",
              "       'IsHoliday', 'Dept', 'Weekly_Sales', 'Size', 'year', 'day',\n",
              "       'Days to Next Christmas', 'A', 'B', 'C'],\n",
              "      dtype='object')"
            ]
          },
          "metadata": {
            "tags": []
          },
          "execution_count": 68
        }
      ]
    },
    {
      "cell_type": "markdown",
      "metadata": {
        "id": "vmJp23FO6Wco",
        "colab_type": "text"
      },
      "source": [
        "#### Dropping irrelevant variable\n"
      ]
    },
    {
      "cell_type": "markdown",
      "metadata": {
        "id": "SxPssKFk6Wco",
        "colab_type": "text"
      },
      "source": [
        "    As we have seen, all markdown is highly correlated with each other, but We can not drop all markdowns.\n",
        "    Markdown5 is highly skewed so we can drop markdown5.\n",
        "    \n",
        "    "
      ]
    },
    {
      "cell_type": "code",
      "metadata": {
        "id": "lX5S-YkW6Wco",
        "colab_type": "code",
        "outputId": "31897ad9-d4cc-46c4-ac78-6147acad9a4a",
        "colab": {
          "base_uri": "https://localhost:8080/",
          "height": 35
        }
      },
      "source": [
        "# Make a list for variables which we can drop\n",
        "drop_features = ['MarkDown5']\n",
        "drop_features"
      ],
      "execution_count": 69,
      "outputs": [
        {
          "output_type": "execute_result",
          "data": {
            "text/plain": [
              "['MarkDown5']"
            ]
          },
          "metadata": {
            "tags": []
          },
          "execution_count": 69
        }
      ]
    },
    {
      "cell_type": "code",
      "metadata": {
        "id": "OFq8hYUK6Wct",
        "colab_type": "code",
        "colab": {}
      },
      "source": [
        "df = df.drop(drop_features, axis = 1)"
      ],
      "execution_count": 0,
      "outputs": []
    },
    {
      "cell_type": "code",
      "metadata": {
        "id": "GsTSdwGE6Wcv",
        "colab_type": "code",
        "outputId": "9f26f436-05bc-45a3-8a41-bf24929e5074",
        "colab": {
          "base_uri": "https://localhost:8080/",
          "height": 35
        }
      },
      "source": [
        "df.shape"
      ],
      "execution_count": 71,
      "outputs": [
        {
          "output_type": "execute_result",
          "data": {
            "text/plain": [
              "(309678, 20)"
            ]
          },
          "metadata": {
            "tags": []
          },
          "execution_count": 71
        }
      ]
    },
    {
      "cell_type": "markdown",
      "metadata": {
        "id": "Uzu95nfY6Wc1",
        "colab_type": "text"
      },
      "source": [
        "   \n",
        "    After Selecting and dropping the variable, now we can proceed for building model for prediction.\n",
        "    We can try different technique for better accuracy as follows : \n",
        "        - Decision tree\n",
        "        - Ensemble Linear regressor\n",
        "        - Random Forest\n",
        "        - Boosting"
      ]
    },
    {
      "cell_type": "code",
      "metadata": {
        "id": "zd24t95i6Wc1",
        "colab_type": "code",
        "outputId": "383caa3a-1a59-4dfe-8978-813395390c10",
        "colab": {
          "base_uri": "https://localhost:8080/",
          "height": 90
        }
      },
      "source": [
        "# Splitting the data\n",
        "feature_columns = df.columns.difference(['Weekly_Sales', 'Date'])\n",
        "feature_columns"
      ],
      "execution_count": 72,
      "outputs": [
        {
          "output_type": "execute_result",
          "data": {
            "text/plain": [
              "Index(['A', 'B', 'C', 'CPI', 'Days to Next Christmas', 'Dept', 'Fuel_Price',\n",
              "       'IsHoliday', 'MarkDown1', 'MarkDown2', 'MarkDown3', 'MarkDown4', 'Size',\n",
              "       'Store', 'Temperature', 'Unemployment', 'day', 'year'],\n",
              "      dtype='object')"
            ]
          },
          "metadata": {
            "tags": []
          },
          "execution_count": 72
        }
      ]
    },
    {
      "cell_type": "code",
      "metadata": {
        "scrolled": true,
        "id": "XTZkZrFT6Wc5",
        "colab_type": "code",
        "outputId": "70f1e1b6-fd75-479f-b98d-ce4419b7331f",
        "colab": {
          "base_uri": "https://localhost:8080/",
          "height": 35
        }
      },
      "source": [
        "feature_columns.shape"
      ],
      "execution_count": 73,
      "outputs": [
        {
          "output_type": "execute_result",
          "data": {
            "text/plain": [
              "(18,)"
            ]
          },
          "metadata": {
            "tags": []
          },
          "execution_count": 73
        }
      ]
    },
    {
      "cell_type": "code",
      "metadata": {
        "id": "VhAwOc9r6Wc8",
        "colab_type": "code",
        "colab": {}
      },
      "source": [
        "# df_test[feature_columns]"
      ],
      "execution_count": 0,
      "outputs": []
    },
    {
      "cell_type": "code",
      "metadata": {
        "id": "LHw7PCbj6WdA",
        "colab_type": "code",
        "colab": {}
      },
      "source": [
        "# Import the required library\n",
        "from sklearn.model_selection import train_test_split"
      ],
      "execution_count": 0,
      "outputs": []
    },
    {
      "cell_type": "code",
      "metadata": {
        "id": "wKoQQRgd6WdG",
        "colab_type": "code",
        "colab": {}
      },
      "source": [
        "#train-test split\n",
        "X_train,X_test,y_train,y_test = train_test_split( df[feature_columns], df['Weekly_Sales'], \n",
        "                                                     test_size = 0.20, random_state = 0)"
      ],
      "execution_count": 0,
      "outputs": []
    },
    {
      "cell_type": "code",
      "metadata": {
        "id": "y9a7eLFI6WdL",
        "colab_type": "code",
        "outputId": "3109c0cf-8e31-417e-c64a-440080a54bde",
        "colab": {
          "base_uri": "https://localhost:8080/",
          "height": 35
        }
      },
      "source": [
        "X_train.shape, X_test.shape, y_train.shape, y_test.shape"
      ],
      "execution_count": 77,
      "outputs": [
        {
          "output_type": "execute_result",
          "data": {
            "text/plain": [
              "((247742, 18), (61936, 18), (247742,), (61936,))"
            ]
          },
          "metadata": {
            "tags": []
          },
          "execution_count": 77
        }
      ]
    },
    {
      "cell_type": "code",
      "metadata": {
        "id": "6jTYC8BO6Wde",
        "colab_type": "code",
        "outputId": "e3d33bcb-4f9d-4839-ba7f-feef5d8b995d",
        "colab": {
          "base_uri": "https://localhost:8080/",
          "height": 90
        }
      },
      "source": [
        "X_train.columns"
      ],
      "execution_count": 78,
      "outputs": [
        {
          "output_type": "execute_result",
          "data": {
            "text/plain": [
              "Index(['A', 'B', 'C', 'CPI', 'Days to Next Christmas', 'Dept', 'Fuel_Price',\n",
              "       'IsHoliday', 'MarkDown1', 'MarkDown2', 'MarkDown3', 'MarkDown4', 'Size',\n",
              "       'Store', 'Temperature', 'Unemployment', 'day', 'year'],\n",
              "      dtype='object')"
            ]
          },
          "metadata": {
            "tags": []
          },
          "execution_count": 78
        }
      ]
    },
    {
      "cell_type": "markdown",
      "metadata": {
        "id": "eQynQTVk6Wdh",
        "colab_type": "text"
      },
      "source": [
        "Store\n",
        "- Temperature\n",
        "- Fuel_Price\n",
        "- CPI\n",
        "- Unemployment\n",
        "- Dept\n",
        "- Size\n",
        "- IsHoliday\n",
        "- MarkDown1 - 4\n",
        "- Year\n",
        "- Days\n",
        "- Days Next to Christmas\n",
        "- A , B, C"
      ]
    },
    {
      "cell_type": "markdown",
      "metadata": {
        "id": "nq-xzzBp6Wdh",
        "colab_type": "text"
      },
      "source": [
        "## Standardizing train and test data :\n",
        "---"
      ]
    },
    {
      "cell_type": "code",
      "metadata": {
        "id": "cbvwWFqy6Wdj",
        "colab_type": "code",
        "colab": {}
      },
      "source": [
        "from sklearn.preprocessing import StandardScaler\n",
        "sc_X = StandardScaler()\n",
        "X_train = sc_X.fit_transform(X_train)\n",
        "X_test = sc_X.transform(X_test)"
      ],
      "execution_count": 0,
      "outputs": []
    },
    {
      "cell_type": "code",
      "metadata": {
        "id": "kudtQ5_y6Wdl",
        "colab_type": "code",
        "colab": {}
      },
      "source": [
        "# Standardize with the test file data\n",
        "df_test_sc = sc_X.fit_transform(df_test[feature_columns])"
      ],
      "execution_count": 0,
      "outputs": []
    },
    {
      "cell_type": "markdown",
      "metadata": {
        "id": "KJfRJmPR6Wdo",
        "colab_type": "text"
      },
      "source": [
        "---\n",
        "## Linear Regression\n",
        "---"
      ]
    },
    {
      "cell_type": "code",
      "metadata": {
        "id": "1PJvvERg6Wdo",
        "colab_type": "code",
        "colab": {}
      },
      "source": [
        "from sklearn.linear_model import LinearRegression\n",
        "\n",
        "# Checking errors\n",
        "from sklearn.metrics import mean_absolute_error\n",
        "from sklearn.metrics import mean_squared_error"
      ],
      "execution_count": 0,
      "outputs": []
    },
    {
      "cell_type": "code",
      "metadata": {
        "scrolled": true,
        "id": "ruKRn7206Wdr",
        "colab_type": "code",
        "outputId": "64f62d0f-b539-41cb-a6fc-6075907231e8",
        "colab": {
          "base_uri": "https://localhost:8080/",
          "height": 54
        }
      },
      "source": [
        "# Initialize and fit the data into the model\n",
        "linreg = LinearRegression()\n",
        "linreg.fit(X_train, y_train)\n",
        "y_train_pred = linreg.predict( X_train )\n",
        "y_train_pred"
      ],
      "execution_count": 82,
      "outputs": [
        {
          "output_type": "execute_result",
          "data": {
            "text/plain": [
              "array([23615.10170418, 24689.70463311, 17283.96273607, ...,\n",
              "       25368.44844947,  7589.7349538 , 13521.95055248])"
            ]
          },
          "metadata": {
            "tags": []
          },
          "execution_count": 82
        }
      ]
    },
    {
      "cell_type": "code",
      "metadata": {
        "id": "idX3DepL6Wdu",
        "colab_type": "code",
        "colab": {}
      },
      "source": [
        "# Predicting for test\n",
        "y_test_pred = linreg.predict( X_test )"
      ],
      "execution_count": 0,
      "outputs": []
    },
    {
      "cell_type": "code",
      "metadata": {
        "id": "yjOkvINx6Wdx",
        "colab_type": "code",
        "outputId": "97bf78bc-6b29-418c-d2af-d1d9c18d907d",
        "colab": {
          "base_uri": "https://localhost:8080/",
          "height": 363
        }
      },
      "source": [
        "df_test_pred = pd.DataFrame({'actual' : y_test,\n",
        "                                'Predicted' : y_test_pred})\n",
        "df_test_pred.head(10)"
      ],
      "execution_count": 84,
      "outputs": [
        {
          "output_type": "execute_result",
          "data": {
            "text/html": [
              "<div>\n",
              "<style scoped>\n",
              "    .dataframe tbody tr th:only-of-type {\n",
              "        vertical-align: middle;\n",
              "    }\n",
              "\n",
              "    .dataframe tbody tr th {\n",
              "        vertical-align: top;\n",
              "    }\n",
              "\n",
              "    .dataframe thead th {\n",
              "        text-align: right;\n",
              "    }\n",
              "</style>\n",
              "<table border=\"1\" class=\"dataframe\">\n",
              "  <thead>\n",
              "    <tr style=\"text-align: right;\">\n",
              "      <th></th>\n",
              "      <th>actual</th>\n",
              "      <th>Predicted</th>\n",
              "    </tr>\n",
              "  </thead>\n",
              "  <tbody>\n",
              "    <tr>\n",
              "      <th>52607</th>\n",
              "      <td>7681.88</td>\n",
              "      <td>26581.120266</td>\n",
              "    </tr>\n",
              "    <tr>\n",
              "      <th>64533</th>\n",
              "      <td>33294.89</td>\n",
              "      <td>9028.753127</td>\n",
              "    </tr>\n",
              "    <tr>\n",
              "      <th>129125</th>\n",
              "      <td>478.00</td>\n",
              "      <td>23620.693669</td>\n",
              "    </tr>\n",
              "    <tr>\n",
              "      <th>144610</th>\n",
              "      <td>285.82</td>\n",
              "      <td>21540.720656</td>\n",
              "    </tr>\n",
              "    <tr>\n",
              "      <th>13494</th>\n",
              "      <td>8036.41</td>\n",
              "      <td>26377.798477</td>\n",
              "    </tr>\n",
              "    <tr>\n",
              "      <th>23601</th>\n",
              "      <td>2540.44</td>\n",
              "      <td>2734.250384</td>\n",
              "    </tr>\n",
              "    <tr>\n",
              "      <th>284386</th>\n",
              "      <td>1741.74</td>\n",
              "      <td>4319.318894</td>\n",
              "    </tr>\n",
              "    <tr>\n",
              "      <th>288027</th>\n",
              "      <td>14388.60</td>\n",
              "      <td>5385.374989</td>\n",
              "    </tr>\n",
              "    <tr>\n",
              "      <th>157565</th>\n",
              "      <td>7689.49</td>\n",
              "      <td>12872.333899</td>\n",
              "    </tr>\n",
              "    <tr>\n",
              "      <th>185163</th>\n",
              "      <td>12155.78</td>\n",
              "      <td>21870.550564</td>\n",
              "    </tr>\n",
              "  </tbody>\n",
              "</table>\n",
              "</div>"
            ],
            "text/plain": [
              "          actual     Predicted\n",
              "52607    7681.88  26581.120266\n",
              "64533   33294.89   9028.753127\n",
              "129125    478.00  23620.693669\n",
              "144610    285.82  21540.720656\n",
              "13494    8036.41  26377.798477\n",
              "23601    2540.44   2734.250384\n",
              "284386   1741.74   4319.318894\n",
              "288027  14388.60   5385.374989\n",
              "157565   7689.49  12872.333899\n",
              "185163  12155.78  21870.550564"
            ]
          },
          "metadata": {
            "tags": []
          },
          "execution_count": 84
        }
      ]
    },
    {
      "cell_type": "code",
      "metadata": {
        "id": "jDF3kv3x6Wd7",
        "colab_type": "code",
        "outputId": "8b5206db-0903-45d4-b063-4839e0ca8045",
        "colab": {
          "base_uri": "https://localhost:8080/",
          "height": 54
        }
      },
      "source": [
        "# Calculating Mean Absoluate Error\n",
        "print('Train MAE : ', mean_absolute_error(y_train, y_train_pred).round(2))\n",
        "print('Test MAE  : ', mean_absolute_error(y_test, y_test_pred).round(2))\n"
      ],
      "execution_count": 85,
      "outputs": [
        {
          "output_type": "stream",
          "text": [
            "Train MAE :  15341.64\n",
            "Test MAE  :  15310.73\n"
          ],
          "name": "stdout"
        }
      ]
    },
    {
      "cell_type": "code",
      "metadata": {
        "id": "LDa8KgeO6Wd9",
        "colab_type": "code",
        "outputId": "6d4abb14-e4f5-4376-f857-e68087dbf6a5",
        "colab": {
          "base_uri": "https://localhost:8080/",
          "height": 54
        }
      },
      "source": [
        "# Calculate Root Mean Squared Error\n",
        "print('Train RMSE : ', np.sqrt(mean_squared_error(y_train, y_train_pred)).round(2))\n",
        "print('Test  RMSE : ', np.sqrt(mean_squared_error(y_test, y_test_pred)).round(2))"
      ],
      "execution_count": 86,
      "outputs": [
        {
          "output_type": "stream",
          "text": [
            "Train RMSE :  22972.72\n",
            "Test  RMSE :  22683.27\n"
          ],
          "name": "stdout"
        }
      ]
    },
    {
      "cell_type": "markdown",
      "metadata": {
        "id": "VRXIxptW6Wd_",
        "colab_type": "text"
      },
      "source": [
        "    We have seen that both the accuracy measure not having the much difference between them."
      ]
    },
    {
      "cell_type": "code",
      "metadata": {
        "id": "YhAua_bL6WeA",
        "colab_type": "code",
        "outputId": "d1c8f607-fbab-43a6-f497-bd539059bede",
        "colab": {
          "base_uri": "https://localhost:8080/",
          "height": 35
        }
      },
      "source": [
        "accuracy = np.round(linreg.score( X_test, y_test) * 100, 3)\n",
        "print('Linear Regression Accuracy : ', accuracy )"
      ],
      "execution_count": 87,
      "outputs": [
        {
          "output_type": "stream",
          "text": [
            "Linear Regression Accuracy :  8.44\n"
          ],
          "name": "stdout"
        }
      ]
    },
    {
      "cell_type": "markdown",
      "metadata": {
        "id": "8dhEZqtS6WeE",
        "colab_type": "text"
      },
      "source": [
        "    We have got the accuracy of 89% with the test data."
      ]
    },
    {
      "cell_type": "code",
      "metadata": {
        "id": "VHr7mNc46WeE",
        "colab_type": "code",
        "outputId": "12530d1d-12c9-4bb7-882a-1df2cfe25778",
        "colab": {
          "base_uri": "https://localhost:8080/",
          "height": 54
        }
      },
      "source": [
        "# Prediction with the testfile that we prepared \n",
        "linreg.predict(df_test_sc)"
      ],
      "execution_count": 88,
      "outputs": [
        {
          "output_type": "execute_result",
          "data": {
            "text/plain": [
              "array([-7.16143728e+14, -7.16143728e+14, -7.16143728e+14, ...,\n",
              "       -1.12353756e+15, -1.12353756e+15, -1.12353756e+15])"
            ]
          },
          "metadata": {
            "tags": []
          },
          "execution_count": 88
        }
      ]
    },
    {
      "cell_type": "markdown",
      "metadata": {
        "id": "mtuqODgK6WeH",
        "colab_type": "text"
      },
      "source": [
        "---\n",
        "## Decision Tree Regressor\n",
        "---"
      ]
    },
    {
      "cell_type": "code",
      "metadata": {
        "id": "nQjCIIXR6WeH",
        "colab_type": "code",
        "colab": {}
      },
      "source": [
        "# Import  the Tree Library\n",
        "from sklearn.tree import DecisionTreeRegressor\n",
        "from sklearn.model_selection import GridSearchCV"
      ],
      "execution_count": 0,
      "outputs": []
    },
    {
      "cell_type": "code",
      "metadata": {
        "id": "2GafaG5z6WeK",
        "colab_type": "code",
        "outputId": "f9121ce6-dea7-4531-e2cc-943a79e3330d",
        "colab": {
          "base_uri": "https://localhost:8080/",
          "height": 127
        }
      },
      "source": [
        "# Initialize the Model object and fit the data\n",
        "dtr = DecisionTreeRegressor(random_state = 453)\n",
        "# dtr.fit(train_X, train_Y)\n",
        "dtr"
      ],
      "execution_count": 90,
      "outputs": [
        {
          "output_type": "execute_result",
          "data": {
            "text/plain": [
              "DecisionTreeRegressor(ccp_alpha=0.0, criterion='mse', max_depth=None,\n",
              "                      max_features=None, max_leaf_nodes=None,\n",
              "                      min_impurity_decrease=0.0, min_impurity_split=None,\n",
              "                      min_samples_leaf=1, min_samples_split=2,\n",
              "                      min_weight_fraction_leaf=0.0, presort='deprecated',\n",
              "                      random_state=453, splitter='best')"
            ]
          },
          "metadata": {
            "tags": []
          },
          "execution_count": 90
        }
      ]
    },
    {
      "cell_type": "markdown",
      "metadata": {
        "id": "wpXT03mt6WeM",
        "colab_type": "text"
      },
      "source": [
        "### Tuning the parameter "
      ]
    },
    {
      "cell_type": "code",
      "metadata": {
        "id": "EEOahYUA6WeM",
        "colab_type": "code",
        "colab": {}
      },
      "source": [
        "param_grid = { 'max_features' : np.arange(10,18),\n",
        "                'max_depth' : np.arange(2,12)}"
      ],
      "execution_count": 0,
      "outputs": []
    },
    {
      "cell_type": "code",
      "metadata": {
        "id": "8ohcZEqk6WeP",
        "colab_type": "code",
        "outputId": "5ea65020-2fb9-4518-b336-489fe82fd63b",
        "colab": {
          "base_uri": "https://localhost:8080/",
          "height": 421
        }
      },
      "source": [
        "# Finding the best parameter for decision tree\n",
        "tree = GridSearchCV(estimator = DecisionTreeRegressor(), param_grid = param_grid, cv = 5, verbose = 1, n_jobs = -1)\n",
        "tree.fit(X_train, y_train)"
      ],
      "execution_count": 92,
      "outputs": [
        {
          "output_type": "stream",
          "text": [
            "Fitting 5 folds for each of 80 candidates, totalling 400 fits\n"
          ],
          "name": "stdout"
        },
        {
          "output_type": "stream",
          "text": [
            "[Parallel(n_jobs=-1)]: Using backend LokyBackend with 4 concurrent workers.\n",
            "[Parallel(n_jobs=-1)]: Done  42 tasks      | elapsed:    6.5s\n",
            "[Parallel(n_jobs=-1)]: Done 192 tasks      | elapsed:   38.3s\n",
            "[Parallel(n_jobs=-1)]: Done 400 out of 400 | elapsed:  1.9min finished\n"
          ],
          "name": "stderr"
        },
        {
          "output_type": "execute_result",
          "data": {
            "text/plain": [
              "GridSearchCV(cv=5, error_score=nan,\n",
              "             estimator=DecisionTreeRegressor(ccp_alpha=0.0, criterion='mse',\n",
              "                                             max_depth=None, max_features=None,\n",
              "                                             max_leaf_nodes=None,\n",
              "                                             min_impurity_decrease=0.0,\n",
              "                                             min_impurity_split=None,\n",
              "                                             min_samples_leaf=1,\n",
              "                                             min_samples_split=2,\n",
              "                                             min_weight_fraction_leaf=0.0,\n",
              "                                             presort='deprecated',\n",
              "                                             random_state=None,\n",
              "                                             splitter='best'),\n",
              "             iid='deprecated', n_jobs=-1,\n",
              "             param_grid={'max_depth': array([ 2,  3,  4,  5,  6,  7,  8,  9, 10, 11]),\n",
              "                         'max_features': array([10, 11, 12, 13, 14, 15, 16, 17])},\n",
              "             pre_dispatch='2*n_jobs', refit=True, return_train_score=False,\n",
              "             scoring=None, verbose=1)"
            ]
          },
          "metadata": {
            "tags": []
          },
          "execution_count": 92
        }
      ]
    },
    {
      "cell_type": "code",
      "metadata": {
        "id": "D3B2bbFu6WeS",
        "colab_type": "code",
        "outputId": "05a1b289-05cd-4c6d-9449-5b85d17adb67",
        "colab": {
          "base_uri": "https://localhost:8080/",
          "height": 164
        }
      },
      "source": [
        "print('Best Score      : ', tree.best_score_)\n",
        "print('Best parameters : ', tree.best_params_)\n",
        "print('Best Estimators : ', tree.best_estimator_)"
      ],
      "execution_count": 93,
      "outputs": [
        {
          "output_type": "stream",
          "text": [
            "Best Score      :  0.8984326079908256\n",
            "Best parameters :  {'max_depth': 11, 'max_features': 17}\n",
            "Best Estimators :  DecisionTreeRegressor(ccp_alpha=0.0, criterion='mse', max_depth=11,\n",
            "                      max_features=17, max_leaf_nodes=None,\n",
            "                      min_impurity_decrease=0.0, min_impurity_split=None,\n",
            "                      min_samples_leaf=1, min_samples_split=2,\n",
            "                      min_weight_fraction_leaf=0.0, presort='deprecated',\n",
            "                      random_state=None, splitter='best')\n"
          ],
          "name": "stdout"
        }
      ]
    },
    {
      "cell_type": "code",
      "metadata": {
        "id": "VHK__GTs6WeV",
        "colab_type": "code",
        "outputId": "ffab86fa-e523-4099-d2fa-d94613d4a239",
        "colab": {
          "base_uri": "https://localhost:8080/",
          "height": 127
        }
      },
      "source": [
        "# Again build a model with fine tuned parameters\n",
        "final_tree = DecisionTreeRegressor(max_depth = 11, max_features = 17)\n",
        "\n",
        "# Fit the model \n",
        "final_tree.fit(X_train, y_train)"
      ],
      "execution_count": 94,
      "outputs": [
        {
          "output_type": "execute_result",
          "data": {
            "text/plain": [
              "DecisionTreeRegressor(ccp_alpha=0.0, criterion='mse', max_depth=11,\n",
              "                      max_features=17, max_leaf_nodes=None,\n",
              "                      min_impurity_decrease=0.0, min_impurity_split=None,\n",
              "                      min_samples_leaf=1, min_samples_split=2,\n",
              "                      min_weight_fraction_leaf=0.0, presort='deprecated',\n",
              "                      random_state=None, splitter='best')"
            ]
          },
          "metadata": {
            "tags": []
          },
          "execution_count": 94
        }
      ]
    },
    {
      "cell_type": "code",
      "metadata": {
        "id": "f7enF4yx6Wea",
        "colab_type": "code",
        "outputId": "0d2a3745-cc90-45fc-ce39-cd8ce938140b",
        "colab": {
          "base_uri": "https://localhost:8080/",
          "height": 54
        }
      },
      "source": [
        "dt_train_pred = final_tree.predict(X_train)\n",
        "dt_train_pred"
      ],
      "execution_count": 95,
      "outputs": [
        {
          "output_type": "execute_result",
          "data": {
            "text/plain": [
              "array([ 2874.3250189 ,   398.56832365, 34955.115625  , ...,\n",
              "        7624.95638807,  2604.64990818,  1525.57097625])"
            ]
          },
          "metadata": {
            "tags": []
          },
          "execution_count": 95
        }
      ]
    },
    {
      "cell_type": "markdown",
      "metadata": {
        "id": "s1TsRwqc6Wed",
        "colab_type": "text"
      },
      "source": [
        "### Feature Importance "
      ]
    },
    {
      "cell_type": "code",
      "metadata": {
        "id": "TkqDDBcf6Wed",
        "colab_type": "code",
        "outputId": "38dcf484-d512-4f32-87d6-ed1bd5734722",
        "colab": {
          "base_uri": "https://localhost:8080/",
          "height": 614
        }
      },
      "source": [
        "pd.DataFrame({'Features' : feature_columns, \n",
        "              'Importance ' : final_tree.feature_importances_})\n",
        "# df[feature_columns].shape"
      ],
      "execution_count": 96,
      "outputs": [
        {
          "output_type": "execute_result",
          "data": {
            "text/html": [
              "<div>\n",
              "<style scoped>\n",
              "    .dataframe tbody tr th:only-of-type {\n",
              "        vertical-align: middle;\n",
              "    }\n",
              "\n",
              "    .dataframe tbody tr th {\n",
              "        vertical-align: top;\n",
              "    }\n",
              "\n",
              "    .dataframe thead th {\n",
              "        text-align: right;\n",
              "    }\n",
              "</style>\n",
              "<table border=\"1\" class=\"dataframe\">\n",
              "  <thead>\n",
              "    <tr style=\"text-align: right;\">\n",
              "      <th></th>\n",
              "      <th>Features</th>\n",
              "      <th>Importance</th>\n",
              "    </tr>\n",
              "  </thead>\n",
              "  <tbody>\n",
              "    <tr>\n",
              "      <th>0</th>\n",
              "      <td>A</td>\n",
              "      <td>0.121862</td>\n",
              "    </tr>\n",
              "    <tr>\n",
              "      <th>1</th>\n",
              "      <td>B</td>\n",
              "      <td>0.000469</td>\n",
              "    </tr>\n",
              "    <tr>\n",
              "      <th>2</th>\n",
              "      <td>C</td>\n",
              "      <td>0.000109</td>\n",
              "    </tr>\n",
              "    <tr>\n",
              "      <th>3</th>\n",
              "      <td>CPI</td>\n",
              "      <td>0.026241</td>\n",
              "    </tr>\n",
              "    <tr>\n",
              "      <th>4</th>\n",
              "      <td>Days to Next Christmas</td>\n",
              "      <td>0.035819</td>\n",
              "    </tr>\n",
              "    <tr>\n",
              "      <th>5</th>\n",
              "      <td>Dept</td>\n",
              "      <td>0.687348</td>\n",
              "    </tr>\n",
              "    <tr>\n",
              "      <th>6</th>\n",
              "      <td>Fuel_Price</td>\n",
              "      <td>0.000576</td>\n",
              "    </tr>\n",
              "    <tr>\n",
              "      <th>7</th>\n",
              "      <td>IsHoliday</td>\n",
              "      <td>0.000024</td>\n",
              "    </tr>\n",
              "    <tr>\n",
              "      <th>8</th>\n",
              "      <td>MarkDown1</td>\n",
              "      <td>0.000028</td>\n",
              "    </tr>\n",
              "    <tr>\n",
              "      <th>9</th>\n",
              "      <td>MarkDown2</td>\n",
              "      <td>0.000157</td>\n",
              "    </tr>\n",
              "    <tr>\n",
              "      <th>10</th>\n",
              "      <td>MarkDown3</td>\n",
              "      <td>0.000073</td>\n",
              "    </tr>\n",
              "    <tr>\n",
              "      <th>11</th>\n",
              "      <td>MarkDown4</td>\n",
              "      <td>0.000277</td>\n",
              "    </tr>\n",
              "    <tr>\n",
              "      <th>12</th>\n",
              "      <td>Size</td>\n",
              "      <td>0.075871</td>\n",
              "    </tr>\n",
              "    <tr>\n",
              "      <th>13</th>\n",
              "      <td>Store</td>\n",
              "      <td>0.039893</td>\n",
              "    </tr>\n",
              "    <tr>\n",
              "      <th>14</th>\n",
              "      <td>Temperature</td>\n",
              "      <td>0.005263</td>\n",
              "    </tr>\n",
              "    <tr>\n",
              "      <th>15</th>\n",
              "      <td>Unemployment</td>\n",
              "      <td>0.004362</td>\n",
              "    </tr>\n",
              "    <tr>\n",
              "      <th>16</th>\n",
              "      <td>day</td>\n",
              "      <td>0.001581</td>\n",
              "    </tr>\n",
              "    <tr>\n",
              "      <th>17</th>\n",
              "      <td>year</td>\n",
              "      <td>0.000047</td>\n",
              "    </tr>\n",
              "  </tbody>\n",
              "</table>\n",
              "</div>"
            ],
            "text/plain": [
              "                  Features  Importance \n",
              "0                        A     0.121862\n",
              "1                        B     0.000469\n",
              "2                        C     0.000109\n",
              "3                      CPI     0.026241\n",
              "4   Days to Next Christmas     0.035819\n",
              "5                     Dept     0.687348\n",
              "6               Fuel_Price     0.000576\n",
              "7                IsHoliday     0.000024\n",
              "8                MarkDown1     0.000028\n",
              "9                MarkDown2     0.000157\n",
              "10               MarkDown3     0.000073\n",
              "11               MarkDown4     0.000277\n",
              "12                    Size     0.075871\n",
              "13                   Store     0.039893\n",
              "14             Temperature     0.005263\n",
              "15            Unemployment     0.004362\n",
              "16                     day     0.001581\n",
              "17                    year     0.000047"
            ]
          },
          "metadata": {
            "tags": []
          },
          "execution_count": 96
        }
      ]
    },
    {
      "cell_type": "code",
      "metadata": {
        "id": "wpshRxF16Weg",
        "colab_type": "code",
        "outputId": "3aec4a73-3e8a-4f7e-c7ef-c1c84acd98ce",
        "colab": {
          "base_uri": "https://localhost:8080/",
          "height": 54
        }
      },
      "source": [
        "y_pred_dtr = final_tree.predict( X_test )\n",
        "y_pred_dtr"
      ],
      "execution_count": 97,
      "outputs": [
        {
          "output_type": "execute_result",
          "data": {
            "text/plain": [
              "array([ 4090.98564972, 31620.63441441,   263.70987203, ...,\n",
              "       10727.16136364, 10799.24356504,   260.94737069])"
            ]
          },
          "metadata": {
            "tags": []
          },
          "execution_count": 97
        }
      ]
    },
    {
      "cell_type": "code",
      "metadata": {
        "id": "Ma1xkbAW6Wei",
        "colab_type": "code",
        "outputId": "01126ce4-fdae-49f5-e04c-b02fbf0b6884",
        "colab": {
          "base_uri": "https://localhost:8080/",
          "height": 424
        }
      },
      "source": [
        "pd.DataFrame({'actual' : y_test,\n",
        "                 'Predicted' : y_pred_dtr})"
      ],
      "execution_count": 98,
      "outputs": [
        {
          "output_type": "execute_result",
          "data": {
            "text/html": [
              "<div>\n",
              "<style scoped>\n",
              "    .dataframe tbody tr th:only-of-type {\n",
              "        vertical-align: middle;\n",
              "    }\n",
              "\n",
              "    .dataframe tbody tr th {\n",
              "        vertical-align: top;\n",
              "    }\n",
              "\n",
              "    .dataframe thead th {\n",
              "        text-align: right;\n",
              "    }\n",
              "</style>\n",
              "<table border=\"1\" class=\"dataframe\">\n",
              "  <thead>\n",
              "    <tr style=\"text-align: right;\">\n",
              "      <th></th>\n",
              "      <th>actual</th>\n",
              "      <th>Predicted</th>\n",
              "    </tr>\n",
              "  </thead>\n",
              "  <tbody>\n",
              "    <tr>\n",
              "      <th>52607</th>\n",
              "      <td>7681.88</td>\n",
              "      <td>4090.985650</td>\n",
              "    </tr>\n",
              "    <tr>\n",
              "      <th>64533</th>\n",
              "      <td>33294.89</td>\n",
              "      <td>31620.634414</td>\n",
              "    </tr>\n",
              "    <tr>\n",
              "      <th>129125</th>\n",
              "      <td>478.00</td>\n",
              "      <td>263.709872</td>\n",
              "    </tr>\n",
              "    <tr>\n",
              "      <th>144610</th>\n",
              "      <td>285.82</td>\n",
              "      <td>281.037054</td>\n",
              "    </tr>\n",
              "    <tr>\n",
              "      <th>13494</th>\n",
              "      <td>8036.41</td>\n",
              "      <td>6884.648779</td>\n",
              "    </tr>\n",
              "    <tr>\n",
              "      <th>...</th>\n",
              "      <td>...</td>\n",
              "      <td>...</td>\n",
              "    </tr>\n",
              "    <tr>\n",
              "      <th>50152</th>\n",
              "      <td>54016.51</td>\n",
              "      <td>52773.195460</td>\n",
              "    </tr>\n",
              "    <tr>\n",
              "      <th>176279</th>\n",
              "      <td>7828.21</td>\n",
              "      <td>8383.028889</td>\n",
              "    </tr>\n",
              "    <tr>\n",
              "      <th>218918</th>\n",
              "      <td>9393.30</td>\n",
              "      <td>10727.161364</td>\n",
              "    </tr>\n",
              "    <tr>\n",
              "      <th>233410</th>\n",
              "      <td>3629.55</td>\n",
              "      <td>10799.243565</td>\n",
              "    </tr>\n",
              "    <tr>\n",
              "      <th>287058</th>\n",
              "      <td>52.33</td>\n",
              "      <td>260.947371</td>\n",
              "    </tr>\n",
              "  </tbody>\n",
              "</table>\n",
              "<p>61936 rows × 2 columns</p>\n",
              "</div>"
            ],
            "text/plain": [
              "          actual     Predicted\n",
              "52607    7681.88   4090.985650\n",
              "64533   33294.89  31620.634414\n",
              "129125    478.00    263.709872\n",
              "144610    285.82    281.037054\n",
              "13494    8036.41   6884.648779\n",
              "...          ...           ...\n",
              "50152   54016.51  52773.195460\n",
              "176279   7828.21   8383.028889\n",
              "218918   9393.30  10727.161364\n",
              "233410   3629.55  10799.243565\n",
              "287058     52.33    260.947371\n",
              "\n",
              "[61936 rows x 2 columns]"
            ]
          },
          "metadata": {
            "tags": []
          },
          "execution_count": 98
        }
      ]
    },
    {
      "cell_type": "markdown",
      "metadata": {
        "id": "4iL1fGLK6Wel",
        "colab_type": "text"
      },
      "source": [
        "---\n",
        "### Calculating Error for DT\n",
        "---"
      ]
    },
    {
      "cell_type": "code",
      "metadata": {
        "id": "zfQRnUHU6Wel",
        "colab_type": "code",
        "outputId": "d25b0fbb-5f91-4c19-e9e5-64e323506094",
        "colab": {
          "base_uri": "https://localhost:8080/",
          "height": 54
        }
      },
      "source": [
        "# Mean Absolute Errors\n",
        "print('Train DT MAE : ', mean_absolute_error(y_train, dt_train_pred).round(2))\n",
        "print('Test  DT MAE : ', mean_absolute_error(y_test, y_pred_dtr).round(2))"
      ],
      "execution_count": 99,
      "outputs": [
        {
          "output_type": "stream",
          "text": [
            "Train DT MAE :  3784.87\n",
            "Test  DT MAE :  3876.43\n"
          ],
          "name": "stdout"
        }
      ]
    },
    {
      "cell_type": "code",
      "metadata": {
        "id": "1IDprUGL6Weo",
        "colab_type": "code",
        "outputId": "dbaba080-f1e8-4dcd-b9d9-fc73fdcc2c8f",
        "colab": {
          "base_uri": "https://localhost:8080/",
          "height": 54
        }
      },
      "source": [
        "# Root Mean Squared Error\n",
        "print('Train DT RMSE : ', np.sqrt(mean_squared_error(y_train, dt_train_pred)).round(2))\n",
        "print('Test  DT RMSE : ', np.sqrt(mean_squared_error(y_test, y_pred_dtr)).round(2))"
      ],
      "execution_count": 100,
      "outputs": [
        {
          "output_type": "stream",
          "text": [
            "Train DT RMSE :  7101.32\n",
            "Test  DT RMSE :  7418.03\n"
          ],
          "name": "stdout"
        }
      ]
    },
    {
      "cell_type": "code",
      "metadata": {
        "id": "8IOrNHtH6Wev",
        "colab_type": "code",
        "outputId": "b6495b76-2d87-4f35-e745-1c83c961bfc6",
        "colab": {
          "base_uri": "https://localhost:8080/",
          "height": 35
        }
      },
      "source": [
        "# Calculating accuracy on test data\n",
        "print('Accuracy : ', np.round(final_tree.score(X_test, y_test) * 100, 2))"
      ],
      "execution_count": 101,
      "outputs": [
        {
          "output_type": "stream",
          "text": [
            "Accuracy :  90.21\n"
          ],
          "name": "stdout"
        }
      ]
    },
    {
      "cell_type": "markdown",
      "metadata": {
        "id": "2G1lbxoI6We2",
        "colab_type": "text"
      },
      "source": [
        "    We got 89% Accuracy on test data."
      ]
    },
    {
      "cell_type": "code",
      "metadata": {
        "id": "njbfSysJ6We3",
        "colab_type": "code",
        "outputId": "ac888072-4670-44e1-dd35-ac4bd618744e",
        "colab": {
          "base_uri": "https://localhost:8080/",
          "height": 54
        }
      },
      "source": [
        "# Prediction for new file that we prepared as well.\n",
        "final_tree.predict(df_test_sc)"
      ],
      "execution_count": 102,
      "outputs": [
        {
          "output_type": "execute_result",
          "data": {
            "text/plain": [
              "array([16839.29814815, 35830.31778761, 23118.40520913, ...,\n",
              "       22300.13785714, 39466.52666667,  3916.59877551])"
            ]
          },
          "metadata": {
            "tags": []
          },
          "execution_count": 102
        }
      ]
    },
    {
      "cell_type": "markdown",
      "metadata": {
        "id": "FtTU790g6We6",
        "colab_type": "text"
      },
      "source": [
        "---\n",
        "## Ensemble Methods\n",
        "---"
      ]
    },
    {
      "cell_type": "code",
      "metadata": {
        "id": "TVESJ20g6We6",
        "colab_type": "code",
        "colab": {}
      },
      "source": [
        "# import lib\n",
        "from sklearn.ensemble import BaggingRegressor"
      ],
      "execution_count": 0,
      "outputs": []
    },
    {
      "cell_type": "code",
      "metadata": {
        "id": "EVS_dTcJ6We9",
        "colab_type": "code",
        "outputId": "612bf141-9e20-4994-af67-0da333b46759",
        "colab": {
          "base_uri": "https://localhost:8080/",
          "height": 90
        }
      },
      "source": [
        "bagreg = BaggingRegressor(oob_score = True, n_estimators = 100, n_jobs = -1, verbose = 0)\n",
        "bagreg.fit(X_train, y_train)"
      ],
      "execution_count": 104,
      "outputs": [
        {
          "output_type": "execute_result",
          "data": {
            "text/plain": [
              "BaggingRegressor(base_estimator=None, bootstrap=True, bootstrap_features=False,\n",
              "                 max_features=1.0, max_samples=1.0, n_estimators=100, n_jobs=-1,\n",
              "                 oob_score=True, random_state=None, verbose=0,\n",
              "                 warm_start=False)"
            ]
          },
          "metadata": {
            "tags": []
          },
          "execution_count": 104
        }
      ]
    },
    {
      "cell_type": "code",
      "metadata": {
        "id": "IakxOpGh6WfA",
        "colab_type": "code",
        "outputId": "592d586c-cc4e-4741-c022-38cd9bb221e1",
        "colab": {
          "base_uri": "https://localhost:8080/",
          "height": 54
        }
      },
      "source": [
        "bagreg.predict(X_train)"
      ],
      "execution_count": 105,
      "outputs": [
        {
          "output_type": "execute_result",
          "data": {
            "text/plain": [
              "array([ 1312.7176,   326.6103, 34553.1636, ...,  3192.5843,  7679.0298,\n",
              "        1419.0457])"
            ]
          },
          "metadata": {
            "tags": []
          },
          "execution_count": 105
        }
      ]
    },
    {
      "cell_type": "code",
      "metadata": {
        "id": "fo472uU16WfD",
        "colab_type": "code",
        "outputId": "7a621d06-e369-4491-f069-c56cc1101a5a",
        "colab": {
          "base_uri": "https://localhost:8080/",
          "height": 35
        }
      },
      "source": [
        "bagreg.oob_score_"
      ],
      "execution_count": 106,
      "outputs": [
        {
          "output_type": "execute_result",
          "data": {
            "text/plain": [
              "0.9775262440375274"
            ]
          },
          "metadata": {
            "tags": []
          },
          "execution_count": 106
        }
      ]
    },
    {
      "cell_type": "code",
      "metadata": {
        "id": "i8iWce0-6WfH",
        "colab_type": "code",
        "outputId": "1e01d4bc-6b7d-4a23-b175-ca7290070c73",
        "colab": {
          "base_uri": "https://localhost:8080/",
          "height": 424
        }
      },
      "source": [
        "bagreg_pred_test = pd.DataFrame({'actual' : y_test,\n",
        "                'Predicted' : bagreg.predict(X_test)})\n",
        "bagreg_pred_test"
      ],
      "execution_count": 107,
      "outputs": [
        {
          "output_type": "execute_result",
          "data": {
            "text/html": [
              "<div>\n",
              "<style scoped>\n",
              "    .dataframe tbody tr th:only-of-type {\n",
              "        vertical-align: middle;\n",
              "    }\n",
              "\n",
              "    .dataframe tbody tr th {\n",
              "        vertical-align: top;\n",
              "    }\n",
              "\n",
              "    .dataframe thead th {\n",
              "        text-align: right;\n",
              "    }\n",
              "</style>\n",
              "<table border=\"1\" class=\"dataframe\">\n",
              "  <thead>\n",
              "    <tr style=\"text-align: right;\">\n",
              "      <th></th>\n",
              "      <th>actual</th>\n",
              "      <th>Predicted</th>\n",
              "    </tr>\n",
              "  </thead>\n",
              "  <tbody>\n",
              "    <tr>\n",
              "      <th>52607</th>\n",
              "      <td>7681.88</td>\n",
              "      <td>8242.8613</td>\n",
              "    </tr>\n",
              "    <tr>\n",
              "      <th>64533</th>\n",
              "      <td>33294.89</td>\n",
              "      <td>33896.1166</td>\n",
              "    </tr>\n",
              "    <tr>\n",
              "      <th>129125</th>\n",
              "      <td>478.00</td>\n",
              "      <td>241.9850</td>\n",
              "    </tr>\n",
              "    <tr>\n",
              "      <th>144610</th>\n",
              "      <td>285.82</td>\n",
              "      <td>269.0679</td>\n",
              "    </tr>\n",
              "    <tr>\n",
              "      <th>13494</th>\n",
              "      <td>8036.41</td>\n",
              "      <td>8180.0465</td>\n",
              "    </tr>\n",
              "    <tr>\n",
              "      <th>...</th>\n",
              "      <td>...</td>\n",
              "      <td>...</td>\n",
              "    </tr>\n",
              "    <tr>\n",
              "      <th>50152</th>\n",
              "      <td>54016.51</td>\n",
              "      <td>53724.0749</td>\n",
              "    </tr>\n",
              "    <tr>\n",
              "      <th>176279</th>\n",
              "      <td>7828.21</td>\n",
              "      <td>8125.0262</td>\n",
              "    </tr>\n",
              "    <tr>\n",
              "      <th>218918</th>\n",
              "      <td>9393.30</td>\n",
              "      <td>9908.0439</td>\n",
              "    </tr>\n",
              "    <tr>\n",
              "      <th>233410</th>\n",
              "      <td>3629.55</td>\n",
              "      <td>5267.0457</td>\n",
              "    </tr>\n",
              "    <tr>\n",
              "      <th>287058</th>\n",
              "      <td>52.33</td>\n",
              "      <td>45.6827</td>\n",
              "    </tr>\n",
              "  </tbody>\n",
              "</table>\n",
              "<p>61936 rows × 2 columns</p>\n",
              "</div>"
            ],
            "text/plain": [
              "          actual   Predicted\n",
              "52607    7681.88   8242.8613\n",
              "64533   33294.89  33896.1166\n",
              "129125    478.00    241.9850\n",
              "144610    285.82    269.0679\n",
              "13494    8036.41   8180.0465\n",
              "...          ...         ...\n",
              "50152   54016.51  53724.0749\n",
              "176279   7828.21   8125.0262\n",
              "218918   9393.30   9908.0439\n",
              "233410   3629.55   5267.0457\n",
              "287058     52.33     45.6827\n",
              "\n",
              "[61936 rows x 2 columns]"
            ]
          },
          "metadata": {
            "tags": []
          },
          "execution_count": 107
        }
      ]
    },
    {
      "cell_type": "code",
      "metadata": {
        "id": "YVZIrWyz-fVS",
        "colab_type": "code",
        "outputId": "731a1afa-8131-4791-f38c-691410964fd5",
        "colab": {
          "base_uri": "https://localhost:8080/",
          "height": 54
        }
      },
      "source": [
        "bagreg_train_pred = bagreg.predict(X_train)\n",
        "bagreg_train_pred"
      ],
      "execution_count": 108,
      "outputs": [
        {
          "output_type": "execute_result",
          "data": {
            "text/plain": [
              "array([ 1312.7176,   326.6103, 34553.1636, ...,  3192.5843,  7679.0298,\n",
              "        1419.0457])"
            ]
          },
          "metadata": {
            "tags": []
          },
          "execution_count": 108
        }
      ]
    },
    {
      "cell_type": "code",
      "metadata": {
        "id": "6E44IO0ZA_GX",
        "colab_type": "code",
        "outputId": "3a5c71b7-5d08-4c63-e8c2-a4d4ea562abf",
        "colab": {
          "base_uri": "https://localhost:8080/",
          "height": 54
        }
      },
      "source": [
        "bagreg_test_pred = bagreg.predict(X_test)\n",
        "bagreg_test_pred"
      ],
      "execution_count": 109,
      "outputs": [
        {
          "output_type": "execute_result",
          "data": {
            "text/plain": [
              "array([ 8242.8613, 33896.1166,   241.985 , ...,  9908.0439,  5267.0457,\n",
              "          45.6827])"
            ]
          },
          "metadata": {
            "tags": []
          },
          "execution_count": 109
        }
      ]
    },
    {
      "cell_type": "markdown",
      "metadata": {
        "id": "HNCU517zAGJG",
        "colab_type": "text"
      },
      "source": [
        "## Bagging Claasifier Errors"
      ]
    },
    {
      "cell_type": "code",
      "metadata": {
        "id": "v9FW99k4AQaZ",
        "colab_type": "code",
        "colab": {
          "base_uri": "https://localhost:8080/",
          "height": 54
        },
        "outputId": "83393616-3948-4452-c139-dcd84500f7d8"
      },
      "source": [
        "# Mean Absolute Errors\n",
        "print('Bag Train MAE : ', mean_absolute_error(y_train, bagreg_train_pred))\n",
        "print('Bag Test  MAE : ', mean_absolute_error(y_test, bagreg_test_pred))"
      ],
      "execution_count": 110,
      "outputs": [
        {
          "output_type": "stream",
          "text": [
            "Bag Train MAE :  534.9189055456886\n",
            "Bag Test  MAE :  1427.0759788491343\n"
          ],
          "name": "stdout"
        }
      ]
    },
    {
      "cell_type": "code",
      "metadata": {
        "id": "5MTnVeUZAhQT",
        "colab_type": "code",
        "colab": {
          "base_uri": "https://localhost:8080/",
          "height": 54
        },
        "outputId": "2bc49001-d1da-4a27-86a0-f17bd1d5b6c3"
      },
      "source": [
        "# Root Mean Squared Errors\n",
        "print('BagReg Train RMSE :', np.sqrt(mean_squared_error(y_train, bagreg_train_pred)))\n",
        "print('BagReg  Test RMSE :', np.sqrt(mean_squared_error(y_test, bagreg_test_pred)))"
      ],
      "execution_count": 111,
      "outputs": [
        {
          "output_type": "stream",
          "text": [
            "BagReg Train RMSE : 1326.5862410770258\n",
            "BagReg  Test RMSE : 3331.808570207415\n"
          ],
          "name": "stdout"
        }
      ]
    },
    {
      "cell_type": "markdown",
      "metadata": {
        "id": "B4S556KlCRsz",
        "colab_type": "text"
      },
      "source": [
        "## Initiating the Estimators with GridSearchCV"
      ]
    },
    {
      "cell_type": "code",
      "metadata": {
        "id": "2xzsFbcfBkVx",
        "colab_type": "code",
        "colab": {}
      },
      "source": [
        "# pargrid_bagging = {'n_estimators': [20,50,100,200,250,300,350,400]}\n",
        "\n",
        "# gscv_bagging = GridSearchCV(estimator=BaggingRegressor(), \n",
        "#                         param_grid = pargrid_bagging, cv = 5,\n",
        "#                         verbose = 1)"
      ],
      "execution_count": 0,
      "outputs": []
    },
    {
      "cell_type": "code",
      "metadata": {
        "id": "WpOmdhLqChVM",
        "colab_type": "code",
        "colab": {}
      },
      "source": [
        "# gscv_results = gscv_bagging.fit(X_train, y_train)"
      ],
      "execution_count": 0,
      "outputs": []
    },
    {
      "cell_type": "code",
      "metadata": {
        "id": "nemWA2edCmLm",
        "colab_type": "code",
        "colab": {}
      },
      "source": [
        ""
      ],
      "execution_count": 0,
      "outputs": []
    },
    {
      "cell_type": "markdown",
      "metadata": {
        "id": "CX43PjfcNr1s",
        "colab_type": "text"
      },
      "source": [
        "---\n",
        "### Not able to run BaggingResressor with GridSearchCV and its showing memory leak and also tried without using n_jobs = -1\n",
        "---"
      ]
    },
    {
      "cell_type": "markdown",
      "metadata": {
        "id": "iuV-UT006OFd",
        "colab_type": "text"
      },
      "source": [
        "---\n",
        "## Random Forest Regressor\n",
        "---"
      ]
    },
    {
      "cell_type": "code",
      "metadata": {
        "id": "8y9r4MDM6TPy",
        "colab_type": "code",
        "colab": {}
      },
      "source": [
        "from sklearn.ensemble import RandomForestRegressor"
      ],
      "execution_count": 0,
      "outputs": []
    },
    {
      "cell_type": "code",
      "metadata": {
        "id": "MSxmKAJL6dzx",
        "colab_type": "code",
        "colab": {}
      },
      "source": [
        "paragrid_rf = {'n_estimators': [100,150,200,250,300,350,400]}\n",
        "                  # 'max_features': [7,8,9,10,11,12,13,14,15]}"
      ],
      "execution_count": 0,
      "outputs": []
    },
    {
      "cell_type": "code",
      "metadata": {
        "id": "vEAm2cdK6lq0",
        "colab_type": "code",
        "colab": {}
      },
      "source": [
        "#from sklearn.grid_search import GridSearchCV\n",
        "gscv_rf = GridSearchCV(estimator = RandomForestRegressor(), \n",
        "                        param_grid = paragrid_rf, \n",
        "                        cv = 5,\n",
        "                        verbose = True)\n",
        "\n",
        "# gscv_results = gscv_rf.fit(X_train, y_train)"
      ],
      "execution_count": 0,
      "outputs": []
    },
    {
      "cell_type": "code",
      "metadata": {
        "id": "oF3MplfKxLIF",
        "colab_type": "code",
        "colab": {
          "base_uri": "https://localhost:8080/",
          "height": 146
        },
        "outputId": "8ca505ba-fe79-49bc-c23d-f6ddf7b5b16d"
      },
      "source": [
        "rfr = RandomForestRegressor(n_estimators = 400,max_depth=15)        \n",
        "rfr.fit(X_train,y_train)\n",
        "# y_pred=rfr.predict(X_test)\n"
      ],
      "execution_count": 117,
      "outputs": [
        {
          "output_type": "execute_result",
          "data": {
            "text/plain": [
              "RandomForestRegressor(bootstrap=True, ccp_alpha=0.0, criterion='mse',\n",
              "                      max_depth=15, max_features='auto', max_leaf_nodes=None,\n",
              "                      max_samples=None, min_impurity_decrease=0.0,\n",
              "                      min_impurity_split=None, min_samples_leaf=1,\n",
              "                      min_samples_split=2, min_weight_fraction_leaf=0.0,\n",
              "                      n_estimators=400, n_jobs=None, oob_score=False,\n",
              "                      random_state=None, verbose=0, warm_start=False)"
            ]
          },
          "metadata": {
            "tags": []
          },
          "execution_count": 117
        }
      ]
    },
    {
      "cell_type": "code",
      "metadata": {
        "id": "PhiWv8P30-1L",
        "colab_type": "code",
        "colab": {}
      },
      "source": [
        ""
      ],
      "execution_count": 0,
      "outputs": []
    },
    {
      "cell_type": "code",
      "metadata": {
        "id": "z9eOzkgc67uG",
        "colab_type": "code",
        "colab": {}
      },
      "source": [
        "y_pred_train = rfr.predict(X_train)"
      ],
      "execution_count": 0,
      "outputs": []
    },
    {
      "cell_type": "code",
      "metadata": {
        "id": "fuHo7VG51Jml",
        "colab_type": "code",
        "colab": {
          "base_uri": "https://localhost:8080/",
          "height": 424
        },
        "outputId": "4157efa0-c70b-4375-a621-470f9f219cb8"
      },
      "source": [
        "pd.DataFrame({'Actual' : y_train,\n",
        "              'Predict' : y_pred_train})"
      ],
      "execution_count": 119,
      "outputs": [
        {
          "output_type": "execute_result",
          "data": {
            "text/html": [
              "<div>\n",
              "<style scoped>\n",
              "    .dataframe tbody tr th:only-of-type {\n",
              "        vertical-align: middle;\n",
              "    }\n",
              "\n",
              "    .dataframe tbody tr th {\n",
              "        vertical-align: top;\n",
              "    }\n",
              "\n",
              "    .dataframe thead th {\n",
              "        text-align: right;\n",
              "    }\n",
              "</style>\n",
              "<table border=\"1\" class=\"dataframe\">\n",
              "  <thead>\n",
              "    <tr style=\"text-align: right;\">\n",
              "      <th></th>\n",
              "      <th>Actual</th>\n",
              "      <th>Predict</th>\n",
              "    </tr>\n",
              "  </thead>\n",
              "  <tbody>\n",
              "    <tr>\n",
              "      <th>19654</th>\n",
              "      <td>1361.00</td>\n",
              "      <td>1111.045445</td>\n",
              "    </tr>\n",
              "    <tr>\n",
              "      <th>134303</th>\n",
              "      <td>352.00</td>\n",
              "      <td>370.370962</td>\n",
              "    </tr>\n",
              "    <tr>\n",
              "      <th>274917</th>\n",
              "      <td>34264.15</td>\n",
              "      <td>34658.070631</td>\n",
              "    </tr>\n",
              "    <tr>\n",
              "      <th>55128</th>\n",
              "      <td>40401.85</td>\n",
              "      <td>40441.761702</td>\n",
              "    </tr>\n",
              "    <tr>\n",
              "      <th>267307</th>\n",
              "      <td>9.97</td>\n",
              "      <td>15.174474</td>\n",
              "    </tr>\n",
              "    <tr>\n",
              "      <th>...</th>\n",
              "      <td>...</td>\n",
              "      <td>...</td>\n",
              "    </tr>\n",
              "    <tr>\n",
              "      <th>289318</th>\n",
              "      <td>1356.04</td>\n",
              "      <td>1525.369870</td>\n",
              "    </tr>\n",
              "    <tr>\n",
              "      <th>226728</th>\n",
              "      <td>7369.08</td>\n",
              "      <td>7146.894151</td>\n",
              "    </tr>\n",
              "    <tr>\n",
              "      <th>231920</th>\n",
              "      <td>2593.48</td>\n",
              "      <td>5499.884739</td>\n",
              "    </tr>\n",
              "    <tr>\n",
              "      <th>62721</th>\n",
              "      <td>8595.60</td>\n",
              "      <td>4348.123321</td>\n",
              "    </tr>\n",
              "    <tr>\n",
              "      <th>286478</th>\n",
              "      <td>1397.68</td>\n",
              "      <td>1476.345445</td>\n",
              "    </tr>\n",
              "  </tbody>\n",
              "</table>\n",
              "<p>247742 rows × 2 columns</p>\n",
              "</div>"
            ],
            "text/plain": [
              "          Actual       Predict\n",
              "19654    1361.00   1111.045445\n",
              "134303    352.00    370.370962\n",
              "274917  34264.15  34658.070631\n",
              "55128   40401.85  40441.761702\n",
              "267307      9.97     15.174474\n",
              "...          ...           ...\n",
              "289318   1356.04   1525.369870\n",
              "226728   7369.08   7146.894151\n",
              "231920   2593.48   5499.884739\n",
              "62721    8595.60   4348.123321\n",
              "286478   1397.68   1476.345445\n",
              "\n",
              "[247742 rows x 2 columns]"
            ]
          },
          "metadata": {
            "tags": []
          },
          "execution_count": 119
        }
      ]
    },
    {
      "cell_type": "code",
      "metadata": {
        "id": "YTQ8DZ7D2hE6",
        "colab_type": "code",
        "colab": {}
      },
      "source": [
        "predict_rfr = rfr.predict(X_test)"
      ],
      "execution_count": 0,
      "outputs": []
    },
    {
      "cell_type": "code",
      "metadata": {
        "id": "bZe_g8cX1Ysl",
        "colab_type": "code",
        "colab": {
          "base_uri": "https://localhost:8080/",
          "height": 424
        },
        "outputId": "af204055-e9d0-4dc9-b5b7-281b1a0f9821"
      },
      "source": [
        "pd.DataFrame({'Actual': y_test,\n",
        "              'Predicted' : predict_rfr})"
      ],
      "execution_count": 121,
      "outputs": [
        {
          "output_type": "execute_result",
          "data": {
            "text/html": [
              "<div>\n",
              "<style scoped>\n",
              "    .dataframe tbody tr th:only-of-type {\n",
              "        vertical-align: middle;\n",
              "    }\n",
              "\n",
              "    .dataframe tbody tr th {\n",
              "        vertical-align: top;\n",
              "    }\n",
              "\n",
              "    .dataframe thead th {\n",
              "        text-align: right;\n",
              "    }\n",
              "</style>\n",
              "<table border=\"1\" class=\"dataframe\">\n",
              "  <thead>\n",
              "    <tr style=\"text-align: right;\">\n",
              "      <th></th>\n",
              "      <th>Actual</th>\n",
              "      <th>Predicted</th>\n",
              "    </tr>\n",
              "  </thead>\n",
              "  <tbody>\n",
              "    <tr>\n",
              "      <th>52607</th>\n",
              "      <td>7681.88</td>\n",
              "      <td>7334.314457</td>\n",
              "    </tr>\n",
              "    <tr>\n",
              "      <th>64533</th>\n",
              "      <td>33294.89</td>\n",
              "      <td>33374.033164</td>\n",
              "    </tr>\n",
              "    <tr>\n",
              "      <th>129125</th>\n",
              "      <td>478.00</td>\n",
              "      <td>298.473837</td>\n",
              "    </tr>\n",
              "    <tr>\n",
              "      <th>144610</th>\n",
              "      <td>285.82</td>\n",
              "      <td>247.203838</td>\n",
              "    </tr>\n",
              "    <tr>\n",
              "      <th>13494</th>\n",
              "      <td>8036.41</td>\n",
              "      <td>8673.988641</td>\n",
              "    </tr>\n",
              "    <tr>\n",
              "      <th>...</th>\n",
              "      <td>...</td>\n",
              "      <td>...</td>\n",
              "    </tr>\n",
              "    <tr>\n",
              "      <th>50152</th>\n",
              "      <td>54016.51</td>\n",
              "      <td>52307.195152</td>\n",
              "    </tr>\n",
              "    <tr>\n",
              "      <th>176279</th>\n",
              "      <td>7828.21</td>\n",
              "      <td>8041.935479</td>\n",
              "    </tr>\n",
              "    <tr>\n",
              "      <th>218918</th>\n",
              "      <td>9393.30</td>\n",
              "      <td>9769.438671</td>\n",
              "    </tr>\n",
              "    <tr>\n",
              "      <th>233410</th>\n",
              "      <td>3629.55</td>\n",
              "      <td>4963.071970</td>\n",
              "    </tr>\n",
              "    <tr>\n",
              "      <th>287058</th>\n",
              "      <td>52.33</td>\n",
              "      <td>44.213858</td>\n",
              "    </tr>\n",
              "  </tbody>\n",
              "</table>\n",
              "<p>61936 rows × 2 columns</p>\n",
              "</div>"
            ],
            "text/plain": [
              "          Actual     Predicted\n",
              "52607    7681.88   7334.314457\n",
              "64533   33294.89  33374.033164\n",
              "129125    478.00    298.473837\n",
              "144610    285.82    247.203838\n",
              "13494    8036.41   8673.988641\n",
              "...          ...           ...\n",
              "50152   54016.51  52307.195152\n",
              "176279   7828.21   8041.935479\n",
              "218918   9393.30   9769.438671\n",
              "233410   3629.55   4963.071970\n",
              "287058     52.33     44.213858\n",
              "\n",
              "[61936 rows x 2 columns]"
            ]
          },
          "metadata": {
            "tags": []
          },
          "execution_count": 121
        }
      ]
    },
    {
      "cell_type": "code",
      "metadata": {
        "id": "SFgH9cVC2cvx",
        "colab_type": "code",
        "colab": {}
      },
      "source": [
        ""
      ],
      "execution_count": 0,
      "outputs": []
    },
    {
      "cell_type": "markdown",
      "metadata": {
        "id": "OgOyhTER3dMY",
        "colab_type": "text"
      },
      "source": [
        "---\n",
        "## Calculating Errors for Random Forest\n",
        "---"
      ]
    },
    {
      "cell_type": "code",
      "metadata": {
        "id": "Oes4A0-_3jLO",
        "colab_type": "code",
        "colab": {
          "base_uri": "https://localhost:8080/",
          "height": 54
        },
        "outputId": "b0a08132-f3a9-49b0-c05e-45d300bb3498"
      },
      "source": [
        "# Mean Absolute Errors\n",
        "print('Train DT MAE : ', mean_absolute_error(y_train, y_pred_train).round(2))\n",
        "print('Test  DT MAE : ', mean_absolute_error(y_test, predict_rfr).round(2))"
      ],
      "execution_count": 122,
      "outputs": [
        {
          "output_type": "stream",
          "text": [
            "Train DT MAE :  1680.71\n",
            "Test  DT MAE :  2006.21\n"
          ],
          "name": "stdout"
        }
      ]
    },
    {
      "cell_type": "code",
      "metadata": {
        "id": "AfhRXH_k4Biz",
        "colab_type": "code",
        "colab": {
          "base_uri": "https://localhost:8080/",
          "height": 54
        },
        "outputId": "3c7d0fbe-da80-4a46-fb35-7a2666b2c211"
      },
      "source": [
        "# Root Mean Squared Error\n",
        "print('Train DT RMSE : ', np.sqrt(mean_squared_error(y_train, y_pred_train)).round(2))\n",
        "print('Test  DT RMSE : ', np.sqrt(mean_squared_error(y_test, predict_rfr)).round(2))"
      ],
      "execution_count": 123,
      "outputs": [
        {
          "output_type": "stream",
          "text": [
            "Train DT RMSE :  3283.14\n",
            "Test  DT RMSE :  4157.27\n"
          ],
          "name": "stdout"
        }
      ]
    },
    {
      "cell_type": "code",
      "metadata": {
        "id": "nhe1wJEE4QWX",
        "colab_type": "code",
        "colab": {
          "base_uri": "https://localhost:8080/",
          "height": 35
        },
        "outputId": "22ea2204-47bb-494a-927d-f24c2c01a78b"
      },
      "source": [
        "# Calculating accuracy on test data\n",
        "print('Accuracy : ', np.round(rfr.score(X_test, y_test) * 100, 2))"
      ],
      "execution_count": 124,
      "outputs": [
        {
          "output_type": "stream",
          "text": [
            "Accuracy :  96.92\n"
          ],
          "name": "stdout"
        }
      ]
    },
    {
      "cell_type": "markdown",
      "metadata": {
        "id": "K1vr229l4kNG",
        "colab_type": "text"
      },
      "source": [
        "  We got 96.77% of Accuracy with Random Forest regressor"
      ]
    },
    {
      "cell_type": "code",
      "metadata": {
        "id": "8a14a6tY4oZU",
        "colab_type": "code",
        "colab": {
          "base_uri": "https://localhost:8080/",
          "height": 54
        },
        "outputId": "8ee45b69-2f35-41fc-8a25-1d02b1d1349b"
      },
      "source": [
        "# Prediction for new file that we prepared as well.\n",
        "rfr.predict(df_test_sc)"
      ],
      "execution_count": 125,
      "outputs": [
        {
          "output_type": "execute_result",
          "data": {
            "text/plain": [
              "array([19825.16002757, 35967.90301929, 23597.16593065, ...,\n",
              "       14136.71624671, 36823.51249589,  8788.41356984])"
            ]
          },
          "metadata": {
            "tags": []
          },
          "execution_count": 125
        }
      ]
    },
    {
      "cell_type": "code",
      "metadata": {
        "id": "iOgpJLxv4zh-",
        "colab_type": "code",
        "colab": {
          "base_uri": "https://localhost:8080/",
          "height": 146
        },
        "outputId": "d95cc338-e8bf-4a60-eb80-08eeedf4b721"
      },
      "source": [
        "from prettytable import PrettyTable\n",
        "    \n",
        "x = PrettyTable()\n",
        "x.field_names = [\"Model\", \"MAE\", \"RMSE\", \"Accuracy\"]\n",
        "\n",
        "x.add_row([\"Linear Regression (Baseline)\", 14567, 21762, 8.93])\n",
        "x.add_row([\"DecisionTreeRegressor\", 3682, 7186, 90.07])\n",
        "x.add_row([\"RandomForestRegressor\", 1874, 4100, 96.77])\n",
        "\n",
        "print(x)"
      ],
      "execution_count": 126,
      "outputs": [
        {
          "output_type": "stream",
          "text": [
            "+------------------------------+-------+-------+----------+\n",
            "|            Model             |  MAE  |  RMSE | Accuracy |\n",
            "+------------------------------+-------+-------+----------+\n",
            "| Linear Regression (Baseline) | 14567 | 21762 |   8.93   |\n",
            "|    DecisionTreeRegressor     |  3682 |  7186 |  90.07   |\n",
            "|    RandomForestRegressor     |  1874 |  4100 |  96.77   |\n",
            "+------------------------------+-------+-------+----------+\n"
          ],
          "name": "stdout"
        }
      ]
    },
    {
      "cell_type": "markdown",
      "metadata": {
        "id": "eTkmhaJhtDpk",
        "colab_type": "text"
      },
      "source": [
        "    We got the best accuracy with the Random Forest regressor."
      ]
    },
    {
      "cell_type": "code",
      "metadata": {
        "id": "wsahuDDUtKDi",
        "colab_type": "code",
        "colab": {
          "base_uri": "https://localhost:8080/",
          "height": 209
        },
        "outputId": "185a4158-5932-4e1f-f749-27f76953edc3"
      },
      "source": [
        "# Prediction value using Random Forest model..\n",
        "submission = pd.DataFrame({\n",
        "        \"Store_Dept_Date\": df.Store.astype(str) + '_' + df.Dept.astype(str) + '_' + df.Date.astype(str),\n",
        "        \"Weekly_Sales\": pd.Series(predict_rfr)\n",
        "    })\n",
        "\n",
        "submission.to_csv('weekly_sales predicted.csv', index=False)\n",
        "submission.to_excel(writer,'Weekly_sales Pred',index=False)"
      ],
      "execution_count": 132,
      "outputs": [
        {
          "output_type": "error",
          "ename": "NameError",
          "evalue": "ignored",
          "traceback": [
            "\u001b[0;31m---------------------------------------------------------------------------\u001b[0m",
            "\u001b[0;31mNameError\u001b[0m                                 Traceback (most recent call last)",
            "\u001b[0;32m<ipython-input-132-5e2fcc2dda83>\u001b[0m in \u001b[0;36m<module>\u001b[0;34m()\u001b[0m\n\u001b[1;32m      6\u001b[0m \u001b[0;34m\u001b[0m\u001b[0m\n\u001b[1;32m      7\u001b[0m \u001b[0msubmission\u001b[0m\u001b[0;34m.\u001b[0m\u001b[0mto_csv\u001b[0m\u001b[0;34m(\u001b[0m\u001b[0;34m'weekly_sales predicted.csv'\u001b[0m\u001b[0;34m,\u001b[0m \u001b[0mindex\u001b[0m\u001b[0;34m=\u001b[0m\u001b[0;32mFalse\u001b[0m\u001b[0;34m)\u001b[0m\u001b[0;34m\u001b[0m\u001b[0;34m\u001b[0m\u001b[0m\n\u001b[0;32m----> 8\u001b[0;31m \u001b[0msubmission\u001b[0m\u001b[0;34m.\u001b[0m\u001b[0mto_excel\u001b[0m\u001b[0;34m(\u001b[0m\u001b[0mwriter\u001b[0m\u001b[0;34m,\u001b[0m\u001b[0;34m'Weekly_sales Pred'\u001b[0m\u001b[0;34m,\u001b[0m\u001b[0mindex\u001b[0m\u001b[0;34m=\u001b[0m\u001b[0;32mFalse\u001b[0m\u001b[0;34m)\u001b[0m\u001b[0;34m\u001b[0m\u001b[0;34m\u001b[0m\u001b[0m\n\u001b[0m",
            "\u001b[0;31mNameError\u001b[0m: name 'writer' is not defined"
          ]
        }
      ]
    },
    {
      "cell_type": "code",
      "metadata": {
        "id": "3HFRty6oucNh",
        "colab_type": "code",
        "colab": {}
      },
      "source": [
        ""
      ],
      "execution_count": 0,
      "outputs": []
    },
    {
      "cell_type": "markdown",
      "metadata": {
        "id": "hGagkDt0XWRY",
        "colab_type": "text"
      },
      "source": [
        "---\n",
        "## *******  END  *******\n",
        "---"
      ]
    },
    {
      "cell_type": "code",
      "metadata": {
        "id": "FQcbzRjrXdnQ",
        "colab_type": "code",
        "colab": {}
      },
      "source": [
        ""
      ],
      "execution_count": 0,
      "outputs": []
    }
  ]
}